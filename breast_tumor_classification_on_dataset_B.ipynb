{
  "metadata": {
    "kernelspec": {
      "language": "python",
      "display_name": "Python 3",
      "name": "python3"
    },
    "language_info": {
      "pygments_lexer": "ipython3",
      "nbconvert_exporter": "python",
      "version": "3.6.4",
      "file_extension": ".py",
      "codemirror_mode": {
        "name": "ipython",
        "version": 3
      },
      "name": "python",
      "mimetype": "text/x-python"
    },
    "colab": {
      "provenance": []
    },
    "gpuClass": "standard"
  },
  "nbformat_minor": 0,
  "nbformat": 4,
  "cells": [
    {
      "cell_type": "markdown",
      "source": [
        "# Import Required Libaries"
      ],
      "metadata": {
        "id": "l3qVSv2tA0JM"
      }
    },
    {
      "cell_type": "code",
      "source": [
        "import os\n",
        "import cv2\n",
        "import glob\n",
        "import numpy as np\n",
        "import pandas as pd\n",
        "import tensorflow as tf\n",
        "from sklearn import metrics\n",
        "from sklearn import preprocessing\n",
        "from keras.utils import normalize\n",
        "from keras.models import model_from_json\n",
        "import matplotlib.pyplot as plt\n",
        "from datetime import datetime\n",
        "from sklearn.model_selection import train_test_split\n",
        "from sklearn.tree import DecisionTreeClassifier\n",
        "from sklearn.neural_network import MLPClassifier\n",
        "from sklearn.neighbors import KNeighborsClassifier\n",
        "from sklearn.ensemble import RandomForestClassifier\n",
        "from sklearn.ensemble import AdaBoostClassifier\n",
        "from sklearn.ensemble import GradientBoostingClassifier\n",
        "from sklearn.ensemble import VotingClassifier\n",
        "from keras.applications.resnet_v2 import ResNet101V2"
      ],
      "metadata": {
        "id": "7S0FFAoFAsPo",
        "execution": {
          "iopub.status.busy": "2022-12-16T15:58:42.756028Z",
          "iopub.execute_input": "2022-12-16T15:58:42.756481Z",
          "iopub.status.idle": "2022-12-16T15:58:48.964223Z",
          "shell.execute_reply.started": "2022-12-16T15:58:42.756378Z",
          "shell.execute_reply": "2022-12-16T15:58:48.963168Z"
        },
        "trusted": true
      },
      "execution_count": null,
      "outputs": []
    },
    {
      "cell_type": "code",
      "source": [
        "classLabels=['benign', 'malignant']\n",
        "n_classes = len(classLabels)\n",
        "SIZE = 224\n",
        "path_US = '/content/drive/MyDrive/Datasets/Dataset-B/images/*'\n",
        "path_fused = '/content/drive/MyDrive/Datasets/Dataset-B/Fused/*'"
      ],
      "metadata": {
        "id": "WafP2Jg8CAk8",
        "execution": {
          "iopub.status.busy": "2022-12-16T15:58:51.073797Z",
          "iopub.execute_input": "2022-12-16T15:58:51.074420Z",
          "iopub.status.idle": "2022-12-16T15:58:51.080853Z",
          "shell.execute_reply.started": "2022-12-16T15:58:51.074386Z",
          "shell.execute_reply": "2022-12-16T15:58:51.079323Z"
        },
        "trusted": true
      },
      "execution_count": null,
      "outputs": []
    },
    {
      "cell_type": "code",
      "source": [
        "from google.colab import drive\n",
        "drive.mount('/content/drive')"
      ],
      "metadata": {
        "colab": {
          "base_uri": "https://localhost:8080/"
        },
        "id": "wN0lwdXQld2b",
        "outputId": "cc61c59c-0a40-4a91-af60-237c6c67116e"
      },
      "execution_count": null,
      "outputs": [
        {
          "output_type": "stream",
          "name": "stdout",
          "text": [
            "Mounted at /content/drive\n"
          ]
        }
      ]
    },
    {
      "cell_type": "markdown",
      "source": [
        "# Function Utilities"
      ],
      "metadata": {
        "id": "yV7IB8CgA80s"
      }
    },
    {
      "cell_type": "code",
      "source": [
        "# ResNet101V2 Model\n",
        "def create_model(X_train, y_train, x_test, y_test, SIZE, model_type):\n",
        "  model =  model_type(weights='imagenet', include_top=False, input_shape=(SIZE, SIZE, 3))\n",
        "\n",
        "  for layer in model.layers:\n",
        "    layer.trainable = False\n",
        "  # Flatten the output layer to 1 dimension\n",
        "  x = tf.keras.layers.Flatten()(model.output)\n",
        "\n",
        "  # Add a fully connected layer with 512 hidden units and ReLU activation\n",
        "  x = tf.keras.layers.Dense(512, activation='relu')(x)\n",
        "\n",
        "  # Add a dropout rate of 0.3\n",
        "  x = tf.keras.layers.Dropout(0.3)(x)\n",
        "\n",
        "  # Add a batch normalization layer\n",
        "  x = tf.keras.layers.BatchNormalization()(x)\n",
        "\n",
        "  x = tf.keras.layers.Dense(120, activation='relu')(x)\n",
        "\n",
        "  # Add a dropout rate of 0.2\n",
        "  x = tf.keras.layers.Dropout(0.2)(x)\n",
        "\n",
        "  # Add a batch normalization layer\n",
        "  x = tf.keras.layers.BatchNormalization()(x)\n",
        "\n",
        "  # Add a final sigmoid layer for classification\n",
        "  x = tf.keras.layers.Dense(1 , activation='sigmoid')(x)\n",
        "\n",
        "  model = tf.keras.Model(model.input, x)\n",
        "\n",
        "\n",
        "  model.compile(loss='binary_crossentropy', optimizer='adam', metrics=['accuracy'])\n",
        "  print(\"Model successfully compiled\")\n",
        "\n",
        "  es = tf.keras.callbacks.EarlyStopping(monitor='val_loss', mode='min', verbose=1, patience=20)\n",
        "  csv_logger = tf.keras.callbacks.CSVLogger('training.log')\n",
        "\n",
        "  # Data Augmentation\n",
        "\n",
        "  datagen = ImageDataGenerator(rotation_range=15, width_shift_range=0.1, height_shift_range=0.1, horizontal_flip=True)\n",
        "\n",
        "  datagen.fit(X_train)\n",
        "\n",
        "  start = datetime.now()\n",
        "\n",
        "  history = model.fit(datagen.flow(X_train,y_train), epochs=125,verbose=1, validation_data=(x_test,y_test), callbacks=[es,csv_logger])\n",
        "\n",
        "  stop = datetime.now()\n",
        "\n",
        "  training_time = stop - start\n",
        "\n",
        "  print('Model training time is :', training_time)\n",
        "\n",
        "  plot_history(history)\n",
        "\n",
        "  #save to disk\n",
        "\n",
        "  model_json = model.to_json()\n",
        "  model_name = model_type + \"_model.h5\"\n",
        "  json_name = model_type + \"_model.json\"\n",
        "\n",
        "  with open(json_name, 'w') as json_file:\n",
        "    json_file.write(model_json)\n",
        "  model.save_weights(model_name)\n",
        "\n",
        "  return history"
      ],
      "metadata": {
        "execution": {
          "iopub.status.busy": "2022-12-16T15:58:53.779916Z",
          "iopub.execute_input": "2022-12-16T15:58:53.780286Z",
          "iopub.status.idle": "2022-12-16T15:58:53.795263Z",
          "shell.execute_reply.started": "2022-12-16T15:58:53.780254Z",
          "shell.execute_reply": "2022-12-16T15:58:53.794272Z"
        },
        "trusted": true,
        "id": "nL5IYDA5jleW"
      },
      "execution_count": null,
      "outputs": []
    },
    {
      "cell_type": "code",
      "source": [
        "# Plot training history\n",
        "def plot_history(history=None):\n",
        "    train_loss = history.history['loss']\n",
        "    val_loss = history.history['val_loss']\n",
        "    train_acc = history.history['accuracy']\n",
        "    val_acc = history.history['val_accuracy']\n",
        "\n",
        "    epochsn = np.arange(1, len(train_loss)+1)\n",
        "    plt.figure(figsize = (20,7))\n",
        "\n",
        "    plt.subplot(1,3,1)\n",
        "    plt.plot(epochsn,train_loss, 'b', label='Training Loss')\n",
        "    plt.plot(epochsn,val_loss, 'r', label='Validation Loss')\n",
        "    plt.grid(color='gray', linestyle='--')\n",
        "    plt.legend()\n",
        "    plt.title('Training Loss vs Validation Loss')\n",
        "    plt.xlabel('Epochs')\n",
        "    plt.ylabel('Loss')\n",
        "\n",
        "    plt.subplot(1,3,2)\n",
        "    plt.plot(epochsn, train_acc, 'b', label='Training Accuracy')\n",
        "    plt.plot(epochsn, val_acc, 'r', label='Validation Accuracy')\n",
        "    plt.grid(color='gray', linestyle='--')\n",
        "    plt.legend()\n",
        "    plt.title('Training Accuracy vs Validation Accuracy')\n",
        "    plt.xlabel('Epochs')\n",
        "    plt.ylabel('Accuracy')\n",
        "\n",
        "    plt.show()"
      ],
      "metadata": {
        "execution": {
          "iopub.status.busy": "2022-12-16T15:58:55.961866Z",
          "iopub.execute_input": "2022-12-16T15:58:55.962237Z",
          "iopub.status.idle": "2022-12-16T15:58:55.971298Z",
          "shell.execute_reply.started": "2022-12-16T15:58:55.962204Z",
          "shell.execute_reply": "2022-12-16T15:58:55.969852Z"
        },
        "trusted": true,
        "id": "u3HrB-w-jleX"
      },
      "execution_count": null,
      "outputs": []
    },
    {
      "cell_type": "code",
      "source": [
        "# One-Hot Encoding\n",
        "def one_hot_encode(x):\n",
        "    #Encode labels from text to integers.\n",
        "    le = preprocessing.LabelEncoder()\n",
        "\n",
        "    le.fit(x)\n",
        "\n",
        "    encoded = le.transform(x)\n",
        "    return encoded"
      ],
      "metadata": {
        "id": "cMCWHOPnBHXv",
        "execution": {
          "iopub.status.busy": "2022-12-16T15:58:57.654319Z",
          "iopub.execute_input": "2022-12-16T15:58:57.655297Z",
          "iopub.status.idle": "2022-12-16T15:58:57.661506Z",
          "shell.execute_reply.started": "2022-12-16T15:58:57.655238Z",
          "shell.execute_reply": "2022-12-16T15:58:57.660342Z"
        },
        "trusted": true
      },
      "execution_count": null,
      "outputs": []
    },
    {
      "cell_type": "code",
      "source": [
        "# Load Dataset\n",
        "def load_data(SIZE, path):\n",
        "    train_images = []\n",
        "    # pr_train_images = []\n",
        "    train_labels = []\n",
        "\n",
        "    for directory_path in glob.glob(path):\n",
        "        label = directory_path.split(\"/\")[-1]\n",
        "        #print(label)\n",
        "        for img_path in glob.glob(os.path.join(directory_path, \"*.png\")):\n",
        "            #print(img_path)\n",
        "            img = cv2.imread(img_path, 1)\n",
        "            img = cv2.resize(img, (SIZE, SIZE))\n",
        "            train_images.append(img)\n",
        "            train_labels.append(label)\n",
        "    #Convert lists to arrays\n",
        "    train_images = np.array(train_images)\n",
        "    train_labels = np.array(train_labels)\n",
        "    # pr_train_images = np.array(pr_train_images)\n",
        "    return train_images, train_labels"
      ],
      "metadata": {
        "id": "2h37O7RABLWs",
        "execution": {
          "iopub.status.busy": "2022-12-16T15:58:59.019232Z",
          "iopub.execute_input": "2022-12-16T15:58:59.019647Z",
          "iopub.status.idle": "2022-12-16T15:58:59.027241Z",
          "shell.execute_reply.started": "2022-12-16T15:58:59.019610Z",
          "shell.execute_reply": "2022-12-16T15:58:59.025980Z"
        },
        "trusted": true
      },
      "execution_count": null,
      "outputs": []
    },
    {
      "cell_type": "code",
      "source": [
        "def random_rotation(x_image, y_image):\n",
        "    rows_x,cols_x, chl_x = x_image.shape\n",
        "    #rows_y,cols_y = y_image.shape\n",
        "    rand_num = np.random.randint(-40,40)\n",
        "    M1 = cv2.getRotationMatrix2D((cols_x/2,rows_x/2),rand_num,1)\n",
        "    #M2 = cv2.getRotationMatrix2D((cols_y/2,rows_y/2),rand_num,1)\n",
        "    x_image = cv2.warpAffine(x_image,M1,(cols_x,rows_x))\n",
        "    #y_image = cv2.warpAffine(y_image.astype('float32'),M2,(cols_y,rows_y))\n",
        "    return x_image, y_image.astype('int')"
      ],
      "metadata": {
        "id": "VTYB3VfRBNv0",
        "execution": {
          "iopub.status.busy": "2022-12-16T15:59:01.030410Z",
          "iopub.execute_input": "2022-12-16T15:59:01.031127Z",
          "iopub.status.idle": "2022-12-16T15:59:01.037609Z",
          "shell.execute_reply.started": "2022-12-16T15:59:01.031090Z",
          "shell.execute_reply": "2022-12-16T15:59:01.036324Z"
        },
        "trusted": true
      },
      "execution_count": null,
      "outputs": []
    },
    {
      "cell_type": "code",
      "source": [
        "def horizontal_flip(x_image, y_image):\n",
        "    x_image = cv2.flip(x_image, 1)\n",
        "    #y_image = cv2.flip(y_image.astype('float32'), 1)\n",
        "    return x_image, y_image.astype('int')"
      ],
      "metadata": {
        "id": "kxWNzR-7BRSM",
        "execution": {
          "iopub.status.busy": "2022-12-16T15:59:03.002044Z",
          "iopub.execute_input": "2022-12-16T15:59:03.002457Z",
          "iopub.status.idle": "2022-12-16T15:59:03.008048Z",
          "shell.execute_reply.started": "2022-12-16T15:59:03.002420Z",
          "shell.execute_reply": "2022-12-16T15:59:03.006846Z"
        },
        "trusted": true
      },
      "execution_count": null,
      "outputs": []
    },
    {
      "cell_type": "code",
      "source": [
        "def img_augmentation(x_train, y_train):\n",
        "    x_rotat = []\n",
        "    y_rotat = []\n",
        "    x_flip = []\n",
        "    y_flip = []\n",
        "    #print(len(x_train))\n",
        "    for idx in range(len(x_train)):\n",
        "        #print(\"Augmented image \",idx)\n",
        "        x,y = random_rotation(x_train[idx], y_train[idx])\n",
        "        x_rotat.append(x)\n",
        "        y_rotat.append(y)\n",
        "\n",
        "        x,y = horizontal_flip(x_train[idx], y_train[idx])\n",
        "        x_flip.append(x)\n",
        "        y_flip.append(y)\n",
        "    return np.array(x_rotat), np.array(y_rotat), np.array(x_flip), np.array(y_flip)"
      ],
      "metadata": {
        "id": "nBgQlo1dBTN5",
        "execution": {
          "iopub.status.busy": "2022-12-16T15:59:04.624526Z",
          "iopub.execute_input": "2022-12-16T15:59:04.625227Z",
          "iopub.status.idle": "2022-12-16T15:59:04.632115Z",
          "shell.execute_reply.started": "2022-12-16T15:59:04.625189Z",
          "shell.execute_reply": "2022-12-16T15:59:04.631037Z"
        },
        "trusted": true
      },
      "execution_count": null,
      "outputs": []
    },
    {
      "cell_type": "code",
      "source": [
        "# Load CNN model for feature extraction\n",
        "def load_cnn_model(path_jason, path_model):\n",
        "\t# load json and create model\n",
        "\tjson_file = open(path_jason, 'r')\n",
        "\tloaded_model_json = json_file.read()\n",
        "\tjson_file.close()\n",
        "\tloaded_model = model_from_json(loaded_model_json)\n",
        "\t# load weights into new model\n",
        "\tloaded_model.load_weights(path_model)\n",
        "\treturn loaded_model"
      ],
      "metadata": {
        "id": "GfNFrQooBc2W",
        "execution": {
          "iopub.status.busy": "2022-12-16T15:59:06.725255Z",
          "iopub.execute_input": "2022-12-16T15:59:06.725750Z",
          "iopub.status.idle": "2022-12-16T15:59:06.732982Z",
          "shell.execute_reply.started": "2022-12-16T15:59:06.725707Z",
          "shell.execute_reply": "2022-12-16T15:59:06.731874Z"
        },
        "trusted": true
      },
      "execution_count": null,
      "outputs": []
    },
    {
      "cell_type": "code",
      "source": [
        "# Get feature vector\n",
        "def get_feature_layer(model, data):\n",
        "\ttotal_layers = len(model.layers)\n",
        "\n",
        "\tfl_index = total_layers-2\n",
        "\tfeature_layer_model = tf.keras.Model(inputs=model.input, outputs=model.get_layer(index=fl_index).output)\n",
        "\n",
        "\tfeature_layer_output = feature_layer_model.predict(data)\n",
        "\n",
        "\trows,cols = np.shape(feature_layer_output)\n",
        "\n",
        "\tprint(\"Number of features extracted: \",cols)\n",
        "\n",
        "\treturn feature_layer_output"
      ],
      "metadata": {
        "id": "lveiXXO8BeX8",
        "execution": {
          "iopub.status.busy": "2022-12-16T15:59:08.614559Z",
          "iopub.execute_input": "2022-12-16T15:59:08.615181Z",
          "iopub.status.idle": "2022-12-16T15:59:08.621711Z",
          "shell.execute_reply.started": "2022-12-16T15:59:08.615143Z",
          "shell.execute_reply": "2022-12-16T15:59:08.620389Z"
        },
        "trusted": true
      },
      "execution_count": null,
      "outputs": []
    },
    {
      "cell_type": "code",
      "source": [
        "# Initialize the multilayer perceptron classifier\n",
        "mlp = MLPClassifier()\n",
        "\n",
        "# Initialize the k-nearest neighbors classifier\n",
        "knn = KNeighborsClassifier()\n",
        "\n",
        "# Initialize the random forest classifier\n",
        "rf = RandomForestClassifier()\n",
        "\n",
        "# Initialize the gradient boosting classifier\n",
        "gb = GradientBoostingClassifier()\n",
        "\n",
        "# Create a voting classifier with weights for the individual classifiers\n",
        "clf = VotingClassifier(\n",
        "    estimators=[('mlp', mlp), ('knn', knn), ('rf', rf), ('gb', gb)],\n",
        "    weights=[1, 1, 2, 1], voting='soft')\n",
        "\n",
        "\n",
        "classifiers = ['RandomForest',\n",
        "               'AdaBoost',  'DecisionTree',\n",
        "               'KNeighbors','MLP','GradientBoosting', 'Proposed']\n",
        "models = [RandomForestClassifier(n_estimators=200, random_state=0),\n",
        "          AdaBoostClassifier(random_state = 0),\n",
        "          DecisionTreeClassifier(random_state=0),\n",
        "          KNeighborsClassifier(),\n",
        "          MLPClassifier(hidden_layer_sizes=(150,100,50), max_iter=300,activation = 'relu',solver='adam',random_state=1),\n",
        "          GradientBoostingClassifier(random_state=0),\n",
        "          clf]"
      ],
      "metadata": {
        "id": "E_HtKP8fGXyN",
        "execution": {
          "iopub.status.busy": "2022-12-16T15:59:10.379582Z",
          "iopub.execute_input": "2022-12-16T15:59:10.380285Z",
          "iopub.status.idle": "2022-12-16T15:59:10.388321Z",
          "shell.execute_reply.started": "2022-12-16T15:59:10.380249Z",
          "shell.execute_reply": "2022-12-16T15:59:10.387274Z"
        },
        "trusted": true
      },
      "execution_count": null,
      "outputs": []
    },
    {
      "cell_type": "code",
      "source": [
        "# Score of classifiers\n",
        "def acc_score(X_train,X_test,Y_train,y_true):\n",
        "    Score = pd.DataFrame({\"Classifier\":classifiers})\n",
        "\n",
        "    acc = []\n",
        "    pr = []\n",
        "    re = []\n",
        "    f1 = []\n",
        "    auc = []\n",
        "    sen = []\n",
        "    spec = []\n",
        "\n",
        "    for i in models:\n",
        "        model = i\n",
        "        model.fit(X_train,Y_train)\n",
        "        y_pred = model.predict(X_test)\n",
        "\n",
        "        # Compute accuracy, precision, and recall\n",
        "        acc.append(metrics.accuracy_score(y_true, y_pred))\n",
        "        pr.append(metrics.precision_score(y_true, y_pred))\n",
        "        re.append(metrics.recall_score(y_true, y_pred))\n",
        "        f1.append(metrics.f1_score(y_true, y_pred))\n",
        "\n",
        "        # Compute area under the ROC curve\n",
        "        area = metrics.roc_auc_score(y_true, model.predict_proba(X_test)[:,1])\n",
        "        auc.append(area)\n",
        "\n",
        "        # Compute sensitivity and specificity\n",
        "        confusion_matrix = metrics.confusion_matrix(y_true, y_pred)\n",
        "        true_positive = confusion_matrix[1][1]\n",
        "        false_negative = confusion_matrix[1][0]\n",
        "        true_negative = confusion_matrix[0][0]\n",
        "        false_positive = confusion_matrix[0][1]\n",
        "        sensitivity = true_positive / (true_positive + false_negative)\n",
        "        specificity = true_negative / (true_negative + false_positive)\n",
        "        sen.append(sensitivity)\n",
        "        spec.append(specificity)\n",
        "\n",
        "    Score[\"Accuracy\"] = acc\n",
        "    Score[\"Precision\"] = pr\n",
        "    Score[\"Recall\"] = re\n",
        "    Score[\"Sensitivity\"] = sen\n",
        "    Score[\"Specificity\"] = spec\n",
        "    Score[\"F1_Score\"] = f1\n",
        "    Score[\"ROC_AUC\"] = auc\n",
        "\n",
        "\n",
        "    Score.sort_values(by=\"F1_Score\", ascending=False,inplace = True)\n",
        "    Score.reset_index(drop=True, inplace=True)\n",
        "    return Score"
      ],
      "metadata": {
        "id": "R-vjWSScBqnV",
        "execution": {
          "iopub.status.busy": "2022-12-16T15:59:12.174519Z",
          "iopub.execute_input": "2022-12-16T15:59:12.175516Z",
          "iopub.status.idle": "2022-12-16T15:59:12.189174Z",
          "shell.execute_reply.started": "2022-12-16T15:59:12.175449Z",
          "shell.execute_reply": "2022-12-16T15:59:12.188163Z"
        },
        "trusted": true
      },
      "execution_count": null,
      "outputs": []
    },
    {
      "cell_type": "code",
      "source": [
        "def evaluate_performance(y_true, y_pred):\n",
        "    from sklearn.metrics import accuracy_score, precision_score, recall_score, f1_score, roc_auc_score, confusion_matrix\n",
        "\n",
        "    # Calculate accuracy\n",
        "    accuracy = accuracy_score(y_true, y_pred)\n",
        "\n",
        "    # Calculate precision\n",
        "    precision = precision_score(y_true, y_pred, average='micro')\n",
        "\n",
        "    # Calculate recall\n",
        "    recall = recall_score(y_true, y_pred, average='micro')\n",
        "\n",
        "    # Calculate F1 score\n",
        "    f1 = f1_score(y_true, y_pred, average='micro')\n",
        "\n",
        "    # Calculate specificity\n",
        "    cm = confusion_matrix(y_true, y_pred)\n",
        "\n",
        "    true_positive = cm[1][1]\n",
        "    false_negative = cm[1][0]\n",
        "    true_negative = cm[0][0]\n",
        "    false_positive = cm[0][1]\n",
        "    sensitivity = true_positive / (true_positive + false_negative)\n",
        "    specificity = true_negative / (true_negative + false_positive)\n",
        "\n",
        "    # Calculate ROC AUC\n",
        "    roc_auc = roc_auc_score(y_true, y_pred)\n",
        "\n",
        "    return accuracy, precision, recall, specificity, f1, roc_auc"
      ],
      "metadata": {
        "execution": {
          "iopub.status.busy": "2022-12-16T15:59:13.617969Z",
          "iopub.execute_input": "2022-12-16T15:59:13.618810Z",
          "iopub.status.idle": "2022-12-16T15:59:13.628064Z",
          "shell.execute_reply.started": "2022-12-16T15:59:13.618746Z",
          "shell.execute_reply": "2022-12-16T15:59:13.627055Z"
        },
        "trusted": true,
        "id": "zJNp5RUyjlee"
      },
      "execution_count": null,
      "outputs": []
    },
    {
      "cell_type": "code",
      "source": [
        "def visualize(train_images, test_images ):\n",
        "  # Load the train and test images\n",
        "\n",
        "\n",
        "  # Create a figure with subplots\n",
        "  fig, axes = plt.subplots(nrows=1, ncols=2)\n",
        "\n",
        "  # Draw the first train image on the first subplot\n",
        "  axes[0].imshow(train_images[0], cmap='gray')\n",
        "  axes[0].set_title('Train Image')\n",
        "\n",
        "  # Draw the first test image on the second subplot\n",
        "  axes[1].imshow(test_images[0], cmap='gray')\n",
        "  axes[1].set_title('Test Image')\n",
        "\n",
        "  # Show the plot\n",
        "  plt.show()"
      ],
      "metadata": {
        "id": "V9H5O18DOucW",
        "execution": {
          "iopub.status.busy": "2022-12-16T15:59:15.767295Z",
          "iopub.execute_input": "2022-12-16T15:59:15.767674Z",
          "iopub.status.idle": "2022-12-16T15:59:15.774319Z",
          "shell.execute_reply.started": "2022-12-16T15:59:15.767642Z",
          "shell.execute_reply": "2022-12-16T15:59:15.773115Z"
        },
        "trusted": true
      },
      "execution_count": null,
      "outputs": []
    },
    {
      "cell_type": "code",
      "source": [
        "def prob2binary(y_pred):\n",
        "  # Set the threshold value\n",
        "  threshold = 0.5\n",
        "\n",
        "  # Convert the continuous prediction values into discrete class labels\n",
        "  y_pred_class = np.where(y_pred > threshold, 1, 0)\n",
        "  return y_pred_class\n"
      ],
      "metadata": {
        "id": "WzuxDx9_q-zU"
      },
      "execution_count": null,
      "outputs": []
    },
    {
      "cell_type": "markdown",
      "source": [
        "# Non-Fused Dataset B"
      ],
      "metadata": {
        "id": "rF1DHrTyBwKH"
      }
    },
    {
      "cell_type": "markdown",
      "source": [
        "## Load Data"
      ],
      "metadata": {
        "id": "Qqem6e8pEa7c"
      }
    },
    {
      "cell_type": "code",
      "source": [
        "# Load Training Data\n",
        "X_US, Y_US = load_data(SIZE, path_US)\n",
        "print('Non Fused Dataset A loaded')\n",
        "X_train_US, X_test_US, y_train_US, y_test_US = train_test_split(X_US, Y_US, test_size=0.3, random_state=42)"
      ],
      "metadata": {
        "id": "Qlqh-c4gB1vO",
        "outputId": "35f4077e-067b-4db4-bcec-b11414e2e01c",
        "execution": {
          "iopub.status.busy": "2022-12-16T15:59:22.971094Z",
          "iopub.execute_input": "2022-12-16T15:59:22.971491Z",
          "iopub.status.idle": "2022-12-16T15:59:33.289997Z",
          "shell.execute_reply.started": "2022-12-16T15:59:22.971439Z",
          "shell.execute_reply": "2022-12-16T15:59:33.288945Z"
        },
        "trusted": true,
        "colab": {
          "base_uri": "https://localhost:8080/"
        }
      },
      "execution_count": null,
      "outputs": [
        {
          "output_type": "stream",
          "name": "stdout",
          "text": [
            "Non Fused Dataset A loaded\n"
          ]
        }
      ]
    },
    {
      "cell_type": "code",
      "source": [
        "#Visulaize the images\n",
        "visualize(X_train_US, X_test_US)"
      ],
      "metadata": {
        "execution": {
          "iopub.status.busy": "2022-12-16T15:58:15.984232Z",
          "iopub.execute_input": "2022-12-16T15:58:15.984621Z",
          "iopub.status.idle": "2022-12-16T15:58:16.260896Z",
          "shell.execute_reply.started": "2022-12-16T15:58:15.984587Z",
          "shell.execute_reply": "2022-12-16T15:58:16.259971Z"
        },
        "trusted": true,
        "colab": {
          "base_uri": "https://localhost:8080/",
          "height": 216
        },
        "id": "HgcISr52jleg",
        "outputId": "f14c1011-f626-4181-c576-a5e973fb872b"
      },
      "execution_count": null,
      "outputs": [
        {
          "output_type": "display_data",
          "data": {
            "text/plain": [
              "<Figure size 432x288 with 2 Axes>"
            ],
            "image/png": "[encoded data removed]"
          },
          "metadata": {
            "needs_background": "light"
          }
        }
      ]
    },
    {
      "cell_type": "code",
      "source": [
        "# Pre-process data\n",
        "X_train_US = normalize(X_train_US, axis=1)\n",
        "y_train_US = one_hot_encode(y_train_US)\n",
        "\n",
        "\n",
        "test_data = normalize(X_test_US, axis=1)\n",
        "test_labels = one_hot_encode(y_test_US)"
      ],
      "metadata": {
        "id": "OZpoC-6sCTz4",
        "execution": {
          "iopub.status.busy": "2022-12-16T15:59:36.196819Z",
          "iopub.execute_input": "2022-12-16T15:59:36.197184Z",
          "iopub.status.idle": "2022-12-16T15:59:37.498065Z",
          "shell.execute_reply.started": "2022-12-16T15:59:36.197153Z",
          "shell.execute_reply": "2022-12-16T15:59:37.496929Z"
        },
        "trusted": true
      },
      "execution_count": null,
      "outputs": []
    },
    {
      "cell_type": "code",
      "source": [
        "# Apply augmentation\n",
        "x_rotated, y_rotated, x_flipped, y_flipped = img_augmentation(X_train_US, y_train_US)\n",
        "\n",
        "# Combine the whole training data\n",
        "\n",
        "data = np.concatenate([X_train_US, x_rotated, x_flipped])\n",
        "labels = np.concatenate([y_train_US, y_rotated, y_flipped])\n",
        "\n",
        "print('Shape of X_train:', np.shape(data))\n",
        "print('Shape of y_train:', np.shape(labels))"
      ],
      "metadata": {
        "id": "doETWoIfCe7s",
        "outputId": "da9bb982-a207-4747-d0b2-2933fbc44784",
        "execution": {
          "iopub.status.busy": "2022-12-16T15:59:49.760447Z",
          "iopub.execute_input": "2022-12-16T15:59:49.761546Z",
          "iopub.status.idle": "2022-12-16T15:59:52.302856Z",
          "shell.execute_reply.started": "2022-12-16T15:59:49.761492Z",
          "shell.execute_reply": "2022-12-16T15:59:52.301740Z"
        },
        "trusted": true,
        "colab": {
          "base_uri": "https://localhost:8080/"
        }
      },
      "execution_count": null,
      "outputs": [
        {
          "output_type": "stream",
          "name": "stdout",
          "text": [
            "Shape of X_train: (453, 224, 224, 3)\n",
            "Shape of y_train: (453,)\n"
          ]
        }
      ]
    },
    {
      "cell_type": "code",
      "source": [
        "train_data, val_data, train_labels, val_labels = train_test_split(data, labels, test_size=0.2, random_state=42)"
      ],
      "metadata": {
        "execution": {
          "iopub.status.busy": "2022-12-16T15:59:54.065921Z",
          "iopub.execute_input": "2022-12-16T15:59:54.066292Z",
          "iopub.status.idle": "2022-12-16T15:59:54.627418Z",
          "shell.execute_reply.started": "2022-12-16T15:59:54.066259Z",
          "shell.execute_reply": "2022-12-16T15:59:54.626342Z"
        },
        "trusted": true,
        "id": "OmCpiACUjleh"
      },
      "execution_count": null,
      "outputs": []
    },
    {
      "cell_type": "code",
      "source": [
        "print('Shape of training data:', np.shape(train_data))\n",
        "print('Shape of training labels:', np.shape(train_labels))\n",
        "\n",
        "print('Shape of validation data:', np.shape(val_data))\n",
        "print('Shape of validation labels:', np.shape(val_labels))\n",
        "\n",
        "print('Shape of test data:', np.shape(test_data))\n",
        "print('Shape of test labels:', np.shape(test_labels))"
      ],
      "metadata": {
        "execution": {
          "iopub.status.busy": "2022-12-16T15:59:56.548207Z",
          "iopub.execute_input": "2022-12-16T15:59:56.548626Z",
          "iopub.status.idle": "2022-12-16T15:59:56.558679Z",
          "shell.execute_reply.started": "2022-12-16T15:59:56.548590Z",
          "shell.execute_reply": "2022-12-16T15:59:56.555758Z"
        },
        "trusted": true,
        "colab": {
          "base_uri": "https://localhost:8080/"
        },
        "id": "-xhgeOWrjleh",
        "outputId": "d21c1939-b7c3-46af-d206-2c0907ef03fb"
      },
      "execution_count": null,
      "outputs": [
        {
          "output_type": "stream",
          "name": "stdout",
          "text": [
            "Shape of training data: (362, 224, 224, 3)\n",
            "Shape of training labels: (362,)\n",
            "Shape of validation data: (91, 224, 224, 3)\n",
            "Shape of validation labels: (91,)\n",
            "Shape of test data: (66, 224, 224, 3)\n",
            "Shape of test labels: (66,)\n"
          ]
        }
      ]
    },
    {
      "cell_type": "markdown",
      "source": [
        "## Train Model"
      ],
      "metadata": {
        "id": "DKuIrztZjleh"
      }
    },
    {
      "cell_type": "code",
      "source": [
        "model_type = 'US'\n",
        "print('Build and save model')\n",
        "model_history = create_model(train_data, train_labels, val_data, val_labels, SIZE, model_type)"
      ],
      "metadata": {
        "execution": {
          "iopub.status.busy": "2022-12-16T09:42:43.624236Z",
          "iopub.execute_input": "2022-12-16T09:42:43.624854Z",
          "iopub.status.idle": "2022-12-16T10:01:54.303079Z",
          "shell.execute_reply.started": "2022-12-16T09:42:43.624809Z",
          "shell.execute_reply": "2022-12-16T10:01:54.302011Z"
        },
        "trusted": true,
        "colab": {
          "base_uri": "https://localhost:8080/",
          "height": 1000
        },
        "id": "OXk2Af6Vjleh",
        "outputId": "27127c4d-b710-48cf-e44e-1337ccfcdc25"
      },
      "execution_count": null,
      "outputs": [
        {
          "output_type": "stream",
          "name": "stdout",
          "text": [
            "Build and save model\n",
            "Downloading data from https://storage.googleapis.com/tensorflow/keras-applications/resnet/resnet101v2_weights_tf_dim_ordering_tf_kernels_notop.h5\n",
            "171317808/171317808 [==============================] - 2s 0us/step\n",
            "Model successfully compiled\n",
            "Epoch 1/125\n",
            "12/12 [==============================] - 21s 632ms/step - loss: 0.6074 - accuracy: 0.7182 - val_loss: 0.4889 - val_accuracy: 0.8791\n",
            "Epoch 2/125\n",
            "12/12 [==============================] - 5s 407ms/step - loss: 0.3925 - accuracy: 0.8039 - val_loss: 0.2640 - val_accuracy: 0.9011\n",
            "Epoch 3/125\n",
            "12/12 [==============================] - 4s 363ms/step - loss: 0.3317 - accuracy: 0.8370 - val_loss: 0.3783 - val_accuracy: 0.8901\n",
            "Epoch 4/125\n",
            "12/12 [==============================] - 5s 370ms/step - loss: 0.2597 - accuracy: 0.8923 - val_loss: 0.5041 - val_accuracy: 0.8571\n",
            "Epoch 5/125\n",
            "12/12 [==============================] - 4s 390ms/step - loss: 0.2565 - accuracy: 0.8840 - val_loss: 0.3208 - val_accuracy: 0.8901\n",
            "Epoch 6/125\n",
            "12/12 [==============================] - 5s 371ms/step - loss: 0.2343 - accuracy: 0.8923 - val_loss: 0.2743 - val_accuracy: 0.9231\n",
            "Epoch 7/125\n",
            "12/12 [==============================] - 6s 476ms/step - loss: 0.2160 - accuracy: 0.9199 - val_loss: 0.3269 - val_accuracy: 0.8901\n",
            "Epoch 8/125\n",
            "12/12 [==============================] - 6s 475ms/step - loss: 0.1937 - accuracy: 0.9061 - val_loss: 0.3000 - val_accuracy: 0.9011\n",
            "Epoch 9/125\n",
            "12/12 [==============================] - 5s 369ms/step - loss: 0.1800 - accuracy: 0.9309 - val_loss: 0.2099 - val_accuracy: 0.9121\n",
            "Epoch 10/125\n",
            "12/12 [==============================] - 6s 521ms/step - loss: 0.2314 - accuracy: 0.9144 - val_loss: 0.2758 - val_accuracy: 0.9011\n",
            "Epoch 11/125\n",
            "12/12 [==============================] - 4s 362ms/step - loss: 0.1346 - accuracy: 0.9558 - val_loss: 0.3106 - val_accuracy: 0.9011\n",
            "Epoch 12/125\n",
            "12/12 [==============================] - 5s 417ms/step - loss: 0.1448 - accuracy: 0.9530 - val_loss: 0.2827 - val_accuracy: 0.9121\n",
            "Epoch 13/125\n",
            "12/12 [==============================] - 5s 438ms/step - loss: 0.1757 - accuracy: 0.9282 - val_loss: 0.2122 - val_accuracy: 0.9121\n",
            "Epoch 14/125\n",
            "12/12 [==============================] - 5s 442ms/step - loss: 0.1605 - accuracy: 0.9365 - val_loss: 0.2203 - val_accuracy: 0.9341\n",
            "Epoch 15/125\n",
            "12/12 [==============================] - 4s 364ms/step - loss: 0.1477 - accuracy: 0.9475 - val_loss: 0.2192 - val_accuracy: 0.9231\n",
            "Epoch 16/125\n",
            "12/12 [==============================] - 4s 364ms/step - loss: 0.1619 - accuracy: 0.9337 - val_loss: 0.1802 - val_accuracy: 0.9670\n",
            "Epoch 17/125\n",
            "12/12 [==============================] - 4s 362ms/step - loss: 0.1516 - accuracy: 0.9365 - val_loss: 0.2018 - val_accuracy: 0.9560\n",
            "Epoch 18/125\n",
            "12/12 [==============================] - 4s 366ms/step - loss: 0.1202 - accuracy: 0.9530 - val_loss: 0.2139 - val_accuracy: 0.9451\n",
            "Epoch 19/125\n",
            "12/12 [==============================] - 4s 393ms/step - loss: 0.1066 - accuracy: 0.9530 - val_loss: 0.2482 - val_accuracy: 0.9341\n",
            "Epoch 20/125\n",
            "12/12 [==============================] - 5s 372ms/step - loss: 0.1114 - accuracy: 0.9586 - val_loss: 0.1895 - val_accuracy: 0.9451\n",
            "Epoch 21/125\n",
            "12/12 [==============================] - 4s 393ms/step - loss: 0.1059 - accuracy: 0.9669 - val_loss: 0.1995 - val_accuracy: 0.9011\n",
            "Epoch 22/125\n",
            "12/12 [==============================] - 4s 365ms/step - loss: 0.1041 - accuracy: 0.9641 - val_loss: 0.2189 - val_accuracy: 0.9121\n",
            "Epoch 23/125\n",
            "12/12 [==============================] - 5s 395ms/step - loss: 0.0930 - accuracy: 0.9586 - val_loss: 0.2171 - val_accuracy: 0.9341\n",
            "Epoch 24/125\n",
            "12/12 [==============================] - 4s 368ms/step - loss: 0.1149 - accuracy: 0.9530 - val_loss: 0.2686 - val_accuracy: 0.9341\n",
            "Epoch 25/125\n",
            "12/12 [==============================] - 5s 370ms/step - loss: 0.0746 - accuracy: 0.9751 - val_loss: 0.2634 - val_accuracy: 0.9451\n",
            "Epoch 26/125\n",
            "12/12 [==============================] - 5s 371ms/step - loss: 0.0761 - accuracy: 0.9779 - val_loss: 0.2823 - val_accuracy: 0.9451\n",
            "Epoch 27/125\n",
            "12/12 [==============================] - 5s 431ms/step - loss: 0.0835 - accuracy: 0.9696 - val_loss: 0.2228 - val_accuracy: 0.9560\n",
            "Epoch 28/125\n",
            "12/12 [==============================] - 6s 451ms/step - loss: 0.0962 - accuracy: 0.9641 - val_loss: 0.1889 - val_accuracy: 0.9670\n",
            "Epoch 29/125\n",
            "12/12 [==============================] - 5s 421ms/step - loss: 0.0977 - accuracy: 0.9696 - val_loss: 0.1966 - val_accuracy: 0.9560\n",
            "Epoch 30/125\n",
            "12/12 [==============================] - 5s 370ms/step - loss: 0.0676 - accuracy: 0.9696 - val_loss: 0.2091 - val_accuracy: 0.9451\n",
            "Epoch 31/125\n",
            "12/12 [==============================] - 5s 417ms/step - loss: 0.0995 - accuracy: 0.9669 - val_loss: 0.1866 - val_accuracy: 0.9560\n",
            "Epoch 32/125\n",
            "12/12 [==============================] - 5s 370ms/step - loss: 0.0561 - accuracy: 0.9834 - val_loss: 0.2022 - val_accuracy: 0.9341\n",
            "Epoch 33/125\n",
            "12/12 [==============================] - 5s 402ms/step - loss: 0.0864 - accuracy: 0.9751 - val_loss: 0.2078 - val_accuracy: 0.9451\n",
            "Epoch 34/125\n",
            "12/12 [==============================] - 5s 371ms/step - loss: 0.0976 - accuracy: 0.9669 - val_loss: 0.2429 - val_accuracy: 0.9560\n",
            "Epoch 35/125\n",
            "12/12 [==============================] - 5s 371ms/step - loss: 0.0457 - accuracy: 0.9807 - val_loss: 0.2965 - val_accuracy: 0.9231\n",
            "Epoch 36/125\n",
            "12/12 [==============================] - 5s 402ms/step - loss: 0.1000 - accuracy: 0.9613 - val_loss: 0.2634 - val_accuracy: 0.9560\n",
            "Epoch 36: early stopping\n",
            "Model training time is : 0:03:15.017099\n"
          ]
        },
        {
          "output_type": "display_data",
          "data": {
            "text/plain": [
              "<Figure size 1440x504 with 2 Axes>"
            ],
            "image/png": "[encoded data removed]"
          },
          "metadata": {
            "needs_background": "light"
          }
        }
      ]
    },
    {
      "cell_type": "markdown",
      "source": [
        "## Evaluate CNN model"
      ],
      "metadata": {
        "id": "kZiTXF3_jleh"
      }
    },
    {
      "cell_type": "code",
      "source": [
        "\n",
        "path_jason_US = \"/content/US_model.json\"\n",
        "path_model_US = \"/content/US_model.h5\""
      ],
      "metadata": {
        "id": "Bhsc6EJVmmNl"
      },
      "execution_count": null,
      "outputs": []
    },
    {
      "cell_type": "code",
      "source": [
        "# Evaluate CNN model on validation and test data\n",
        "model = load_cnn_model(path_jason_US, path_model_US)\n",
        "\n",
        "# On validation data\n",
        "y_true_val = val_labels\n",
        "y_pred_val = model.predict(val_data)\n",
        "y_pred_val = prob2binary(y_pred_val).ravel()\n",
        "accuracy, precision, recall, specificity, f1, roc_auc = evaluate_performance(y_true_val, y_pred_val)\n",
        "\n",
        "print('Accuracy:', accuracy)\n",
        "print('Precision:', precision)\n",
        "print('Recall:', recall)\n",
        "print('Specificity:', specificity)\n",
        "print('F1 score:', f1)\n",
        "print('ROC AUC:', roc_auc)\n"
      ],
      "metadata": {
        "execution": {
          "iopub.status.busy": "2022-12-16T10:12:40.145606Z",
          "iopub.execute_input": "2022-12-16T10:12:40.146039Z",
          "iopub.status.idle": "2022-12-16T10:12:46.351714Z",
          "shell.execute_reply.started": "2022-12-16T10:12:40.146002Z",
          "shell.execute_reply": "2022-12-16T10:12:46.350568Z"
        },
        "trusted": true,
        "colab": {
          "base_uri": "https://localhost:8080/"
        },
        "id": "gu50FHOjjleh",
        "outputId": "c10f8b53-83e7-4ff4-fafd-c3b6195eb65f"
      },
      "execution_count": null,
      "outputs": [
        {
          "output_type": "stream",
          "name": "stdout",
          "text": [
            "3/3 [==============================] - 2s 168ms/step\n",
            "Accuracy: 0.9560439560439561\n",
            "Precision: 0.9560439560439561\n",
            "Recall: 0.9560439560439561\n",
            "Specificity: 0.9534883720930233\n",
            "F1 score: 0.9560439560439561\n",
            "ROC AUC: 0.9559108527131784\n"
          ]
        }
      ]
    },
    {
      "cell_type": "code",
      "source": [
        "#On test data\n",
        "y_true_test = test_labels\n",
        "y_pred_test = model.predict(test_data)\n",
        "y_pred_test = prob2binary(y_pred_test).ravel()\n",
        "accuracy, precision, recall, specificity, f1, roc_auc = evaluate_performance(y_true_test, y_pred_test)\n",
        "\n",
        "print('Accuracy:', accuracy)\n",
        "print('Precision:', precision)\n",
        "print('Recall:', recall)\n",
        "print('Specificity:', specificity)\n",
        "print('F1 score:', f1)\n",
        "print('ROC AUC:', roc_auc)"
      ],
      "metadata": {
        "execution": {
          "iopub.status.busy": "2022-12-16T10:24:24.118180Z",
          "iopub.execute_input": "2022-12-16T10:24:24.119192Z",
          "iopub.status.idle": "2022-12-16T10:24:25.340964Z",
          "shell.execute_reply.started": "2022-12-16T10:24:24.119154Z",
          "shell.execute_reply": "2022-12-16T10:24:25.339837Z"
        },
        "trusted": true,
        "colab": {
          "base_uri": "https://localhost:8080/"
        },
        "id": "q32fqnSDjlei",
        "outputId": "e9157b94-75aa-4ab9-bf07-c4709afe351b"
      },
      "execution_count": null,
      "outputs": [
        {
          "output_type": "stream",
          "name": "stdout",
          "text": [
            "3/3 [==============================] - 1s 423ms/step\n",
            "Accuracy: 0.8181818181818182\n",
            "Precision: 0.8181818181818182\n",
            "Recall: 0.8181818181818182\n",
            "Specificity: 0.7714285714285715\n",
            "F1 score: 0.8181818181818182\n",
            "ROC AUC: 0.8211981566820277\n"
          ]
        }
      ]
    },
    {
      "cell_type": "markdown",
      "source": [
        "## Feature Extraction"
      ],
      "metadata": {
        "id": "uB2tgk0JCnfH"
      }
    },
    {
      "cell_type": "code",
      "source": [
        "# Load model\n",
        "cnn_model_US = load_cnn_model(path_jason_US, path_model_US)\n",
        "print(\"Loaded CNN US model from disk\")"
      ],
      "metadata": {
        "id": "61Xp8t93CoWW",
        "outputId": "f3bea37b-8a1a-41e0-c06e-e4c1b30d0bee",
        "execution": {
          "iopub.status.busy": "2022-12-16T10:26:52.189621Z",
          "iopub.execute_input": "2022-12-16T10:26:52.190484Z",
          "iopub.status.idle": "2022-12-16T10:26:55.361186Z",
          "shell.execute_reply.started": "2022-12-16T10:26:52.190444Z",
          "shell.execute_reply": "2022-12-16T10:26:55.360067Z"
        },
        "trusted": true,
        "colab": {
          "base_uri": "https://localhost:8080/"
        }
      },
      "execution_count": null,
      "outputs": [
        {
          "output_type": "stream",
          "name": "stdout",
          "text": [
            "Loaded CNN US model from disk\n"
          ]
        }
      ]
    },
    {
      "cell_type": "code",
      "source": [
        "print(\"Extracting features from the Non Fused training data..........\")\n",
        "train_features_US =  get_feature_layer(cnn_model_US,train_data)"
      ],
      "metadata": {
        "id": "kWAx1shrDKxt",
        "outputId": "64e5d246-762b-4aea-eadc-05e91fc1cf2c",
        "execution": {
          "iopub.status.busy": "2022-12-16T10:26:59.284199Z",
          "iopub.execute_input": "2022-12-16T10:26:59.285187Z",
          "iopub.status.idle": "2022-12-16T10:27:06.249452Z",
          "shell.execute_reply.started": "2022-12-16T10:26:59.285146Z",
          "shell.execute_reply": "2022-12-16T10:27:06.248260Z"
        },
        "trusted": true,
        "colab": {
          "base_uri": "https://localhost:8080/"
        }
      },
      "execution_count": null,
      "outputs": [
        {
          "output_type": "stream",
          "name": "stdout",
          "text": [
            "Extracting features from the Non Fused training data..........\n",
            "12/12 [==============================] - 3s 146ms/step\n",
            "Number of features extracted:  120\n"
          ]
        }
      ]
    },
    {
      "cell_type": "code",
      "source": [
        "print(\"Extracting features from the Non Fused validation data..........\")\n",
        "val_features_US =  get_feature_layer(cnn_model_US,val_data)"
      ],
      "metadata": {
        "execution": {
          "iopub.status.busy": "2022-12-16T10:27:09.575438Z",
          "iopub.execute_input": "2022-12-16T10:27:09.576530Z",
          "iopub.status.idle": "2022-12-16T10:27:12.303019Z",
          "shell.execute_reply.started": "2022-12-16T10:27:09.576488Z",
          "shell.execute_reply": "2022-12-16T10:27:12.301966Z"
        },
        "trusted": true,
        "colab": {
          "base_uri": "https://localhost:8080/"
        },
        "id": "LW0Rmxcqjlej",
        "outputId": "5c2a13b5-a24e-4cf7-e5a1-b7912a4ddafc"
      },
      "execution_count": null,
      "outputs": [
        {
          "output_type": "stream",
          "name": "stdout",
          "text": [
            "Extracting features from the Non Fused validation data..........\n",
            "3/3 [==============================] - 2s 163ms/step\n",
            "Number of features extracted:  120\n"
          ]
        }
      ]
    },
    {
      "cell_type": "code",
      "source": [
        "print(\"Extracting features from the test data..........\")\n",
        "test_features_US =  get_feature_layer(cnn_model_US,test_data)"
      ],
      "metadata": {
        "id": "EuE-JytgDiTR",
        "outputId": "507731de-e96e-4aa6-dab6-499bc935d1f0",
        "execution": {
          "iopub.status.busy": "2022-12-16T10:27:23.084388Z",
          "iopub.execute_input": "2022-12-16T10:27:23.085432Z",
          "iopub.status.idle": "2022-12-16T10:27:26.149315Z",
          "shell.execute_reply.started": "2022-12-16T10:27:23.085392Z",
          "shell.execute_reply": "2022-12-16T10:27:26.148216Z"
        },
        "trusted": true,
        "colab": {
          "base_uri": "https://localhost:8080/"
        }
      },
      "execution_count": null,
      "outputs": [
        {
          "output_type": "stream",
          "name": "stdout",
          "text": [
            "Extracting features from the test data..........\n",
            "3/3 [==============================] - 2s 168ms/step\n",
            "Number of features extracted:  120\n"
          ]
        }
      ]
    },
    {
      "cell_type": "code",
      "source": [
        "print('Shape of train_features:', np.shape(train_features_US))\n",
        "\n",
        "print('Shape of train_labels :', np.shape(train_labels))\n",
        "\n",
        "print('Shape of val_features:', np.shape(val_features_US))\n",
        "\n",
        "print('Shape of val_labels :', np.shape(val_labels))\n",
        "\n",
        "print('Shape of test_features:', np.shape(test_features_US))\n",
        "\n",
        "print('Shape of test_labels :', np.shape(test_labels))"
      ],
      "metadata": {
        "id": "q2DnpmGjDwxe",
        "outputId": "ba0686eb-8965-495d-b957-18b2d8475640",
        "execution": {
          "iopub.status.busy": "2022-12-16T10:28:01.854683Z",
          "iopub.execute_input": "2022-12-16T10:28:01.855068Z",
          "iopub.status.idle": "2022-12-16T10:28:01.866752Z",
          "shell.execute_reply.started": "2022-12-16T10:28:01.855035Z",
          "shell.execute_reply": "2022-12-16T10:28:01.865119Z"
        },
        "trusted": true,
        "colab": {
          "base_uri": "https://localhost:8080/"
        }
      },
      "execution_count": null,
      "outputs": [
        {
          "output_type": "stream",
          "name": "stdout",
          "text": [
            "Shape of train_features: (362, 120)\n",
            "Shape of train_labels : (362,)\n",
            "Shape of val_features: (91, 120)\n",
            "Shape of val_labels : (91,)\n",
            "Shape of test_features: (66, 120)\n",
            "Shape of test_labels : (66,)\n"
          ]
        }
      ]
    },
    {
      "cell_type": "markdown",
      "source": [
        "## Evaluation"
      ],
      "metadata": {
        "id": "E4VhrbDvCngR"
      }
    },
    {
      "cell_type": "code",
      "source": [
        "# Scores on validation data\n",
        "scores_val = acc_score(train_features_US, val_features_US, train_labels, val_labels)\n",
        "\n",
        "# Sorting by column 'F1_Score'\n",
        "sorted_scores_val = scores_val.sort_values(by=['F1_Score'], ascending=False)"
      ],
      "metadata": {
        "id": "HnYVLL92EMG9",
        "execution": {
          "iopub.status.busy": "2022-12-16T10:29:24.568757Z",
          "iopub.execute_input": "2022-12-16T10:29:24.569132Z",
          "iopub.status.idle": "2022-12-16T10:29:43.774714Z",
          "shell.execute_reply.started": "2022-12-16T10:29:24.569102Z",
          "shell.execute_reply": "2022-12-16T10:29:43.773324Z"
        },
        "trusted": true
      },
      "execution_count": null,
      "outputs": []
    },
    {
      "cell_type": "code",
      "source": [
        "print(\"Results on non fused valdation dataset B \")\n",
        "print(\"-----------------------------\")\n",
        "sorted_scores_val.head(10)"
      ],
      "metadata": {
        "id": "aRtzrlNcLdAe",
        "outputId": "6cfd8a31-c3b4-4992-cc7e-31c4d6a1ed57",
        "execution": {
          "iopub.status.busy": "2022-12-16T10:29:46.541830Z",
          "iopub.execute_input": "2022-12-16T10:29:46.542243Z",
          "iopub.status.idle": "2022-12-16T10:29:46.566311Z",
          "shell.execute_reply.started": "2022-12-16T10:29:46.542209Z",
          "shell.execute_reply": "2022-12-16T10:29:46.565304Z"
        },
        "trusted": true,
        "colab": {
          "base_uri": "https://localhost:8080/",
          "height": 304
        }
      },
      "execution_count": null,
      "outputs": [
        {
          "output_type": "stream",
          "name": "stdout",
          "text": [
            "Results on non fused valdation dataset B \n",
            "-----------------------------\n"
          ]
        },
        {
          "output_type": "execute_result",
          "data": {
            "text/plain": [
              "         Classifier  Accuracy  Precision    Recall  Sensitivity  Specificity  \\\n",
              "0      RandomForest  0.923077   0.976744  0.875000     0.875000     0.976744   \n",
              "1          AdaBoost  0.923077   0.976744  0.875000     0.875000     0.976744   \n",
              "2        KNeighbors  0.923077   0.976744  0.875000     0.875000     0.976744   \n",
              "3          Proposed  0.923077   0.976744  0.875000     0.875000     0.976744   \n",
              "4      DecisionTree  0.923077   1.000000  0.854167     0.854167     1.000000   \n",
              "5               MLP  0.912088   0.976190  0.854167     0.854167     0.976744   \n",
              "6  GradientBoosting  0.890110   0.931818  0.854167     0.854167     0.930233   \n",
              "\n",
              "   F1_Score   ROC_AUC  \n",
              "0  0.923077  0.971415  \n",
              "1  0.923077  0.966085  \n",
              "2  0.923077  0.935562  \n",
              "3  0.923077  0.967054  \n",
              "4  0.921348  0.927083  \n",
              "5  0.911111  0.970930  \n",
              "6  0.891304  0.937742  "
            ],
            "text/html": [
              "\n",
              "  <div id=\"df-979e2f33-6c55-4286-a66c-f87959adb899\">\n",
              "    <div class=\"colab-df-container\">\n",
              "      <div>\n",
              "<style scoped>\n",
              "    .dataframe tbody tr th:only-of-type {\n",
              "        vertical-align: middle;\n",
              "    }\n",
              "\n",
              "    .dataframe tbody tr th {\n",
              "        vertical-align: top;\n",
              "    }\n",
              "\n",
              "    .dataframe thead th {\n",
              "        text-align: right;\n",
              "    }\n",
              "</style>\n",
              "<table border=\"1\" class=\"dataframe\">\n",
              "  <thead>\n",
              "    <tr style=\"text-align: right;\">\n",
              "      <th></th>\n",
              "      <th>Classifier</th>\n",
              "      <th>Accuracy</th>\n",
              "      <th>Precision</th>\n",
              "      <th>Recall</th>\n",
              "      <th>Sensitivity</th>\n",
              "      <th>Specificity</th>\n",
              "      <th>F1_Score</th>\n",
              "      <th>ROC_AUC</th>\n",
              "    </tr>\n",
              "  </thead>\n",
              "  <tbody>\n",
              "    <tr>\n",
              "      <th>0</th>\n",
              "      <td>RandomForest</td>\n",
              "      <td>0.923077</td>\n",
              "      <td>0.976744</td>\n",
              "      <td>0.875000</td>\n",
              "      <td>0.875000</td>\n",
              "      <td>0.976744</td>\n",
              "      <td>0.923077</td>\n",
              "      <td>0.971415</td>\n",
              "    </tr>\n",
              "    <tr>\n",
              "      <th>1</th>\n",
              "      <td>AdaBoost</td>\n",
              "      <td>0.923077</td>\n",
              "      <td>0.976744</td>\n",
              "      <td>0.875000</td>\n",
              "      <td>0.875000</td>\n",
              "      <td>0.976744</td>\n",
              "      <td>0.923077</td>\n",
              "      <td>0.966085</td>\n",
              "    </tr>\n",
              "    <tr>\n",
              "      <th>2</th>\n",
              "      <td>KNeighbors</td>\n",
              "      <td>0.923077</td>\n",
              "      <td>0.976744</td>\n",
              "      <td>0.875000</td>\n",
              "      <td>0.875000</td>\n",
              "      <td>0.976744</td>\n",
              "      <td>0.923077</td>\n",
              "      <td>0.935562</td>\n",
              "    </tr>\n",
              "    <tr>\n",
              "      <th>3</th>\n",
              "      <td>Proposed</td>\n",
              "      <td>0.923077</td>\n",
              "      <td>0.976744</td>\n",
              "      <td>0.875000</td>\n",
              "      <td>0.875000</td>\n",
              "      <td>0.976744</td>\n",
              "      <td>0.923077</td>\n",
              "      <td>0.967054</td>\n",
              "    </tr>\n",
              "    <tr>\n",
              "      <th>4</th>\n",
              "      <td>DecisionTree</td>\n",
              "      <td>0.923077</td>\n",
              "      <td>1.000000</td>\n",
              "      <td>0.854167</td>\n",
              "      <td>0.854167</td>\n",
              "      <td>1.000000</td>\n",
              "      <td>0.921348</td>\n",
              "      <td>0.927083</td>\n",
              "    </tr>\n",
              "    <tr>\n",
              "      <th>5</th>\n",
              "      <td>MLP</td>\n",
              "      <td>0.912088</td>\n",
              "      <td>0.976190</td>\n",
              "      <td>0.854167</td>\n",
              "      <td>0.854167</td>\n",
              "      <td>0.976744</td>\n",
              "      <td>0.911111</td>\n",
              "      <td>0.970930</td>\n",
              "    </tr>\n",
              "    <tr>\n",
              "      <th>6</th>\n",
              "      <td>GradientBoosting</td>\n",
              "      <td>0.890110</td>\n",
              "      <td>0.931818</td>\n",
              "      <td>0.854167</td>\n",
              "      <td>0.854167</td>\n",
              "      <td>0.930233</td>\n",
              "      <td>0.891304</td>\n",
              "      <td>0.937742</td>\n",
              "    </tr>\n",
              "  </tbody>\n",
              "</table>\n",
              "</div>\n",
              "      <button class=\"colab-df-convert\" onclick=\"convertToInteractive('df-979e2f33-6c55-4286-a66c-f87959adb899')\"\n",
              "              title=\"Convert this dataframe to an interactive table.\"\n",
              "              style=\"display:none;\">\n",
              "        \n",
              "  <svg xmlns=\"http://www.w3.org/2000/svg\" height=\"24px\"viewBox=\"0 0 24 24\"\n",
              "       width=\"24px\">\n",
              "    <path d=\"M0 0h24v24H0V0z\" fill=\"none\"/>\n",
              "    <path d=\"M18.56 5.44l.94 2.06.94-2.06 2.06-.94-2.06-.94-.94-2.06-.94 2.06-2.06.94zm-11 1L8.5 8.5l.94-2.06 2.06-.94-2.06-.94L8.5 2.5l-.94 2.06-2.06.94zm10 10l.94 2.06.94-2.06 2.06-.94-2.06-.94-.94-2.06-.94 2.06-2.06.94z\"/><path d=\"M17.41 7.96l-1.37-1.37c-.4-.4-.92-.59-1.43-.59-.52 0-1.04.2-1.43.59L10.3 9.45l-7.72 7.72c-.78.78-.78 2.05 0 2.83L4 21.41c.39.39.9.59 1.41.59.51 0 1.02-.2 1.41-.59l7.78-7.78 2.81-2.81c.8-.78.8-2.07 0-2.86zM5.41 20L4 18.59l7.72-7.72 1.47 1.35L5.41 20z\"/>\n",
              "  </svg>\n",
              "      </button>\n",
              "      \n",
              "  <style>\n",
              "    .colab-df-container {\n",
              "      display:flex;\n",
              "      flex-wrap:wrap;\n",
              "      gap: 12px;\n",
              "    }\n",
              "\n",
              "    .colab-df-convert {\n",
              "      background-color: #E8F0FE;\n",
              "      border: none;\n",
              "      border-radius: 50%;\n",
              "      cursor: pointer;\n",
              "      display: none;\n",
              "      fill: #1967D2;\n",
              "      height: 32px;\n",
              "      padding: 0 0 0 0;\n",
              "      width: 32px;\n",
              "    }\n",
              "\n",
              "    .colab-df-convert:hover {\n",
              "      background-color: #E2EBFA;\n",
              "      box-shadow: 0px 1px 2px rgba(60, 64, 67, 0.3), 0px 1px 3px 1px rgba(60, 64, 67, 0.15);\n",
              "      fill: #174EA6;\n",
              "    }\n",
              "\n",
              "    [theme=dark] .colab-df-convert {\n",
              "      background-color: #3B4455;\n",
              "      fill: #D2E3FC;\n",
              "    }\n",
              "\n",
              "    [theme=dark] .colab-df-convert:hover {\n",
              "      background-color: #434B5C;\n",
              "      box-shadow: 0px 1px 3px 1px rgba(0, 0, 0, 0.15);\n",
              "      filter: drop-shadow(0px 1px 2px rgba(0, 0, 0, 0.3));\n",
              "      fill: #FFFFFF;\n",
              "    }\n",
              "  </style>\n",
              "\n",
              "      <script>\n",
              "        const buttonEl =\n",
              "          document.querySelector('#df-979e2f33-6c55-4286-a66c-f87959adb899 button.colab-df-convert');\n",
              "        buttonEl.style.display =\n",
              "          google.colab.kernel.accessAllowed ? 'block' : 'none';\n",
              "\n",
              "        async function convertToInteractive(key) {\n",
              "          const element = document.querySelector('#df-979e2f33-6c55-4286-a66c-f87959adb899');\n",
              "          const dataTable =\n",
              "            await google.colab.kernel.invokeFunction('convertToInteractive',\n",
              "                                                     [key], {});\n",
              "          if (!dataTable) return;\n",
              "\n",
              "          const docLinkHtml = 'Like what you see? Visit the ' +\n",
              "            '<a target=\"_blank\" href=https://colab.research.google.com/notebooks/data_table.ipynb>data table notebook</a>'\n",
              "            + ' to learn more about interactive tables.';\n",
              "          element.innerHTML = '';\n",
              "          dataTable['output_type'] = 'display_data';\n",
              "          await google.colab.output.renderOutput(dataTable, element);\n",
              "          const docLink = document.createElement('div');\n",
              "          docLink.innerHTML = docLinkHtml;\n",
              "          element.appendChild(docLink);\n",
              "        }\n",
              "      </script>\n",
              "    </div>\n",
              "  </div>\n",
              "  "
            ]
          },
          "metadata": {},
          "execution_count": 84
        }
      ]
    },
    {
      "cell_type": "code",
      "source": [
        "sorted_scores_val.to_csv(\"sorted_score_test_val.csv\")"
      ],
      "metadata": {
        "execution": {
          "iopub.status.busy": "2022-12-16T10:30:01.859581Z",
          "iopub.execute_input": "2022-12-16T10:30:01.860515Z",
          "iopub.status.idle": "2022-12-16T10:30:01.869187Z",
          "shell.execute_reply.started": "2022-12-16T10:30:01.860464Z",
          "shell.execute_reply": "2022-12-16T10:30:01.868173Z"
        },
        "trusted": true,
        "id": "EvK3iA8Pjlek"
      },
      "execution_count": null,
      "outputs": []
    },
    {
      "cell_type": "code",
      "source": [
        "# Scores on test data\n",
        "scores_test = acc_score(train_features_US, test_features_US, train_labels, test_labels)\n",
        "\n",
        "# Sorting by column 'F1_Score'\n",
        "sorted_scores_test = scores_test.sort_values(by=['F1_Score'], ascending=False)"
      ],
      "metadata": {
        "execution": {
          "iopub.status.busy": "2022-12-16T10:30:09.826409Z",
          "iopub.execute_input": "2022-12-16T10:30:09.827495Z",
          "iopub.status.idle": "2022-12-16T10:30:27.956733Z",
          "shell.execute_reply.started": "2022-12-16T10:30:09.827444Z",
          "shell.execute_reply": "2022-12-16T10:30:27.955217Z"
        },
        "trusted": true,
        "id": "LR0B17v-jlek"
      },
      "execution_count": null,
      "outputs": []
    },
    {
      "cell_type": "code",
      "source": [
        "print(\"Results on non fused test dataset B \")\n",
        "print(\"-----------------------------\")\n",
        "sorted_scores_test.head(10)"
      ],
      "metadata": {
        "execution": {
          "iopub.status.busy": "2022-12-16T10:30:38.946825Z",
          "iopub.execute_input": "2022-12-16T10:30:38.947211Z",
          "iopub.status.idle": "2022-12-16T10:30:38.965884Z",
          "shell.execute_reply.started": "2022-12-16T10:30:38.947181Z",
          "shell.execute_reply": "2022-12-16T10:30:38.964716Z"
        },
        "trusted": true,
        "colab": {
          "base_uri": "https://localhost:8080/",
          "height": 304
        },
        "id": "uXu9UY5Fjlek",
        "outputId": "331f13eb-98a2-48ed-9542-6ca3ac3c7dc5"
      },
      "execution_count": null,
      "outputs": [
        {
          "output_type": "stream",
          "name": "stdout",
          "text": [
            "Results on non fused test dataset B \n",
            "-----------------------------\n"
          ]
        },
        {
          "output_type": "execute_result",
          "data": {
            "text/plain": [
              "         Classifier  Accuracy  Precision    Recall  Sensitivity  Specificity  \\\n",
              "0  GradientBoosting  0.878788   0.870968  0.870968     0.870968     0.885714   \n",
              "1      RandomForest  0.848485   0.818182  0.870968     0.870968     0.828571   \n",
              "2        KNeighbors  0.848485   0.818182  0.870968     0.870968     0.828571   \n",
              "3               MLP  0.848485   0.818182  0.870968     0.870968     0.828571   \n",
              "4          Proposed  0.848485   0.818182  0.870968     0.870968     0.828571   \n",
              "5          AdaBoost  0.833333   0.794118  0.870968     0.870968     0.800000   \n",
              "6      DecisionTree  0.833333   0.794118  0.870968     0.870968     0.800000   \n",
              "\n",
              "   F1_Score   ROC_AUC  \n",
              "0  0.870968  0.872811  \n",
              "1  0.843750  0.946544  \n",
              "2  0.843750  0.884793  \n",
              "3  0.843750  0.957604  \n",
              "4  0.843750  0.952995  \n",
              "5  0.830769  0.936406  \n",
              "6  0.830769  0.835484  "
            ],
            "text/html": [
              "\n",
              "  <div id=\"df-6c30b8bb-9153-415f-9aeb-10f5c4fbba70\">\n",
              "    <div class=\"colab-df-container\">\n",
              "      <div>\n",
              "<style scoped>\n",
              "    .dataframe tbody tr th:only-of-type {\n",
              "        vertical-align: middle;\n",
              "    }\n",
              "\n",
              "    .dataframe tbody tr th {\n",
              "        vertical-align: top;\n",
              "    }\n",
              "\n",
              "    .dataframe thead th {\n",
              "        text-align: right;\n",
              "    }\n",
              "</style>\n",
              "<table border=\"1\" class=\"dataframe\">\n",
              "  <thead>\n",
              "    <tr style=\"text-align: right;\">\n",
              "      <th></th>\n",
              "      <th>Classifier</th>\n",
              "      <th>Accuracy</th>\n",
              "      <th>Precision</th>\n",
              "      <th>Recall</th>\n",
              "      <th>Sensitivity</th>\n",
              "      <th>Specificity</th>\n",
              "      <th>F1_Score</th>\n",
              "      <th>ROC_AUC</th>\n",
              "    </tr>\n",
              "  </thead>\n",
              "  <tbody>\n",
              "    <tr>\n",
              "      <th>0</th>\n",
              "      <td>GradientBoosting</td>\n",
              "      <td>0.878788</td>\n",
              "      <td>0.870968</td>\n",
              "      <td>0.870968</td>\n",
              "      <td>0.870968</td>\n",
              "      <td>0.885714</td>\n",
              "      <td>0.870968</td>\n",
              "      <td>0.872811</td>\n",
              "    </tr>\n",
              "    <tr>\n",
              "      <th>1</th>\n",
              "      <td>RandomForest</td>\n",
              "      <td>0.848485</td>\n",
              "      <td>0.818182</td>\n",
              "      <td>0.870968</td>\n",
              "      <td>0.870968</td>\n",
              "      <td>0.828571</td>\n",
              "      <td>0.843750</td>\n",
              "      <td>0.946544</td>\n",
              "    </tr>\n",
              "    <tr>\n",
              "      <th>2</th>\n",
              "      <td>KNeighbors</td>\n",
              "      <td>0.848485</td>\n",
              "      <td>0.818182</td>\n",
              "      <td>0.870968</td>\n",
              "      <td>0.870968</td>\n",
              "      <td>0.828571</td>\n",
              "      <td>0.843750</td>\n",
              "      <td>0.884793</td>\n",
              "    </tr>\n",
              "    <tr>\n",
              "      <th>3</th>\n",
              "      <td>MLP</td>\n",
              "      <td>0.848485</td>\n",
              "      <td>0.818182</td>\n",
              "      <td>0.870968</td>\n",
              "      <td>0.870968</td>\n",
              "      <td>0.828571</td>\n",
              "      <td>0.843750</td>\n",
              "      <td>0.957604</td>\n",
              "    </tr>\n",
              "    <tr>\n",
              "      <th>4</th>\n",
              "      <td>Proposed</td>\n",
              "      <td>0.848485</td>\n",
              "      <td>0.818182</td>\n",
              "      <td>0.870968</td>\n",
              "      <td>0.870968</td>\n",
              "      <td>0.828571</td>\n",
              "      <td>0.843750</td>\n",
              "      <td>0.952995</td>\n",
              "    </tr>\n",
              "    <tr>\n",
              "      <th>5</th>\n",
              "      <td>AdaBoost</td>\n",
              "      <td>0.833333</td>\n",
              "      <td>0.794118</td>\n",
              "      <td>0.870968</td>\n",
              "      <td>0.870968</td>\n",
              "      <td>0.800000</td>\n",
              "      <td>0.830769</td>\n",
              "      <td>0.936406</td>\n",
              "    </tr>\n",
              "    <tr>\n",
              "      <th>6</th>\n",
              "      <td>DecisionTree</td>\n",
              "      <td>0.833333</td>\n",
              "      <td>0.794118</td>\n",
              "      <td>0.870968</td>\n",
              "      <td>0.870968</td>\n",
              "      <td>0.800000</td>\n",
              "      <td>0.830769</td>\n",
              "      <td>0.835484</td>\n",
              "    </tr>\n",
              "  </tbody>\n",
              "</table>\n",
              "</div>\n",
              "      <button class=\"colab-df-convert\" onclick=\"convertToInteractive('df-6c30b8bb-9153-415f-9aeb-10f5c4fbba70')\"\n",
              "              title=\"Convert this dataframe to an interactive table.\"\n",
              "              style=\"display:none;\">\n",
              "        \n",
              "  <svg xmlns=\"http://www.w3.org/2000/svg\" height=\"24px\"viewBox=\"0 0 24 24\"\n",
              "       width=\"24px\">\n",
              "    <path d=\"M0 0h24v24H0V0z\" fill=\"none\"/>\n",
              "    <path d=\"M18.56 5.44l.94 2.06.94-2.06 2.06-.94-2.06-.94-.94-2.06-.94 2.06-2.06.94zm-11 1L8.5 8.5l.94-2.06 2.06-.94-2.06-.94L8.5 2.5l-.94 2.06-2.06.94zm10 10l.94 2.06.94-2.06 2.06-.94-2.06-.94-.94-2.06-.94 2.06-2.06.94z\"/><path d=\"M17.41 7.96l-1.37-1.37c-.4-.4-.92-.59-1.43-.59-.52 0-1.04.2-1.43.59L10.3 9.45l-7.72 7.72c-.78.78-.78 2.05 0 2.83L4 21.41c.39.39.9.59 1.41.59.51 0 1.02-.2 1.41-.59l7.78-7.78 2.81-2.81c.8-.78.8-2.07 0-2.86zM5.41 20L4 18.59l7.72-7.72 1.47 1.35L5.41 20z\"/>\n",
              "  </svg>\n",
              "      </button>\n",
              "      \n",
              "  <style>\n",
              "    .colab-df-container {\n",
              "      display:flex;\n",
              "      flex-wrap:wrap;\n",
              "      gap: 12px;\n",
              "    }\n",
              "\n",
              "    .colab-df-convert {\n",
              "      background-color: #E8F0FE;\n",
              "      border: none;\n",
              "      border-radius: 50%;\n",
              "      cursor: pointer;\n",
              "      display: none;\n",
              "      fill: #1967D2;\n",
              "      height: 32px;\n",
              "      padding: 0 0 0 0;\n",
              "      width: 32px;\n",
              "    }\n",
              "\n",
              "    .colab-df-convert:hover {\n",
              "      background-color: #E2EBFA;\n",
              "      box-shadow: 0px 1px 2px rgba(60, 64, 67, 0.3), 0px 1px 3px 1px rgba(60, 64, 67, 0.15);\n",
              "      fill: #174EA6;\n",
              "    }\n",
              "\n",
              "    [theme=dark] .colab-df-convert {\n",
              "      background-color: #3B4455;\n",
              "      fill: #D2E3FC;\n",
              "    }\n",
              "\n",
              "    [theme=dark] .colab-df-convert:hover {\n",
              "      background-color: #434B5C;\n",
              "      box-shadow: 0px 1px 3px 1px rgba(0, 0, 0, 0.15);\n",
              "      filter: drop-shadow(0px 1px 2px rgba(0, 0, 0, 0.3));\n",
              "      fill: #FFFFFF;\n",
              "    }\n",
              "  </style>\n",
              "\n",
              "      <script>\n",
              "        const buttonEl =\n",
              "          document.querySelector('#df-6c30b8bb-9153-415f-9aeb-10f5c4fbba70 button.colab-df-convert');\n",
              "        buttonEl.style.display =\n",
              "          google.colab.kernel.accessAllowed ? 'block' : 'none';\n",
              "\n",
              "        async function convertToInteractive(key) {\n",
              "          const element = document.querySelector('#df-6c30b8bb-9153-415f-9aeb-10f5c4fbba70');\n",
              "          const dataTable =\n",
              "            await google.colab.kernel.invokeFunction('convertToInteractive',\n",
              "                                                     [key], {});\n",
              "          if (!dataTable) return;\n",
              "\n",
              "          const docLinkHtml = 'Like what you see? Visit the ' +\n",
              "            '<a target=\"_blank\" href=https://colab.research.google.com/notebooks/data_table.ipynb>data table notebook</a>'\n",
              "            + ' to learn more about interactive tables.';\n",
              "          element.innerHTML = '';\n",
              "          dataTable['output_type'] = 'display_data';\n",
              "          await google.colab.output.renderOutput(dataTable, element);\n",
              "          const docLink = document.createElement('div');\n",
              "          docLink.innerHTML = docLinkHtml;\n",
              "          element.appendChild(docLink);\n",
              "        }\n",
              "      </script>\n",
              "    </div>\n",
              "  </div>\n",
              "  "
            ]
          },
          "metadata": {},
          "execution_count": 85
        }
      ]
    },
    {
      "cell_type": "code",
      "source": [
        "sorted_scores_test.to_csv(\"sorted_score_test_US.csv\")"
      ],
      "metadata": {
        "id": "Z9TQXzDALZuY",
        "execution": {
          "iopub.status.busy": "2022-12-16T10:30:55.421909Z",
          "iopub.execute_input": "2022-12-16T10:30:55.422301Z",
          "iopub.status.idle": "2022-12-16T10:30:55.429736Z",
          "shell.execute_reply.started": "2022-12-16T10:30:55.422252Z",
          "shell.execute_reply": "2022-12-16T10:30:55.428766Z"
        },
        "trusted": true
      },
      "execution_count": null,
      "outputs": []
    },
    {
      "cell_type": "markdown",
      "source": [
        "# Fused Dataset B"
      ],
      "metadata": {
        "id": "9yoRo84MSBeh"
      }
    },
    {
      "cell_type": "markdown",
      "source": [
        "## Load Data"
      ],
      "metadata": {
        "id": "HRczesQxSBen"
      }
    },
    {
      "cell_type": "code",
      "source": [
        "# Load Training Data\n",
        "X_fused, Y_fused = load_data(SIZE, path_fused)\n",
        "print('Fused Dataset A loaded')\n",
        "X_train_fused, X_test_fused, y_train_fused, y_test_fused = train_test_split(X_fused, Y_fused, test_size=0.3, random_state=42)"
      ],
      "metadata": {
        "execution": {
          "iopub.status.busy": "2022-12-16T12:12:51.726137Z",
          "iopub.execute_input": "2022-12-16T12:12:51.726594Z",
          "iopub.status.idle": "2022-12-16T12:13:01.353703Z",
          "shell.execute_reply.started": "2022-12-16T12:12:51.726551Z",
          "shell.execute_reply": "2022-12-16T12:13:01.352753Z"
        },
        "trusted": true,
        "colab": {
          "base_uri": "https://localhost:8080/"
        },
        "id": "Dk0f1ekpjlel",
        "outputId": "db6d6b9c-8e19-4a01-e8c2-9b16a8183a57"
      },
      "execution_count": null,
      "outputs": [
        {
          "output_type": "stream",
          "name": "stdout",
          "text": [
            "Fused Dataset A loaded\n"
          ]
        }
      ]
    },
    {
      "cell_type": "code",
      "source": [
        "#Visulaize the images\n",
        "visualize(X_train_fused, X_test_fused)"
      ],
      "metadata": {
        "execution": {
          "iopub.status.busy": "2022-12-16T12:13:07.080322Z",
          "iopub.execute_input": "2022-12-16T12:13:07.080684Z",
          "iopub.status.idle": "2022-12-16T12:13:07.383334Z",
          "shell.execute_reply.started": "2022-12-16T12:13:07.080652Z",
          "shell.execute_reply": "2022-12-16T12:13:07.382378Z"
        },
        "trusted": true,
        "colab": {
          "base_uri": "https://localhost:8080/",
          "height": 216
        },
        "id": "y1HMIrT6jlel",
        "outputId": "6f9667bc-41bf-4f0b-9421-15151d6e8854"
      },
      "execution_count": null,
      "outputs": [
        {
          "output_type": "display_data",
          "data": {
            "text/plain": [
              "<Figure size 432x288 with 2 Axes>"
            ],
            "image/png": "[encoded data removed]"
          },
          "metadata": {
            "needs_background": "light"
          }
        }
      ]
    },
    {
      "cell_type": "code",
      "source": [
        "# Pre-process data\n",
        "X_train_fused = normalize(X_train_fused, axis=1)\n",
        "y_train_fused = one_hot_encode(y_train_fused)\n",
        "\n",
        "\n",
        "test_data_fused = normalize(X_test_fused, axis=1)\n",
        "test_labels_fused = one_hot_encode(y_test_fused)"
      ],
      "metadata": {
        "execution": {
          "iopub.status.busy": "2022-12-16T12:13:15.527578Z",
          "iopub.execute_input": "2022-12-16T12:13:15.528687Z",
          "iopub.status.idle": "2022-12-16T12:13:16.718600Z",
          "shell.execute_reply.started": "2022-12-16T12:13:15.528638Z",
          "shell.execute_reply": "2022-12-16T12:13:16.717590Z"
        },
        "trusted": true,
        "id": "1P_bypo2jlel"
      },
      "execution_count": null,
      "outputs": []
    },
    {
      "cell_type": "code",
      "source": [
        "# Apply augmentation\n",
        "x_rotated, y_rotated, x_flipped, y_flipped = img_augmentation(X_train_fused, y_train_fused)\n",
        "\n",
        "# Combine the whole training data\n",
        "\n",
        "fused_data = np.concatenate([X_train_fused, x_rotated, x_flipped])\n",
        "fused_labels = np.concatenate([y_train_fused, y_rotated, y_flipped])\n",
        "\n",
        "print('Shape of X_train:', np.shape(fused_data))\n",
        "print('Shape of y_train:', np.shape(fused_labels))"
      ],
      "metadata": {
        "execution": {
          "iopub.status.busy": "2022-12-16T12:13:22.993701Z",
          "iopub.execute_input": "2022-12-16T12:13:22.994298Z",
          "iopub.status.idle": "2022-12-16T12:13:25.455267Z",
          "shell.execute_reply.started": "2022-12-16T12:13:22.994260Z",
          "shell.execute_reply": "2022-12-16T12:13:25.454224Z"
        },
        "trusted": true,
        "colab": {
          "base_uri": "https://localhost:8080/"
        },
        "id": "h42IaNF_jlel",
        "outputId": "270b8601-7bec-4f79-b658-b5693ad04c92"
      },
      "execution_count": null,
      "outputs": [
        {
          "output_type": "stream",
          "name": "stdout",
          "text": [
            "Shape of X_train: (453, 224, 224, 3)\n",
            "Shape of y_train: (453,)\n"
          ]
        }
      ]
    },
    {
      "cell_type": "code",
      "source": [
        "train_data_fused, val_data_fused, train_labels_fused, val_labels_fused = train_test_split(fused_data, fused_labels, test_size=0.2, random_state=42)"
      ],
      "metadata": {
        "execution": {
          "iopub.status.busy": "2022-12-16T12:13:30.983116Z",
          "iopub.execute_input": "2022-12-16T12:13:30.983462Z",
          "iopub.status.idle": "2022-12-16T12:13:31.541831Z",
          "shell.execute_reply.started": "2022-12-16T12:13:30.983433Z",
          "shell.execute_reply": "2022-12-16T12:13:31.540835Z"
        },
        "trusted": true,
        "id": "CkmHOCZfjlel"
      },
      "execution_count": null,
      "outputs": []
    },
    {
      "cell_type": "code",
      "source": [
        "print('Shape of training data:', np.shape(train_data_fused))\n",
        "print('Shape of training labels:', np.shape(train_labels_fused))\n",
        "\n",
        "print('Shape of validation data:', np.shape(val_data_fused))\n",
        "print('Shape of validation labels:', np.shape(val_labels_fused))\n",
        "\n",
        "print('Shape of test data:', np.shape(test_data_fused))\n",
        "print('Shape of test labels:', np.shape(test_labels_fused))"
      ],
      "metadata": {
        "execution": {
          "iopub.status.busy": "2022-12-16T12:13:34.563018Z",
          "iopub.execute_input": "2022-12-16T12:13:34.563384Z",
          "iopub.status.idle": "2022-12-16T12:13:34.569948Z",
          "shell.execute_reply.started": "2022-12-16T12:13:34.563351Z",
          "shell.execute_reply": "2022-12-16T12:13:34.568761Z"
        },
        "trusted": true,
        "colab": {
          "base_uri": "https://localhost:8080/"
        },
        "id": "BIkctPYdjlel",
        "outputId": "142f7255-baba-4893-895c-afbc6840614c"
      },
      "execution_count": null,
      "outputs": [
        {
          "output_type": "stream",
          "name": "stdout",
          "text": [
            "Shape of training data: (362, 224, 224, 3)\n",
            "Shape of training labels: (362,)\n",
            "Shape of validation data: (91, 224, 224, 3)\n",
            "Shape of validation labels: (91,)\n",
            "Shape of test data: (66, 224, 224, 3)\n",
            "Shape of test labels: (66,)\n"
          ]
        }
      ]
    },
    {
      "cell_type": "markdown",
      "source": [
        "## Train Model"
      ],
      "metadata": {
        "id": "tPbBytAtjlel"
      }
    },
    {
      "cell_type": "code",
      "source": [
        "model_type = 'fused'\n",
        "print('Build and save model')\n",
        "model_history = create_model(train_data_fused, train_labels_fused, val_data_fused, val_labels_fused, SIZE, model_type)"
      ],
      "metadata": {
        "execution": {
          "iopub.status.busy": "2022-12-16T12:13:54.592300Z",
          "iopub.execute_input": "2022-12-16T12:13:54.592671Z",
          "iopub.status.idle": "2022-12-16T12:27:23.042555Z",
          "shell.execute_reply.started": "2022-12-16T12:13:54.592639Z",
          "shell.execute_reply": "2022-12-16T12:27:23.041502Z"
        },
        "trusted": true,
        "id": "fdR0BW7rjlem"
      },
      "execution_count": null,
      "outputs": []
    },
    {
      "cell_type": "markdown",
      "source": [
        "### Evaluate CNN model"
      ],
      "metadata": {
        "id": "2Vh-hu7cjlem"
      }
    },
    {
      "cell_type": "code",
      "source": [
        "path_jason_fused = \"/content/fused_model.json\"\n",
        "path_model_fused = \"/content/fused_model.h5\""
      ],
      "metadata": {
        "id": "QQIuASRRmrL5"
      },
      "execution_count": null,
      "outputs": []
    },
    {
      "cell_type": "code",
      "source": [
        "# Evaluate CNN model on validation and test data\n",
        "model = load_cnn_model(path_jason_fused, path_model_fused)\n",
        "\n",
        "# On validation data\n",
        "y_true_val = val_labels_fused\n",
        "y_pred_val = model.predict(val_data_fused)\n",
        "y_pred_val = prob2binary(y_pred_val).ravel()\n",
        "accuracy, precision, recall, specificity, f1, roc_auc = evaluate_performance(y_true_val, y_pred_val)\n",
        "\n",
        "print('Accuracy:', accuracy)\n",
        "print('Precision:', precision)\n",
        "print('Recall:', recall)\n",
        "print('Specificity:', specificity)\n",
        "print('F1 score:', f1)\n",
        "print('ROC AUC:', roc_auc)"
      ],
      "metadata": {
        "execution": {
          "iopub.status.busy": "2022-12-16T12:28:16.860544Z",
          "iopub.execute_input": "2022-12-16T12:28:16.860910Z",
          "iopub.status.idle": "2022-12-16T12:28:23.072683Z",
          "shell.execute_reply.started": "2022-12-16T12:28:16.860877Z",
          "shell.execute_reply": "2022-12-16T12:28:23.071513Z"
        },
        "trusted": true,
        "colab": {
          "base_uri": "https://localhost:8080/"
        },
        "id": "DNGYuRGFjlem",
        "outputId": "e64435a5-9861-4b4b-9c06-f80980406d17"
      },
      "execution_count": null,
      "outputs": [
        {
          "output_type": "stream",
          "name": "stdout",
          "text": [
            "3/3 [==============================] - 2s 176ms/step\n",
            "Accuracy: 0.978021978021978\n",
            "Precision: 0.978021978021978\n",
            "Recall: 0.978021978021978\n",
            "Specificity: 0.9583333333333334\n",
            "F1 score: 0.978021978021978\n",
            "ROC AUC: 0.9791666666666667\n"
          ]
        }
      ]
    },
    {
      "cell_type": "code",
      "source": [
        "#On test data\n",
        "y_true_test = test_labels_fused\n",
        "y_pred_test = model.predict(test_data_fused)\n",
        "y_pred_test = prob2binary(y_pred_test).ravel()\n",
        "accuracy, precision, recall, specificity, f1, roc_auc = evaluate_performance(y_true_test, y_pred_test)\n",
        "\n",
        "print('Accuracy:', accuracy)\n",
        "print('Precision:', precision)\n",
        "print('Recall:', recall)\n",
        "print('Specificity:', specificity)\n",
        "print('F1 score:', f1)\n",
        "print('ROC AUC:', roc_auc)"
      ],
      "metadata": {
        "execution": {
          "iopub.status.busy": "2022-12-16T12:28:39.422288Z",
          "iopub.execute_input": "2022-12-16T12:28:39.422681Z",
          "iopub.status.idle": "2022-12-16T12:28:41.064215Z",
          "shell.execute_reply.started": "2022-12-16T12:28:39.422649Z",
          "shell.execute_reply": "2022-12-16T12:28:41.062977Z"
        },
        "trusted": true,
        "colab": {
          "base_uri": "https://localhost:8080/"
        },
        "id": "boAeETLBjlem",
        "outputId": "fc9fdac3-1cd0-466b-8d3b-144c66508ed7"
      },
      "execution_count": null,
      "outputs": [
        {
          "output_type": "stream",
          "name": "stdout",
          "text": [
            "3/3 [==============================] - 0s 169ms/step\n",
            "Accuracy: 0.803030303030303\n",
            "Precision: 0.803030303030303\n",
            "Recall: 0.803030303030303\n",
            "Specificity: 0.6875\n",
            "F1 score: 0.803030303030303\n",
            "ROC AUC: 0.7996323529411764\n"
          ]
        }
      ]
    },
    {
      "cell_type": "markdown",
      "source": [
        "## Feature Extraction"
      ],
      "metadata": {
        "id": "QTaZJt8jjlem"
      }
    },
    {
      "cell_type": "code",
      "source": [
        "# Load model\n",
        "cnn_model_fused = load_cnn_model(path_jason_fused, path_model_fused)\n",
        "print(\"Loaded CNN fused model from disk\")"
      ],
      "metadata": {
        "execution": {
          "iopub.status.busy": "2022-12-16T12:28:53.961816Z",
          "iopub.execute_input": "2022-12-16T12:28:53.962185Z",
          "iopub.status.idle": "2022-12-16T12:28:57.356820Z",
          "shell.execute_reply.started": "2022-12-16T12:28:53.962153Z",
          "shell.execute_reply": "2022-12-16T12:28:57.355523Z"
        },
        "trusted": true,
        "colab": {
          "base_uri": "https://localhost:8080/"
        },
        "id": "9kdBaqzyjlen",
        "outputId": "93031c3c-8e6e-48ca-a367-e3de35a3ad2b"
      },
      "execution_count": null,
      "outputs": [
        {
          "output_type": "stream",
          "name": "stdout",
          "text": [
            "Loaded CNN fused model from disk\n"
          ]
        }
      ]
    },
    {
      "cell_type": "code",
      "source": [
        "print(\"Extracting features from the Fused training data..........\")\n",
        "train_features_fused =  get_feature_layer(cnn_model_fused,train_data_fused)"
      ],
      "metadata": {
        "execution": {
          "iopub.status.busy": "2022-12-16T12:29:03.389510Z",
          "iopub.execute_input": "2022-12-16T12:29:03.389882Z",
          "iopub.status.idle": "2022-12-16T12:29:12.327593Z",
          "shell.execute_reply.started": "2022-12-16T12:29:03.389850Z",
          "shell.execute_reply": "2022-12-16T12:29:12.326433Z"
        },
        "trusted": true,
        "colab": {
          "base_uri": "https://localhost:8080/"
        },
        "id": "kesDEndMjlen",
        "outputId": "c66d977a-2e71-4a9d-c8a3-70858e3dc18f"
      },
      "execution_count": null,
      "outputs": [
        {
          "output_type": "stream",
          "name": "stdout",
          "text": [
            "Extracting features from the Fused training data..........\n",
            "12/12 [==============================] - 3s 153ms/step\n",
            "Number of features extracted:  120\n"
          ]
        }
      ]
    },
    {
      "cell_type": "code",
      "source": [
        "print(\"Extracting features from the Fused validation data..........\")\n",
        "val_features_fused =  get_feature_layer(cnn_model_fused,val_data_fused)"
      ],
      "metadata": {
        "execution": {
          "iopub.status.busy": "2022-12-16T12:29:37.144094Z",
          "iopub.execute_input": "2022-12-16T12:29:37.144488Z",
          "iopub.status.idle": "2022-12-16T12:29:40.227732Z",
          "shell.execute_reply.started": "2022-12-16T12:29:37.144441Z",
          "shell.execute_reply": "2022-12-16T12:29:40.226747Z"
        },
        "trusted": true,
        "colab": {
          "base_uri": "https://localhost:8080/"
        },
        "id": "FGGQ-DuKjlen",
        "outputId": "4dc114db-b111-4615-d04a-5f4adb17b343"
      },
      "execution_count": null,
      "outputs": [
        {
          "output_type": "stream",
          "name": "stdout",
          "text": [
            "Extracting features from the Fused validation data..........\n",
            "3/3 [==============================] - 2s 179ms/step\n",
            "Number of features extracted:  120\n"
          ]
        }
      ]
    },
    {
      "cell_type": "code",
      "source": [
        "print(\"Extracting features from the test data..........\")\n",
        "test_features_fused =  get_feature_layer(cnn_model_fused,test_data_fused)"
      ],
      "metadata": {
        "execution": {
          "iopub.status.busy": "2022-12-16T12:29:43.023087Z",
          "iopub.execute_input": "2022-12-16T12:29:43.023482Z",
          "iopub.status.idle": "2022-12-16T12:29:45.961951Z",
          "shell.execute_reply.started": "2022-12-16T12:29:43.023439Z",
          "shell.execute_reply": "2022-12-16T12:29:45.960801Z"
        },
        "trusted": true,
        "colab": {
          "base_uri": "https://localhost:8080/"
        },
        "id": "YpUv5BzRjlen",
        "outputId": "c0a51295-2523-43ab-ee74-af5ab84ccea6"
      },
      "execution_count": null,
      "outputs": [
        {
          "output_type": "stream",
          "name": "stdout",
          "text": [
            "Extracting features from the test data..........\n",
            "3/3 [==============================] - 2s 164ms/step\n",
            "Number of features extracted:  120\n"
          ]
        }
      ]
    },
    {
      "cell_type": "code",
      "source": [
        "print('Shape of train_features:', np.shape(train_features_fused))\n",
        "\n",
        "print('Shape of train_labels :', np.shape(train_labels_fused))\n",
        "\n",
        "print('Shape of val_features:', np.shape(val_features_fused))\n",
        "\n",
        "print('Shape of val_labels :', np.shape(val_labels_fused))\n",
        "\n",
        "print('Shape of test_features:', np.shape(test_features_fused))\n",
        "\n",
        "print('Shape of test_labels :', np.shape(test_labels_fused))"
      ],
      "metadata": {
        "execution": {
          "iopub.status.busy": "2022-12-16T12:29:53.297238Z",
          "iopub.execute_input": "2022-12-16T12:29:53.297641Z",
          "iopub.status.idle": "2022-12-16T12:29:53.304531Z",
          "shell.execute_reply.started": "2022-12-16T12:29:53.297608Z",
          "shell.execute_reply": "2022-12-16T12:29:53.303359Z"
        },
        "trusted": true,
        "colab": {
          "base_uri": "https://localhost:8080/"
        },
        "id": "yc5oYOPOjlen",
        "outputId": "ad5b7672-9c38-4710-aea1-baaf78c5af58"
      },
      "execution_count": null,
      "outputs": [
        {
          "output_type": "stream",
          "name": "stdout",
          "text": [
            "Shape of train_features: (362, 120)\n",
            "Shape of train_labels : (362,)\n",
            "Shape of val_features: (91, 120)\n",
            "Shape of val_labels : (91,)\n",
            "Shape of test_features: (66, 120)\n",
            "Shape of test_labels : (66,)\n"
          ]
        }
      ]
    },
    {
      "cell_type": "markdown",
      "source": [
        "## Evaluation"
      ],
      "metadata": {
        "id": "Q2kBJsyOjlen"
      }
    },
    {
      "cell_type": "code",
      "source": [
        "# Scores on validation data\n",
        "scores_val_fused = acc_score(train_features_fused, val_features_fused, train_labels_fused, val_labels_fused)\n",
        "\n",
        "# Sorting by column 'F1_Score'\n",
        "sorted_scores_val_fused = scores_val_fused.sort_values(by=['F1_Score'], ascending=False)"
      ],
      "metadata": {
        "execution": {
          "iopub.status.busy": "2022-12-16T12:30:04.539282Z",
          "iopub.execute_input": "2022-12-16T12:30:04.539658Z",
          "iopub.status.idle": "2022-12-16T12:30:20.319048Z",
          "shell.execute_reply.started": "2022-12-16T12:30:04.539626Z",
          "shell.execute_reply": "2022-12-16T12:30:20.317710Z"
        },
        "trusted": true,
        "id": "sj_ZxKJxjleo"
      },
      "execution_count": null,
      "outputs": []
    },
    {
      "cell_type": "code",
      "source": [
        "print(\"Results on fused valdation dataset B\")\n",
        "print(\"-----------------------------\")\n",
        "sorted_scores_val_fused.head(10)"
      ],
      "metadata": {
        "execution": {
          "iopub.status.busy": "2022-12-16T12:34:30.652772Z",
          "iopub.execute_input": "2022-12-16T12:34:30.653389Z",
          "iopub.status.idle": "2022-12-16T12:34:30.672443Z",
          "shell.execute_reply.started": "2022-12-16T12:34:30.653352Z",
          "shell.execute_reply": "2022-12-16T12:34:30.671508Z"
        },
        "trusted": true,
        "colab": {
          "base_uri": "https://localhost:8080/",
          "height": 304
        },
        "id": "fpPyH188jleo",
        "outputId": "46391f3c-ba75-4c90-877f-2c948553913c"
      },
      "execution_count": null,
      "outputs": [
        {
          "output_type": "stream",
          "name": "stdout",
          "text": [
            "Results on fused valdation dataset A \n",
            "-----------------------------\n"
          ]
        },
        {
          "output_type": "execute_result",
          "data": {
            "text/plain": [
              "         Classifier  Accuracy  Precision    Recall  Sensitivity  Specificity  \\\n",
              "0      RandomForest  0.978022   0.955556  1.000000     1.000000     0.958333   \n",
              "1          AdaBoost  0.978022   0.955556  1.000000     1.000000     0.958333   \n",
              "2        KNeighbors  0.978022   0.955556  1.000000     1.000000     0.958333   \n",
              "3               MLP  0.978022   0.955556  1.000000     1.000000     0.958333   \n",
              "4          Proposed  0.967033   0.934783  1.000000     1.000000     0.937500   \n",
              "5      DecisionTree  0.956044   0.933333  0.976744     0.976744     0.937500   \n",
              "6  GradientBoosting  0.956044   0.933333  0.976744     0.976744     0.937500   \n",
              "\n",
              "   F1_Score   ROC_AUC  \n",
              "0  0.977273  0.999031  \n",
              "1  0.977273  0.987888  \n",
              "2  0.977273  0.989341  \n",
              "3  0.977273  0.997578  \n",
              "4  0.966292  0.998547  \n",
              "5  0.954545  0.957122  \n",
              "6  0.954545  0.957122  "
            ],
            "text/html": [
              "\n",
              "  <div id=\"df-cb092be0-783d-4694-86ab-60eacb5cca45\">\n",
              "    <div class=\"colab-df-container\">\n",
              "      <div>\n",
              "<style scoped>\n",
              "    .dataframe tbody tr th:only-of-type {\n",
              "        vertical-align: middle;\n",
              "    }\n",
              "\n",
              "    .dataframe tbody tr th {\n",
              "        vertical-align: top;\n",
              "    }\n",
              "\n",
              "    .dataframe thead th {\n",
              "        text-align: right;\n",
              "    }\n",
              "</style>\n",
              "<table border=\"1\" class=\"dataframe\">\n",
              "  <thead>\n",
              "    <tr style=\"text-align: right;\">\n",
              "      <th></th>\n",
              "      <th>Classifier</th>\n",
              "      <th>Accuracy</th>\n",
              "      <th>Precision</th>\n",
              "      <th>Recall</th>\n",
              "      <th>Sensitivity</th>\n",
              "      <th>Specificity</th>\n",
              "      <th>F1_Score</th>\n",
              "      <th>ROC_AUC</th>\n",
              "    </tr>\n",
              "  </thead>\n",
              "  <tbody>\n",
              "    <tr>\n",
              "      <th>0</th>\n",
              "      <td>RandomForest</td>\n",
              "      <td>0.978022</td>\n",
              "      <td>0.955556</td>\n",
              "      <td>1.000000</td>\n",
              "      <td>1.000000</td>\n",
              "      <td>0.958333</td>\n",
              "      <td>0.977273</td>\n",
              "      <td>0.999031</td>\n",
              "    </tr>\n",
              "    <tr>\n",
              "      <th>1</th>\n",
              "      <td>AdaBoost</td>\n",
              "      <td>0.978022</td>\n",
              "      <td>0.955556</td>\n",
              "      <td>1.000000</td>\n",
              "      <td>1.000000</td>\n",
              "      <td>0.958333</td>\n",
              "      <td>0.977273</td>\n",
              "      <td>0.987888</td>\n",
              "    </tr>\n",
              "    <tr>\n",
              "      <th>2</th>\n",
              "      <td>KNeighbors</td>\n",
              "      <td>0.978022</td>\n",
              "      <td>0.955556</td>\n",
              "      <td>1.000000</td>\n",
              "      <td>1.000000</td>\n",
              "      <td>0.958333</td>\n",
              "      <td>0.977273</td>\n",
              "      <td>0.989341</td>\n",
              "    </tr>\n",
              "    <tr>\n",
              "      <th>3</th>\n",
              "      <td>MLP</td>\n",
              "      <td>0.978022</td>\n",
              "      <td>0.955556</td>\n",
              "      <td>1.000000</td>\n",
              "      <td>1.000000</td>\n",
              "      <td>0.958333</td>\n",
              "      <td>0.977273</td>\n",
              "      <td>0.997578</td>\n",
              "    </tr>\n",
              "    <tr>\n",
              "      <th>4</th>\n",
              "      <td>Proposed</td>\n",
              "      <td>0.967033</td>\n",
              "      <td>0.934783</td>\n",
              "      <td>1.000000</td>\n",
              "      <td>1.000000</td>\n",
              "      <td>0.937500</td>\n",
              "      <td>0.966292</td>\n",
              "      <td>0.998547</td>\n",
              "    </tr>\n",
              "    <tr>\n",
              "      <th>5</th>\n",
              "      <td>DecisionTree</td>\n",
              "      <td>0.956044</td>\n",
              "      <td>0.933333</td>\n",
              "      <td>0.976744</td>\n",
              "      <td>0.976744</td>\n",
              "      <td>0.937500</td>\n",
              "      <td>0.954545</td>\n",
              "      <td>0.957122</td>\n",
              "    </tr>\n",
              "    <tr>\n",
              "      <th>6</th>\n",
              "      <td>GradientBoosting</td>\n",
              "      <td>0.956044</td>\n",
              "      <td>0.933333</td>\n",
              "      <td>0.976744</td>\n",
              "      <td>0.976744</td>\n",
              "      <td>0.937500</td>\n",
              "      <td>0.954545</td>\n",
              "      <td>0.957122</td>\n",
              "    </tr>\n",
              "  </tbody>\n",
              "</table>\n",
              "</div>\n",
              "      <button class=\"colab-df-convert\" onclick=\"convertToInteractive('df-cb092be0-783d-4694-86ab-60eacb5cca45')\"\n",
              "              title=\"Convert this dataframe to an interactive table.\"\n",
              "              style=\"display:none;\">\n",
              "        \n",
              "  <svg xmlns=\"http://www.w3.org/2000/svg\" height=\"24px\"viewBox=\"0 0 24 24\"\n",
              "       width=\"24px\">\n",
              "    <path d=\"M0 0h24v24H0V0z\" fill=\"none\"/>\n",
              "    <path d=\"M18.56 5.44l.94 2.06.94-2.06 2.06-.94-2.06-.94-.94-2.06-.94 2.06-2.06.94zm-11 1L8.5 8.5l.94-2.06 2.06-.94-2.06-.94L8.5 2.5l-.94 2.06-2.06.94zm10 10l.94 2.06.94-2.06 2.06-.94-2.06-.94-.94-2.06-.94 2.06-2.06.94z\"/><path d=\"M17.41 7.96l-1.37-1.37c-.4-.4-.92-.59-1.43-.59-.52 0-1.04.2-1.43.59L10.3 9.45l-7.72 7.72c-.78.78-.78 2.05 0 2.83L4 21.41c.39.39.9.59 1.41.59.51 0 1.02-.2 1.41-.59l7.78-7.78 2.81-2.81c.8-.78.8-2.07 0-2.86zM5.41 20L4 18.59l7.72-7.72 1.47 1.35L5.41 20z\"/>\n",
              "  </svg>\n",
              "      </button>\n",
              "      \n",
              "  <style>\n",
              "    .colab-df-container {\n",
              "      display:flex;\n",
              "      flex-wrap:wrap;\n",
              "      gap: 12px;\n",
              "    }\n",
              "\n",
              "    .colab-df-convert {\n",
              "      background-color: #E8F0FE;\n",
              "      border: none;\n",
              "      border-radius: 50%;\n",
              "      cursor: pointer;\n",
              "      display: none;\n",
              "      fill: #1967D2;\n",
              "      height: 32px;\n",
              "      padding: 0 0 0 0;\n",
              "      width: 32px;\n",
              "    }\n",
              "\n",
              "    .colab-df-convert:hover {\n",
              "      background-color: #E2EBFA;\n",
              "      box-shadow: 0px 1px 2px rgba(60, 64, 67, 0.3), 0px 1px 3px 1px rgba(60, 64, 67, 0.15);\n",
              "      fill: #174EA6;\n",
              "    }\n",
              "\n",
              "    [theme=dark] .colab-df-convert {\n",
              "      background-color: #3B4455;\n",
              "      fill: #D2E3FC;\n",
              "    }\n",
              "\n",
              "    [theme=dark] .colab-df-convert:hover {\n",
              "      background-color: #434B5C;\n",
              "      box-shadow: 0px 1px 3px 1px rgba(0, 0, 0, 0.15);\n",
              "      filter: drop-shadow(0px 1px 2px rgba(0, 0, 0, 0.3));\n",
              "      fill: #FFFFFF;\n",
              "    }\n",
              "  </style>\n",
              "\n",
              "      <script>\n",
              "        const buttonEl =\n",
              "          document.querySelector('#df-cb092be0-783d-4694-86ab-60eacb5cca45 button.colab-df-convert');\n",
              "        buttonEl.style.display =\n",
              "          google.colab.kernel.accessAllowed ? 'block' : 'none';\n",
              "\n",
              "        async function convertToInteractive(key) {\n",
              "          const element = document.querySelector('#df-cb092be0-783d-4694-86ab-60eacb5cca45');\n",
              "          const dataTable =\n",
              "            await google.colab.kernel.invokeFunction('convertToInteractive',\n",
              "                                                     [key], {});\n",
              "          if (!dataTable) return;\n",
              "\n",
              "          const docLinkHtml = 'Like what you see? Visit the ' +\n",
              "            '<a target=\"_blank\" href=https://colab.research.google.com/notebooks/data_table.ipynb>data table notebook</a>'\n",
              "            + ' to learn more about interactive tables.';\n",
              "          element.innerHTML = '';\n",
              "          dataTable['output_type'] = 'display_data';\n",
              "          await google.colab.output.renderOutput(dataTable, element);\n",
              "          const docLink = document.createElement('div');\n",
              "          docLink.innerHTML = docLinkHtml;\n",
              "          element.appendChild(docLink);\n",
              "        }\n",
              "      </script>\n",
              "    </div>\n",
              "  </div>\n",
              "  "
            ]
          },
          "metadata": {},
          "execution_count": 104
        }
      ]
    },
    {
      "cell_type": "code",
      "source": [
        "sorted_scores_val_fused.to_csv(\"sorted_score_test_val_fused.csv\")"
      ],
      "metadata": {
        "execution": {
          "iopub.status.busy": "2022-12-16T12:30:31.024792Z",
          "iopub.execute_input": "2022-12-16T12:30:31.025160Z",
          "iopub.status.idle": "2022-12-16T12:30:31.034591Z",
          "shell.execute_reply.started": "2022-12-16T12:30:31.025130Z",
          "shell.execute_reply": "2022-12-16T12:30:31.033590Z"
        },
        "trusted": true,
        "id": "tyiGhiPzjleo"
      },
      "execution_count": null,
      "outputs": []
    },
    {
      "cell_type": "code",
      "source": [
        "# Scores on test data\n",
        "scores_test_fused = acc_score(train_features_fused, test_features_fused, train_labels_fused, test_labels_fused)\n",
        "\n",
        "# Sorting by column 'F1_Score'\n",
        "sorted_scores_test_fused = scores_test_fused.sort_values(by=['F1_Score'], ascending=False)"
      ],
      "metadata": {
        "execution": {
          "iopub.status.busy": "2022-12-16T12:30:36.130071Z",
          "iopub.execute_input": "2022-12-16T12:30:36.130420Z",
          "iopub.status.idle": "2022-12-16T12:30:51.640054Z",
          "shell.execute_reply.started": "2022-12-16T12:30:36.130389Z",
          "shell.execute_reply": "2022-12-16T12:30:51.638730Z"
        },
        "trusted": true,
        "id": "RRVIHie0jleo"
      },
      "execution_count": null,
      "outputs": []
    },
    {
      "cell_type": "code",
      "source": [
        "print(\"Results on fused test dataset B \")\n",
        "print(\"-----------------------------\")\n",
        "sorted_scores_test_fused.head(10)"
      ],
      "metadata": {
        "execution": {
          "iopub.status.busy": "2022-12-16T12:34:34.536507Z",
          "iopub.execute_input": "2022-12-16T12:34:34.536882Z",
          "iopub.status.idle": "2022-12-16T12:34:34.555422Z",
          "shell.execute_reply.started": "2022-12-16T12:34:34.536848Z",
          "shell.execute_reply": "2022-12-16T12:34:34.554349Z"
        },
        "trusted": true,
        "colab": {
          "base_uri": "https://localhost:8080/",
          "height": 304
        },
        "id": "yOHN4H-qjleo",
        "outputId": "968e3629-722e-4e5d-ab29-902a51b6c166"
      },
      "execution_count": null,
      "outputs": [
        {
          "output_type": "stream",
          "name": "stdout",
          "text": [
            "Results on fused test dataset A \n",
            "-----------------------------\n"
          ]
        },
        {
          "output_type": "execute_result",
          "data": {
            "text/plain": [
              "         Classifier  Accuracy  Precision    Recall  Sensitivity  Specificity  \\\n",
              "0      RandomForest  0.848485   0.815789  0.911765     0.911765      0.78125   \n",
              "1        KNeighbors  0.848485   0.852941  0.852941     0.852941      0.84375   \n",
              "2          AdaBoost  0.833333   0.828571  0.852941     0.852941      0.81250   \n",
              "3          Proposed  0.818182   0.789474  0.882353     0.882353      0.75000   \n",
              "4               MLP  0.803030   0.769231  0.882353     0.882353      0.71875   \n",
              "5      DecisionTree  0.803030   0.783784  0.852941     0.852941      0.75000   \n",
              "6  GradientBoosting  0.803030   0.783784  0.852941     0.852941      0.75000   \n",
              "\n",
              "   F1_Score   ROC_AUC  \n",
              "0  0.861111  0.907629  \n",
              "1  0.852941  0.905331  \n",
              "2  0.840580  0.921875  \n",
              "3  0.833333  0.914522  \n",
              "4  0.821918  0.919118  \n",
              "5  0.816901  0.801471  \n",
              "6  0.816901  0.801471  "
            ],
            "text/html": [
              "\n",
              "  <div id=\"df-1de1741d-0b4c-43bd-9c3b-24b41b559c6d\">\n",
              "    <div class=\"colab-df-container\">\n",
              "      <div>\n",
              "<style scoped>\n",
              "    .dataframe tbody tr th:only-of-type {\n",
              "        vertical-align: middle;\n",
              "    }\n",
              "\n",
              "    .dataframe tbody tr th {\n",
              "        vertical-align: top;\n",
              "    }\n",
              "\n",
              "    .dataframe thead th {\n",
              "        text-align: right;\n",
              "    }\n",
              "</style>\n",
              "<table border=\"1\" class=\"dataframe\">\n",
              "  <thead>\n",
              "    <tr style=\"text-align: right;\">\n",
              "      <th></th>\n",
              "      <th>Classifier</th>\n",
              "      <th>Accuracy</th>\n",
              "      <th>Precision</th>\n",
              "      <th>Recall</th>\n",
              "      <th>Sensitivity</th>\n",
              "      <th>Specificity</th>\n",
              "      <th>F1_Score</th>\n",
              "      <th>ROC_AUC</th>\n",
              "    </tr>\n",
              "  </thead>\n",
              "  <tbody>\n",
              "    <tr>\n",
              "      <th>0</th>\n",
              "      <td>RandomForest</td>\n",
              "      <td>0.848485</td>\n",
              "      <td>0.815789</td>\n",
              "      <td>0.911765</td>\n",
              "      <td>0.911765</td>\n",
              "      <td>0.78125</td>\n",
              "      <td>0.861111</td>\n",
              "      <td>0.907629</td>\n",
              "    </tr>\n",
              "    <tr>\n",
              "      <th>1</th>\n",
              "      <td>KNeighbors</td>\n",
              "      <td>0.848485</td>\n",
              "      <td>0.852941</td>\n",
              "      <td>0.852941</td>\n",
              "      <td>0.852941</td>\n",
              "      <td>0.84375</td>\n",
              "      <td>0.852941</td>\n",
              "      <td>0.905331</td>\n",
              "    </tr>\n",
              "    <tr>\n",
              "      <th>2</th>\n",
              "      <td>AdaBoost</td>\n",
              "      <td>0.833333</td>\n",
              "      <td>0.828571</td>\n",
              "      <td>0.852941</td>\n",
              "      <td>0.852941</td>\n",
              "      <td>0.81250</td>\n",
              "      <td>0.840580</td>\n",
              "      <td>0.921875</td>\n",
              "    </tr>\n",
              "    <tr>\n",
              "      <th>3</th>\n",
              "      <td>Proposed</td>\n",
              "      <td>0.818182</td>\n",
              "      <td>0.789474</td>\n",
              "      <td>0.882353</td>\n",
              "      <td>0.882353</td>\n",
              "      <td>0.75000</td>\n",
              "      <td>0.833333</td>\n",
              "      <td>0.914522</td>\n",
              "    </tr>\n",
              "    <tr>\n",
              "      <th>4</th>\n",
              "      <td>MLP</td>\n",
              "      <td>0.803030</td>\n",
              "      <td>0.769231</td>\n",
              "      <td>0.882353</td>\n",
              "      <td>0.882353</td>\n",
              "      <td>0.71875</td>\n",
              "      <td>0.821918</td>\n",
              "      <td>0.919118</td>\n",
              "    </tr>\n",
              "    <tr>\n",
              "      <th>5</th>\n",
              "      <td>DecisionTree</td>\n",
              "      <td>0.803030</td>\n",
              "      <td>0.783784</td>\n",
              "      <td>0.852941</td>\n",
              "      <td>0.852941</td>\n",
              "      <td>0.75000</td>\n",
              "      <td>0.816901</td>\n",
              "      <td>0.801471</td>\n",
              "    </tr>\n",
              "    <tr>\n",
              "      <th>6</th>\n",
              "      <td>GradientBoosting</td>\n",
              "      <td>0.803030</td>\n",
              "      <td>0.783784</td>\n",
              "      <td>0.852941</td>\n",
              "      <td>0.852941</td>\n",
              "      <td>0.75000</td>\n",
              "      <td>0.816901</td>\n",
              "      <td>0.801471</td>\n",
              "    </tr>\n",
              "  </tbody>\n",
              "</table>\n",
              "</div>\n",
              "      <button class=\"colab-df-convert\" onclick=\"convertToInteractive('df-1de1741d-0b4c-43bd-9c3b-24b41b559c6d')\"\n",
              "              title=\"Convert this dataframe to an interactive table.\"\n",
              "              style=\"display:none;\">\n",
              "        \n",
              "  <svg xmlns=\"http://www.w3.org/2000/svg\" height=\"24px\"viewBox=\"0 0 24 24\"\n",
              "       width=\"24px\">\n",
              "    <path d=\"M0 0h24v24H0V0z\" fill=\"none\"/>\n",
              "    <path d=\"M18.56 5.44l.94 2.06.94-2.06 2.06-.94-2.06-.94-.94-2.06-.94 2.06-2.06.94zm-11 1L8.5 8.5l.94-2.06 2.06-.94-2.06-.94L8.5 2.5l-.94 2.06-2.06.94zm10 10l.94 2.06.94-2.06 2.06-.94-2.06-.94-.94-2.06-.94 2.06-2.06.94z\"/><path d=\"M17.41 7.96l-1.37-1.37c-.4-.4-.92-.59-1.43-.59-.52 0-1.04.2-1.43.59L10.3 9.45l-7.72 7.72c-.78.78-.78 2.05 0 2.83L4 21.41c.39.39.9.59 1.41.59.51 0 1.02-.2 1.41-.59l7.78-7.78 2.81-2.81c.8-.78.8-2.07 0-2.86zM5.41 20L4 18.59l7.72-7.72 1.47 1.35L5.41 20z\"/>\n",
              "  </svg>\n",
              "      </button>\n",
              "      \n",
              "  <style>\n",
              "    .colab-df-container {\n",
              "      display:flex;\n",
              "      flex-wrap:wrap;\n",
              "      gap: 12px;\n",
              "    }\n",
              "\n",
              "    .colab-df-convert {\n",
              "      background-color: #E8F0FE;\n",
              "      border: none;\n",
              "      border-radius: 50%;\n",
              "      cursor: pointer;\n",
              "      display: none;\n",
              "      fill: #1967D2;\n",
              "      height: 32px;\n",
              "      padding: 0 0 0 0;\n",
              "      width: 32px;\n",
              "    }\n",
              "\n",
              "    .colab-df-convert:hover {\n",
              "      background-color: #E2EBFA;\n",
              "      box-shadow: 0px 1px 2px rgba(60, 64, 67, 0.3), 0px 1px 3px 1px rgba(60, 64, 67, 0.15);\n",
              "      fill: #174EA6;\n",
              "    }\n",
              "\n",
              "    [theme=dark] .colab-df-convert {\n",
              "      background-color: #3B4455;\n",
              "      fill: #D2E3FC;\n",
              "    }\n",
              "\n",
              "    [theme=dark] .colab-df-convert:hover {\n",
              "      background-color: #434B5C;\n",
              "      box-shadow: 0px 1px 3px 1px rgba(0, 0, 0, 0.15);\n",
              "      filter: drop-shadow(0px 1px 2px rgba(0, 0, 0, 0.3));\n",
              "      fill: #FFFFFF;\n",
              "    }\n",
              "  </style>\n",
              "\n",
              "      <script>\n",
              "        const buttonEl =\n",
              "          document.querySelector('#df-1de1741d-0b4c-43bd-9c3b-24b41b559c6d button.colab-df-convert');\n",
              "        buttonEl.style.display =\n",
              "          google.colab.kernel.accessAllowed ? 'block' : 'none';\n",
              "\n",
              "        async function convertToInteractive(key) {\n",
              "          const element = document.querySelector('#df-1de1741d-0b4c-43bd-9c3b-24b41b559c6d');\n",
              "          const dataTable =\n",
              "            await google.colab.kernel.invokeFunction('convertToInteractive',\n",
              "                                                     [key], {});\n",
              "          if (!dataTable) return;\n",
              "\n",
              "          const docLinkHtml = 'Like what you see? Visit the ' +\n",
              "            '<a target=\"_blank\" href=https://colab.research.google.com/notebooks/data_table.ipynb>data table notebook</a>'\n",
              "            + ' to learn more about interactive tables.';\n",
              "          element.innerHTML = '';\n",
              "          dataTable['output_type'] = 'display_data';\n",
              "          await google.colab.output.renderOutput(dataTable, element);\n",
              "          const docLink = document.createElement('div');\n",
              "          docLink.innerHTML = docLinkHtml;\n",
              "          element.appendChild(docLink);\n",
              "        }\n",
              "      </script>\n",
              "    </div>\n",
              "  </div>\n",
              "  "
            ]
          },
          "metadata": {},
          "execution_count": 107
        }
      ]
    },
    {
      "cell_type": "code",
      "source": [
        "sorted_scores_test_fused.to_csv(\"sorted_score_test_fused.csv\")"
      ],
      "metadata": {
        "execution": {
          "iopub.status.busy": "2022-12-16T12:31:18.889247Z",
          "iopub.execute_input": "2022-12-16T12:31:18.889634Z",
          "iopub.status.idle": "2022-12-16T12:31:18.896664Z",
          "shell.execute_reply.started": "2022-12-16T12:31:18.889601Z",
          "shell.execute_reply": "2022-12-16T12:31:18.895605Z"
        },
        "trusted": true,
        "id": "2QSaOZpLjleo"
      },
      "execution_count": null,
      "outputs": []
    },
    {
      "cell_type": "markdown",
      "source": [
        "# Genetic Algorithm"
      ],
      "metadata": {
        "id": "bIouj9orjleo"
      }
    },
    {
      "cell_type": "markdown",
      "source": [
        "## Genetic ALgorithm Functions"
      ],
      "metadata": {
        "id": "xmtF5rkojleq"
      }
    },
    {
      "cell_type": "code",
      "source": [
        "!pip install tqdm"
      ],
      "metadata": {
        "execution": {
          "iopub.status.busy": "2022-12-16T14:42:57.541380Z",
          "iopub.execute_input": "2022-12-16T14:42:57.542362Z",
          "iopub.status.idle": "2022-12-16T14:43:07.390044Z",
          "shell.execute_reply.started": "2022-12-16T14:42:57.542325Z",
          "shell.execute_reply": "2022-12-16T14:43:07.388630Z"
        },
        "trusted": true,
        "id": "8zwByzAwjler"
      },
      "execution_count": null,
      "outputs": []
    },
    {
      "cell_type": "code",
      "source": [
        "## Genetic ALgorithm Functions\n",
        "\n",
        "import random\n",
        "from sklearn.ensemble import RandomForestClassifier\n",
        "from sklearn.model_selection import cross_validate\n",
        "import matplotlib.pyplot as plt\n",
        "from tqdm import tqdm\n",
        "# Constants\n",
        "POPULATION_SIZE = 30\n",
        "MAX_GENERATIONS = 50\n",
        "\n",
        "def initialize_population(num_features, population_size):\n",
        "    population = []\n",
        "    for _ in range(population_size):\n",
        "        solution = random.sample(range(num_features), random.randint(1, num_features))\n",
        "        population.append(solution)\n",
        "    return population\n",
        "\n",
        "\n",
        "def roulette_wheel_selection(population, fitnesses):\n",
        "    # Normalize fitness values\n",
        "    total_fitness = sum(fitnesses)\n",
        "    normalized_fitnesses = [f/total_fitness for f in fitnesses]\n",
        "\n",
        "    # Generate roulette wheel\n",
        "    wheel = []\n",
        "    current_position = 0\n",
        "    for f in normalized_fitnesses:\n",
        "        current_position += f\n",
        "        wheel.append(current_position)\n",
        "\n",
        "    # Select parents\n",
        "    parents = []\n",
        "    for i in range(len(population)):\n",
        "        r = random.random()\n",
        "        for j, w in enumerate(wheel):\n",
        "            if r <= w:\n",
        "                parents.append(population[j])\n",
        "                break\n",
        "\n",
        "    return parents\n",
        "\n",
        "\n",
        "def two_point_crossover(parent1, parent2):\n",
        "    # Choose crossover points\n",
        "    point1 = random.randint(0, len(parent1))\n",
        "    point2 = random.randint(point1, len(parent1))\n",
        "\n",
        "    # Create offspring\n",
        "    child1 = parent1[:point1] + parent2[point1:point2] + parent1[point2:]\n",
        "    child2 = parent2[:point1] + parent1[point1:point2] + parent2[point2:]\n",
        "\n",
        "    return child1, child2\n",
        "\n",
        "\n",
        "\n",
        "def mutate(solution, num_features, mutation_rate):\n",
        "    # Determine whether to add or remove a feature\n",
        "    if random.random() < mutation_rate:\n",
        "        # Add a random feature\n",
        "        solution.append(random.randint(0, num_features-1))\n",
        "    elif len(solution) > 1:\n",
        "        # Remove a random feature\n",
        "        solution.remove(random.choice(solution))\n",
        "    return solution\n",
        "\n",
        "\n",
        "\n",
        "def select_fittest(population, fitnesses):\n",
        "    # Sort population and fitnesses by fitness values\n",
        "    population_fitnesses = list(zip(population, fitnesses))\n",
        "    population_fitnesses.sort(key=lambda x: x[1], reverse=True)\n",
        "    sorted_population, sorted_fitnesses = zip(*population_fitnesses)\n",
        "\n",
        "    # # Return sorted population up to the maximum size\n",
        "    return sorted_population[:POPULATION_SIZE]\n",
        "\n",
        "\n",
        "def evaluate_fitness(population):\n",
        "    fitnesses = []\n",
        "    for solution in population:\n",
        "        model = RandomForestClassifier()\n",
        "        scores = cross_validate(model, X[:, solution], y, cv=5, scoring='f1_macro')\n",
        "        fitnesses.append(scores['test_score'].mean())\n",
        "    return fitnesses\n",
        "\n",
        "\n",
        "def optimize_feature_subset(X, y):\n",
        "    # Initialize population\n",
        "    population = initialize_population(X.shape[1], POPULATION_SIZE)\n",
        "    fitnesses = evaluate_fitness(population)\n",
        "    all_fitnesses = [fitnesses] # store fitness values in all generations\n",
        "\n",
        "    previous_max_fitness = -float(\"inf\") # minimum possible fitness value\n",
        "    no_progress_count = 0 # counter for number of generations with no progress\n",
        "\n",
        "    for generation in tqdm(range(MAX_GENERATIONS)):\n",
        "        #print(f\"Generation {generation}: population size = {len(population)}, fitnesses size = {len(fitnesses)}\")\n",
        "        #print(f\"Population: {population}\")\n",
        "        #print(f\"Fitnesses: {fitnesses}\")\n",
        "\n",
        "        # Select fittest solutions for next generation\n",
        "        population = select_fittest(population, fitnesses)\n",
        "\n",
        "        # Generate offspring through crossover and mutation\n",
        "        offspring = []\n",
        "        for _ in range(len(population)//2):\n",
        "            parent1, parent2 = random.sample(population, 2)\n",
        "            child1, child2 = two_point_crossover(parent1, parent2)\n",
        "            child1 = mutate(child1, X.shape[1], 1/X.shape[1])\n",
        "            child2 = mutate(child2, X.shape[1], 1/X.shape[1])\n",
        "            offspring.extend([child1, child2])\n",
        "\n",
        "        # Evaluate fitness of offspring\n",
        "        offspring_fitnesses = evaluate_fitness(offspring)\n",
        "\n",
        "        # Select fittest solutions for next generation\n",
        "        population = select_fittest(list(population) + offspring, fitnesses + offspring_fitnesses)\n",
        "\n",
        "\n",
        "        # Evaluate fitness of current population\n",
        "        fitnesses = evaluate_fitness(population)\n",
        "        all_fitnesses.append(fitnesses)\n",
        "\n",
        "        # Check for progress\n",
        "        current_max_fitness = max(fitnesses)\n",
        "        if current_max_fitness <= previous_max_fitness:\n",
        "            no_progress_count += 1\n",
        "        else:\n",
        "            no_progress_count = 0\n",
        "            previous_max_fitness = current_max_fitness\n",
        "\n",
        "        # Terminate if no progress for 5 generations\n",
        "        if no_progress_count >= 5:\n",
        "            break\n",
        "\n",
        "    # Return fittest solution\n",
        "    fittest_index = fitnesses.index(max(fitnesses))\n",
        "    return population[fittest_index]"
      ],
      "metadata": {
        "execution": {
          "iopub.status.busy": "2022-12-16T15:18:59.208178Z",
          "iopub.execute_input": "2022-12-16T15:18:59.208582Z",
          "iopub.status.idle": "2022-12-16T15:18:59.229999Z",
          "shell.execute_reply.started": "2022-12-16T15:18:59.208548Z",
          "shell.execute_reply": "2022-12-16T15:18:59.228942Z"
        },
        "trusted": true,
        "id": "675EwG2djler"
      },
      "execution_count": null,
      "outputs": []
    },
    {
      "cell_type": "markdown",
      "source": [
        "## Call Genetic ALgorithm"
      ],
      "metadata": {
        "id": "fr3mEHVHjler"
      }
    },
    {
      "cell_type": "code",
      "source": [
        "# Select top features for train data\n",
        "# Define X and y\n",
        "X = train_features_fused\n",
        "y = train_labels_fused\n",
        "optimized_feature_subset = optimize_feature_subset(train_features_fused, train_labels_fused)"
      ],
      "metadata": {
        "execution": {
          "iopub.status.busy": "2022-12-16T15:19:04.085998Z",
          "iopub.execute_input": "2022-12-16T15:19:04.086372Z",
          "iopub.status.idle": "2022-12-16T15:28:13.647751Z",
          "shell.execute_reply.started": "2022-12-16T15:19:04.086337Z",
          "shell.execute_reply": "2022-12-16T15:28:13.646818Z"
        },
        "trusted": true,
        "id": "r-vhkbBDjler"
      },
      "execution_count": null,
      "outputs": []
    },
    {
      "cell_type": "code",
      "source": [
        "# Select top features for train data\n",
        "X_train_top = train_features_fused[:, optimized_feature_subset]\n",
        "\n",
        "# Select top features for valdation data\n",
        "X_val_top = val_features_fused[:, optimized_feature_subset]\n",
        "\n",
        "# Select top features for test data\n",
        "X_test_top = test_features_fused[:, optimized_feature_subset]"
      ],
      "metadata": {
        "execution": {
          "iopub.status.busy": "2022-12-16T15:29:53.057280Z",
          "iopub.execute_input": "2022-12-16T15:29:53.057662Z",
          "iopub.status.idle": "2022-12-16T15:29:53.063999Z",
          "shell.execute_reply.started": "2022-12-16T15:29:53.057630Z",
          "shell.execute_reply": "2022-12-16T15:29:53.062913Z"
        },
        "trusted": true,
        "id": "XUd_JUNyjler"
      },
      "execution_count": null,
      "outputs": []
    },
    {
      "cell_type": "code",
      "source": [
        "print('Shape of train_features:', np.shape(X_train_top))\n",
        "\n",
        "print('Shape of train_labels :', np.shape(train_labels_fused))\n",
        "\n",
        "print('Shape of val_features:', np.shape(X_val_top))\n",
        "\n",
        "print('Shape of val_labels :', np.shape(val_labels_fused))\n",
        "\n",
        "print('Shape of test_features:', np.shape(X_test_top))\n",
        "\n",
        "print('Shape of test_labels :', np.shape(test_labels_fused))"
      ],
      "metadata": {
        "execution": {
          "iopub.status.busy": "2022-12-16T15:29:55.953377Z",
          "iopub.execute_input": "2022-12-16T15:29:55.954497Z",
          "iopub.status.idle": "2022-12-16T15:29:55.961548Z",
          "shell.execute_reply.started": "2022-12-16T15:29:55.954424Z",
          "shell.execute_reply": "2022-12-16T15:29:55.960516Z"
        },
        "trusted": true,
        "id": "CJgWxK9yjler"
      },
      "execution_count": null,
      "outputs": []
    },
    {
      "cell_type": "code",
      "source": [
        "# Scores on validation data\n",
        "ga2_scores_val_fused = acc_score(X_train_top, X_val_top, train_labels_fused, val_labels_fused)\n",
        "\n",
        "# Sorting by column 'F1_Score'\n",
        "ga2_sorted_scores_val_fused = ga2_scores_val_fused.sort_values(by=['F1_Score'], ascending=False)"
      ],
      "metadata": {
        "execution": {
          "iopub.status.busy": "2022-12-16T15:30:06.399171Z",
          "iopub.execute_input": "2022-12-16T15:30:06.399553Z",
          "iopub.status.idle": "2022-12-16T15:30:22.167170Z",
          "shell.execute_reply.started": "2022-12-16T15:30:06.399518Z",
          "shell.execute_reply": "2022-12-16T15:30:22.165648Z"
        },
        "trusted": true,
        "id": "poJ95k_4jler"
      },
      "execution_count": null,
      "outputs": []
    },
    {
      "cell_type": "code",
      "source": [
        "print(\"Results after GA on fused valdation dataset A \")\n",
        "print(\"-----------------------------\")\n",
        "ga2_sorted_scores_val_fused.head(10)"
      ],
      "metadata": {
        "execution": {
          "iopub.status.busy": "2022-12-16T15:30:23.414010Z",
          "iopub.execute_input": "2022-12-16T15:30:23.414374Z",
          "iopub.status.idle": "2022-12-16T15:30:23.432959Z",
          "shell.execute_reply.started": "2022-12-16T15:30:23.414343Z",
          "shell.execute_reply": "2022-12-16T15:30:23.431940Z"
        },
        "trusted": true,
        "id": "lnKOC683jles"
      },
      "execution_count": null,
      "outputs": []
    },
    {
      "cell_type": "code",
      "source": [
        "# Scores on test data\n",
        "ga2_scores_test_fused = acc_score(X_train_top, X_test_top, train_labels_fused, test_labels_fused)\n",
        "\n",
        "# Sorting by column 'F1_Score'\n",
        "ga2_sorted_scores_test_fused = ga2_scores_test_fused.sort_values(by=['F1_Score'], ascending=False)"
      ],
      "metadata": {
        "execution": {
          "iopub.status.busy": "2022-12-16T15:30:33.167882Z",
          "iopub.execute_input": "2022-12-16T15:30:33.168248Z",
          "iopub.status.idle": "2022-12-16T15:30:48.937460Z",
          "shell.execute_reply.started": "2022-12-16T15:30:33.168217Z",
          "shell.execute_reply": "2022-12-16T15:30:48.935821Z"
        },
        "trusted": true,
        "id": "QZY7tEg_jles"
      },
      "execution_count": null,
      "outputs": []
    },
    {
      "cell_type": "code",
      "source": [
        "print(\"Results Results after GA on fused test dataset A \")\n",
        "print(\"-----------------------------\")\n",
        "ga2_sorted_scores_test_fused.head(10)"
      ],
      "metadata": {
        "execution": {
          "iopub.status.busy": "2022-12-16T15:30:50.085455Z",
          "iopub.execute_input": "2022-12-16T15:30:50.088442Z",
          "iopub.status.idle": "2022-12-16T15:30:50.113628Z",
          "shell.execute_reply.started": "2022-12-16T15:30:50.088388Z",
          "shell.execute_reply": "2022-12-16T15:30:50.112804Z"
        },
        "trusted": true,
        "id": "gQYp4eXAjles"
      },
      "execution_count": null,
      "outputs": []
    },
    {
      "cell_type": "code",
      "source": [],
      "metadata": {
        "id": "YuxJRlDuw7xZ"
      },
      "execution_count": null,
      "outputs": []
    }
  ]
}