{
  "nbformat": 4,
  "nbformat_minor": 0,
  "metadata": {
    "colab": {
      "provenance": []
    },
    "kernelspec": {
      "name": "python3",
      "display_name": "Python 3"
    },
    "language_info": {
      "name": "python"
    }
  },
  "cells": [
    {
      "cell_type": "code",
      "execution_count": null,
      "metadata": {
        "id": "8MwtNAqLz4oj"
      },
      "outputs": [],
      "source": [
        "import numpy as np\n",
        "import matplotlib.pyplot as plt\n",
        "from datetime import datetime\n",
        "from sklearn.metrics import accuracy_score, precision_score, recall_score, f1_score, roc_auc_score\n",
        "from sklearn.ensemble import RandomForestClassifier"
      ]
    },
    {
      "cell_type": "markdown",
      "source": [
        "# Utility Functions"
      ],
      "metadata": {
        "id": "3k4Y8BEf1HPs"
      }
    },
    {
      "cell_type": "code",
      "source": [
        "import numpy as np\n",
        "\n",
        "# Load Training data\n",
        "features = np.load('/content/drive/MyDrive/Datasets/UDIAT/Fused/features.npy')\n",
        "labels = np.load('/content/drive/MyDrive/Datasets/UDIAT/Fused/labels.npy')\n",
        "\n",
        "from sklearn.model_selection import train_test_split\n",
        "train_features, test_features, train_labels, test_labels = train_test_split(features, labels, test_size=0.3, random_state=42)\n",
        "\n",
        "clf = RandomForestClassifier(n_estimators=200, random_state=42)"
      ],
      "metadata": {
        "id": "X-8XZXfC19mI"
      },
      "execution_count": null,
      "outputs": []
    },
    {
      "cell_type": "code",
      "source": [
        "# Plot Confusion Matrix\n",
        "from sklearn.metrics import confusion_matrix\n",
        "def plot_confusion_matrix(y_true, y_pred, method_name):\n",
        "\n",
        "    # Create a confusion matrix\n",
        "    y_pred_binary = y_pred.round()\n",
        "\n",
        "    cm = confusion_matrix(y_true, y_pred_binary)\n",
        "\n",
        "    # Plot the confusion matrix as a heatmap\n",
        "    plt.imshow(cm, cmap=plt.cm.Blues)\n",
        "    plt.ylabel('True label', fontsize=14)\n",
        "    plt.xlabel('Predicted label', fontsize=14)\n",
        "    plt.xticks([0, 1], ['Benign', 'Malignant'], fontsize=14)\n",
        "    plt.yticks([0, 1], ['Benign', 'Malignant'], fontsize=14)\n",
        "    plt.colorbar()\n",
        "\n",
        "    # Add the values inside the cells\n",
        "    for i in range(2):\n",
        "        for j in range(2):\n",
        "            plt.text(j, i, cm[i, j],\n",
        "                     fontsize=20,  # specify the desired font size\n",
        "                     horizontalalignment='center',\n",
        "                     color='black')\n",
        "    # Show the plot\n",
        "    name = method_name + \"Confusion_Matrix.png\"\n",
        "    plt.savefig(name, dpi=300)\n",
        "    plt.show()"
      ],
      "metadata": {
        "id": "EDinl0-b1D6y"
      },
      "execution_count": null,
      "outputs": []
    },
    {
      "cell_type": "code",
      "source": [
        "# Plot ROC Curve\n",
        "from sklearn.metrics import roc_curve, auc\n",
        "def plot_roc_curve(y_true, y_pred, method_name):\n",
        "    # Calculate the false positive rate and true positive rate for the ROC curve\n",
        "    fpr, tpr, thresholds = roc_curve(y_true, y_pred)\n",
        "    roc_auc = auc(fpr, tpr)\n",
        "\n",
        "    # Plot the ROC curve\n",
        "    plt.figure()\n",
        "    plt.plot(fpr, tpr, color='darkorange', lw=2, label='ROC curve (area = %0.4f)' % roc_auc)\n",
        "    plt.plot([0, 1], [0, 1], color='navy', lw=2, linestyle='--')\n",
        "    plt.xlim([-0.01, 1.0])\n",
        "    plt.ylim([0, 1.05])\n",
        "    plt.xlabel('False Positive Rate', fontsize=14)\n",
        "    plt.ylabel('True Positive Rate', fontsize=14)\n",
        "    plt.title('Receiver operating characteristic', fontsize=14)\n",
        "    plt.legend(loc=\"lower right\", fontsize=14)\n",
        "    name = method_name + \"ROC_Curve.png\"\n",
        "    plt.savefig(name, dpi=300)\n",
        "    plt.show()"
      ],
      "metadata": {
        "id": "TlAOwcWG1GNk"
      },
      "execution_count": null,
      "outputs": []
    },
    {
      "cell_type": "markdown",
      "source": [
        "# Feature Selection With GA"
      ],
      "metadata": {
        "id": "n5pspjazbjh9"
      }
    },
    {
      "cell_type": "code",
      "source": [
        "pip install sklearn-genetic-opt"
      ],
      "metadata": {
        "id": "nlZ2Vvh6cdMs"
      },
      "execution_count": null,
      "outputs": []
    },
    {
      "cell_type": "markdown",
      "source": [
        "## Train GA"
      ],
      "metadata": {
        "id": "Lp6Dxwgl0LAy"
      }
    },
    {
      "cell_type": "code",
      "source": [
        "from sklearn_genetic import GAFeatureSelectionCV\n",
        "from sklearn_genetic.plots import plot_fitness_evolution\n",
        "method_name = \"GA\"\n",
        "evolved_estimator = GAFeatureSelectionCV(\n",
        "    estimator=clf,\n",
        "    cv=5,\n",
        "    scoring=\"f1\",\n",
        "    population_size=20,\n",
        "    generations=10,\n",
        "    n_jobs=-1,\n",
        "    verbose=True,\n",
        "    keep_top_k=2,\n",
        "    elitism=True,\n",
        ")"
      ],
      "metadata": {
        "id": "g3yMAdySbjCr"
      },
      "execution_count": null,
      "outputs": []
    },
    {
      "cell_type": "code",
      "source": [
        "# Fit GA on Training Features\n",
        "start = datetime.now()\n",
        "evolved_estimator.fit(train_features, train_labels)\n",
        "stop = datetime.now()"
      ],
      "metadata": {
        "id": "r8-ChEmV2gdN"
      },
      "execution_count": null,
      "outputs": []
    },
    {
      "cell_type": "code",
      "source": [
        "# Print the Training Time\n",
        "\n",
        "GA_training_time = stop - start\n",
        "print('GA training time is :', GA_training_time)"
      ],
      "metadata": {
        "id": "zsau_mtFIQSN"
      },
      "execution_count": null,
      "outputs": []
    },
    {
      "cell_type": "code",
      "source": [
        "# Get the best selected indices\n",
        "selected_feature_indices = evolved_estimator.best_features_"
      ],
      "metadata": {
        "id": "XfQvZaa43Eq5"
      },
      "execution_count": null,
      "outputs": []
    },
    {
      "cell_type": "markdown",
      "source": [
        "## Evaluate on Test Data"
      ],
      "metadata": {
        "id": "X_FCaoF_0SS6"
      }
    },
    {
      "cell_type": "code",
      "source": [
        "selected_train_features = train_features[:, selected_feature_indices]\n",
        "selected_test_features = test_features[:, selected_feature_indices]"
      ],
      "metadata": {
        "id": "cKcI_Yk33Lci"
      },
      "execution_count": null,
      "outputs": []
    },
    {
      "cell_type": "code",
      "source": [
        "# Check the shape of the feature arrays\n",
        "print(\"Shape of train_features:\", selected_train_features.shape)\n",
        "print(\"Shape of test_features:\", selected_test_features.shape)"
      ],
      "metadata": {
        "id": "6EYJr5t2cP33"
      },
      "execution_count": null,
      "outputs": []
    },
    {
      "cell_type": "code",
      "source": [
        "clf.fit(selected_train_features, train_labels)\n",
        "\n",
        "predictions = clf.predict(selected_test_features)"
      ],
      "metadata": {
        "id": "HhjNs0V73OOY"
      },
      "execution_count": null,
      "outputs": []
    },
    {
      "cell_type": "markdown",
      "source": [
        "## Plot Results"
      ],
      "metadata": {
        "id": "e1YPlq8c0va8"
      }
    },
    {
      "cell_type": "code",
      "source": [
        "# Calculate scores\n",
        "y_pred = predictions\n",
        "accuracy = accuracy_score(test_labels, y_pred)\n",
        "sensitivity = recall_score(test_labels, y_pred)\n",
        "specificity = recall_score(test_labels, y_pred, pos_label=0)\n",
        "f1 = f1_score(test_labels, y_pred)\n",
        "roc = roc_auc_score(test_labels, y_pred)"
      ],
      "metadata": {
        "id": "0Twwhojd_Zkg"
      },
      "execution_count": null,
      "outputs": []
    },
    {
      "cell_type": "code",
      "source": [
        "# Print the results\n",
        "print(\"scores\")\n",
        "print(\"==================================================\")\n",
        "print(\"Accuracy score: %.4f\" % (accuracy))\n",
        "print(\"Sensitivity score: %.4f\" % (sensitivity))\n",
        "print(\"Specificity score: %.4f\" % (specificity))\n",
        "print(\"F1 score: %.4f\" % (f1))\n",
        "print(\"roc_auc score: %.4f\" % (roc))\n",
        "print(\"==================================================\")"
      ],
      "metadata": {
        "id": "kposTqhh_lWt"
      },
      "execution_count": null,
      "outputs": []
    },
    {
      "cell_type": "code",
      "source": [
        "plot_confusion_matrix(test_labels, y_pred, method_name)"
      ],
      "metadata": {
        "id": "fk207L5__pmW"
      },
      "execution_count": null,
      "outputs": []
    },
    {
      "cell_type": "code",
      "source": [
        "plot_roc_curve(test_labels, y_pred, method_name)"
      ],
      "metadata": {
        "id": "ahpYmepp_tGl"
      },
      "execution_count": null,
      "outputs": []
    },
    {
      "cell_type": "markdown",
      "source": [
        "# Feature Selection With PSO"
      ],
      "metadata": {
        "id": "GDNNrwk532GD"
      }
    },
    {
      "cell_type": "code",
      "source": [
        "pip install pyswarms"
      ],
      "metadata": {
        "id": "3h-1TAHi32GD"
      },
      "execution_count": null,
      "outputs": []
    },
    {
      "cell_type": "markdown",
      "source": [
        "## Train PSO"
      ],
      "metadata": {
        "id": "Dke2__g432GD"
      }
    },
    {
      "cell_type": "code",
      "source": [
        "import pyswarms as ps\n",
        "from sklearn.model_selection import cross_val_score\n",
        "from sklearn.model_selection import train_test_split\n",
        "method_name = \"PSO\""
      ],
      "metadata": {
        "id": "YgUCkESB32GD"
      },
      "execution_count": null,
      "outputs": []
    },
    {
      "cell_type": "code",
      "source": [
        "# Define a fitness function to be minimized\n",
        "def fitness_function(features):\n",
        "    # Convert the selected features to binary values (0 or 1)\n",
        "    selected_features = (features > 0.5).astype(int)\n",
        "\n",
        "    # Get the indices of selected features\n",
        "    selected_indices = np.where(selected_features)[0]\n",
        "\n",
        "    selected_features = train_features[:, selected_indices]\n",
        "\n",
        "    # Split the data into train and test sets\n",
        "    X_train, X_test, y_train, y_test = train_test_split(selected_features, train_labels, test_size=0.2, random_state=42)\n",
        "\n",
        "    # Create a classifier (You can choose any classifier you like)\n",
        "    classifier = RandomForestClassifier(n_estimators=100, random_state=42)\n",
        "\n",
        "    # Train the classifier\n",
        "    classifier.fit(X_train, y_train)\n",
        "\n",
        "    # Make predictions on the test set\n",
        "    y_pred = classifier.predict(X_test)\n",
        "\n",
        "    # Calculate f1 score as the fitness value\n",
        "    f1 = f1_score(y_test, y_pred)\n",
        "\n",
        "    # Since PSO tries to minimize the fitness function, we return 1 - f1\n",
        "    return 1 - f1"
      ],
      "metadata": {
        "id": "YoUMt0phO4Mm"
      },
      "execution_count": null,
      "outputs": []
    },
    {
      "cell_type": "code",
      "source": [
        "# Define the number of features in your dataset\n",
        "num_features = train_features.shape[1]"
      ],
      "metadata": {
        "id": "FHsG0Xj7Pi3X"
      },
      "execution_count": null,
      "outputs": []
    },
    {
      "cell_type": "code",
      "source": [
        "# Initialize the PSO optimizer\n",
        "options = {'c1': 0.5, 'c2': 0.3, 'w': 0.9}\n",
        "optimizer = ps.single.GlobalBestPSO(n_particles=20, dimensions=num_features, options=options)"
      ],
      "metadata": {
        "id": "Ne949m1WPm_a"
      },
      "execution_count": null,
      "outputs": []
    },
    {
      "cell_type": "code",
      "source": [
        "# Perform feature selection using PSO\n",
        "start = datetime.now()\n",
        "cost, best_solution= optimizer.optimize(fitness_function, iters=100)\n",
        "stop = datetime.now()"
      ],
      "metadata": {
        "id": "lI9rMWaaPuNP"
      },
      "execution_count": null,
      "outputs": []
    },
    {
      "cell_type": "code",
      "source": [
        "# Print the Training Time\n",
        "\n",
        "PSO_training_time = stop - start\n",
        "print('PSO training time is :', PSO_training_time)"
      ],
      "metadata": {
        "id": "0_todlOKIga-"
      },
      "execution_count": null,
      "outputs": []
    },
    {
      "cell_type": "code",
      "source": [
        "# Get the selected feature indices from the best solution\n",
        "\n",
        "# Convert the selected features to binary values (0 or 1)\n",
        "selected_features = (best_solution> 0.5).astype(int)\n",
        "\n",
        "# Get the indices of selected features\n",
        "selected_feature_indices = np.where(selected_features)[0]"
      ],
      "metadata": {
        "id": "kna4SKiDQ35Q"
      },
      "execution_count": null,
      "outputs": []
    },
    {
      "cell_type": "code",
      "source": [
        "print(\"Selected Feature Indices:\", selected_feature_indices)\n",
        "print(\"Shape of selected_feature_indices:\", selected_feature_indices.shape)"
      ],
      "metadata": {
        "id": "3PF30iRNQ7r7"
      },
      "execution_count": null,
      "outputs": []
    },
    {
      "cell_type": "markdown",
      "source": [
        "## Evaluate on Test Data"
      ],
      "metadata": {
        "id": "vtHsKPm732GE"
      }
    },
    {
      "cell_type": "code",
      "source": [
        "selected_train_features = train_features[:, selected_feature_indices]\n",
        "selected_test_features = test_features[:, selected_feature_indices]"
      ],
      "metadata": {
        "id": "AJIUu64U32GE"
      },
      "execution_count": null,
      "outputs": []
    },
    {
      "cell_type": "code",
      "source": [
        "# Check the shape of the feature arrays\n",
        "print(\"Shape of train_features:\", train_features.shape)\n",
        "print(\"Shape of train labels:\", train_labels.shape)"
      ],
      "metadata": {
        "id": "hXxmObp2LmO2"
      },
      "execution_count": null,
      "outputs": []
    },
    {
      "cell_type": "code",
      "source": [
        "# Check the shape of the feature arrays\n",
        "print(\"Shape of train_features:\", selected_train_features.shape)\n",
        "print(\"Shape of test_features:\", selected_test_features.shape)"
      ],
      "metadata": {
        "id": "HBfWdKkL32GE"
      },
      "execution_count": null,
      "outputs": []
    },
    {
      "cell_type": "code",
      "source": [
        "clf.fit(selected_train_features, train_labels)\n",
        "\n",
        "predictions = clf.predict(selected_test_features)"
      ],
      "metadata": {
        "id": "NbOaJw0L32GE"
      },
      "execution_count": null,
      "outputs": []
    },
    {
      "cell_type": "markdown",
      "source": [
        "## Plot Results"
      ],
      "metadata": {
        "id": "H_V5dCKZ32GE"
      }
    },
    {
      "cell_type": "code",
      "source": [
        "# Calculate scores\n",
        "y_pred = predictions\n",
        "accuracy = accuracy_score(test_labels, y_pred)\n",
        "sensitivity = recall_score(test_labels, y_pred)\n",
        "specificity = recall_score(test_labels, y_pred, pos_label=0)\n",
        "f1 = f1_score(test_labels, y_pred)\n",
        "roc = roc_auc_score(test_labels, y_pred)"
      ],
      "metadata": {
        "id": "YY55kckr32GE"
      },
      "execution_count": null,
      "outputs": []
    },
    {
      "cell_type": "code",
      "source": [
        "# Print the results\n",
        "print(\"scores\")\n",
        "print(\"==================================================\")\n",
        "print(\"Accuracy score: %.4f\" % (accuracy))\n",
        "print(\"Sensitivity score: %.4f\" % (sensitivity))\n",
        "print(\"Specificity score: %.4f\" % (specificity))\n",
        "print(\"F1 score: %.4f\" % (f1))\n",
        "print(\"roc_auc score: %.4f\" % (roc))\n",
        "print(\"==================================================\")"
      ],
      "metadata": {
        "id": "jss00veL32GE"
      },
      "execution_count": null,
      "outputs": []
    },
    {
      "cell_type": "code",
      "source": [
        "plot_confusion_matrix(test_labels, y_pred, method_name)"
      ],
      "metadata": {
        "id": "N6oJ7oJ-32GE"
      },
      "execution_count": null,
      "outputs": []
    },
    {
      "cell_type": "code",
      "source": [
        "plot_roc_curve(test_labels, y_pred, method_name)"
      ],
      "metadata": {
        "id": "W2PjhGG732GF"
      },
      "execution_count": null,
      "outputs": []
    },
    {
      "cell_type": "markdown",
      "source": [
        "# Feature Selection With GWO"
      ],
      "metadata": {
        "id": "9f_mUJIJp9Ei"
      }
    },
    {
      "cell_type": "markdown",
      "source": [
        "## Define the GWO algorithm functions:"
      ],
      "metadata": {
        "id": "JD-hfDqFp9Ej"
      }
    },
    {
      "cell_type": "code",
      "source": [
        "def initialize_population(num_wolves, num_features):\n",
        "    return np.random.randint(0, 2, size=(num_wolves, num_features))"
      ],
      "metadata": {
        "id": "HqK6_9T92Mm7"
      },
      "execution_count": null,
      "outputs": []
    },
    {
      "cell_type": "code",
      "source": [
        "def fitness(wolf, train_features, train_labels, test_features, test_labels, classifier):\n",
        "    selected_features = train_features[:, wolf.astype(bool)]\n",
        "    clf = classifier.fit(selected_features, train_labels)\n",
        "    test_selected_features = test_features[:, wolf.astype(bool)]\n",
        "    accuracy = clf.score(test_selected_features, test_labels)\n",
        "    return accuracy"
      ],
      "metadata": {
        "id": "CltbRjzi2alc"
      },
      "execution_count": null,
      "outputs": []
    },
    {
      "cell_type": "code",
      "source": [
        "def get_alpha_beta_delta_wolves(accuracy_values):\n",
        "    sorted_indices = np.argsort(accuracy_values)\n",
        "    alpha, beta, delta = sorted_indices[-1], sorted_indices[-2], sorted_indices[-3]\n",
        "    return alpha, beta, delta"
      ],
      "metadata": {
        "id": "l5w-SyF52WsV"
      },
      "execution_count": null,
      "outputs": []
    },
    {
      "cell_type": "code",
      "source": [
        "def update_wolves_positions(alpha, beta, delta, wolves_positions, a=2):\n",
        "    r1 = np.random.rand()\n",
        "    r2 = np.random.rand()\n",
        "    r3 = np.random.rand()\n",
        "\n",
        "    A1 = 2 * a * r1 - a\n",
        "    C1 = 2 * r2\n",
        "    A2 = 2 * a * r3 - a\n",
        "    C2 = 2 * r2\n",
        "\n",
        "    D_alpha = abs(C1 * wolves_positions[alpha, :] - wolves_positions)\n",
        "    X1 = wolves_positions[alpha, :] - A1 * D_alpha\n",
        "\n",
        "    r1 = np.random.rand()\n",
        "    r2 = np.random.rand()\n",
        "    r3 = np.random.rand()\n",
        "\n",
        "    A1 = 2 * a * r1 - a\n",
        "    C1 = 2 * r2\n",
        "    A2 = 2 * a * r3 - a\n",
        "    C2 = 2 * r2\n",
        "\n",
        "    D_beta = abs(C2 * wolves_positions[beta, :] - wolves_positions)\n",
        "    X2 = wolves_positions[beta, :] - A2 * D_beta\n",
        "\n",
        "    r1 = np.random.rand()\n",
        "    r2 = np.random.rand()\n",
        "    r3 = np.random.rand()\n",
        "\n",
        "    A1 = 2 * a * r1 - a\n",
        "    C1 = 2 * r2\n",
        "    A2 = 2 * a * r3 - a\n",
        "    C2 = 2 * r2\n",
        "\n",
        "    D_delta = abs(C2 * wolves_positions[delta, :] - wolves_positions)\n",
        "    X3 = wolves_positions[delta, :] - A1 * D_delta\n",
        "\n",
        "    new_positions = (X1 + X2 + X3) / 3\n",
        "    return new_positions"
      ],
      "metadata": {
        "id": "HtJ7MIWf2Tky"
      },
      "execution_count": null,
      "outputs": []
    },
    {
      "cell_type": "code",
      "source": [
        "def grey_wolf_optimization(train_features, train_labels, test_features, test_labels, num_wolves=30, num_iterations=100, classifier=None):\n",
        "    num_wolves, num_features = num_wolves, train_features.shape[1]\n",
        "    wolves_positions = initialize_population(num_wolves, num_features)\n",
        "\n",
        "    if classifier is None:\n",
        "        from sklearn.ensemble import RandomForestClassifier\n",
        "        classifier = RandomForestClassifier(n_estimators=100, random_state=42)\n",
        "\n",
        "    for iteration in range(num_iterations):\n",
        "        accuracy_values = np.zeros(num_wolves)\n",
        "        for i in range(num_wolves):\n",
        "            accuracy_values[i] = fitness(wolves_positions[i], train_features, train_labels, test_features, test_labels, classifier)\n",
        "\n",
        "        alpha, beta, delta = get_alpha_beta_delta_wolves(accuracy_values)\n",
        "        wolves_positions = update_wolves_positions(alpha, beta, delta, wolves_positions)\n",
        "\n",
        "    alpha, _, _ = get_alpha_beta_delta_wolves(accuracy_values)\n",
        "    selected_feature_indices = np.where(wolves_positions[alpha].astype(bool))[0]\n",
        "    selected_train_features = train_features[:, selected_feature_indices]\n",
        "    selected_test_features = test_features[:, selected_feature_indices]\n",
        "\n",
        "    clf = classifier.fit(selected_train_features, train_labels)\n",
        "    predictions = clf.predict(selected_test_features)\n",
        "\n",
        "    return selected_feature_indices, predictions\n"
      ],
      "metadata": {
        "id": "bhvgk0RW3hBx"
      },
      "execution_count": null,
      "outputs": []
    },
    {
      "cell_type": "markdown",
      "source": [
        "## Train the GWO"
      ],
      "metadata": {
        "id": "58hW6RGHA3g7"
      }
    },
    {
      "cell_type": "code",
      "source": [
        "start = datetime.now()\n",
        "selected_feature_indices, predictions = grey_wolf_optimization(train_features, train_labels, test_features, test_labels)\n",
        "stop = datetime.now()"
      ],
      "metadata": {
        "id": "RYH5La5L2kzt"
      },
      "execution_count": null,
      "outputs": []
    },
    {
      "cell_type": "code",
      "source": [
        "# Print the Training Time\n",
        "method_name = \"GWO\"\n",
        "GWO_training_time = stop - start\n",
        "print('GWO training time is :', GWO_training_time)"
      ],
      "metadata": {
        "id": "wjSMUbmZI4KR"
      },
      "execution_count": null,
      "outputs": []
    },
    {
      "cell_type": "code",
      "source": [
        "num_total_features = train_features.shape[1]\n",
        "num_selected_features = len(selected_feature_indices)\n",
        "print(\"Total input features:\", num_total_features)\n",
        "print(\"Number of selected features:\", num_selected_features)"
      ],
      "metadata": {
        "id": "xlOjujLW4CLp"
      },
      "execution_count": null,
      "outputs": []
    },
    {
      "cell_type": "markdown",
      "source": [
        "## Plot Results"
      ],
      "metadata": {
        "id": "0jE_5_4Vp9Ep"
      }
    },
    {
      "cell_type": "code",
      "source": [
        "# Calculate scores\n",
        "y_pred = predictions\n",
        "accuracy = accuracy_score(test_labels, y_pred)\n",
        "sensitivity = recall_score(test_labels, y_pred)\n",
        "specificity = recall_score(test_labels, y_pred, pos_label=0)\n",
        "f1 = f1_score(test_labels, y_pred)\n",
        "roc = roc_auc_score(test_labels, y_pred)"
      ],
      "metadata": {
        "id": "-siA6C7Lp9Ep"
      },
      "execution_count": null,
      "outputs": []
    },
    {
      "cell_type": "code",
      "source": [
        "# Print the results\n",
        "print(\"scores\")\n",
        "print(\"==================================================\")\n",
        "print(\"Accuracy score: %.4f\" % (accuracy))\n",
        "print(\"Sensitivity score: %.4f\" % (sensitivity))\n",
        "print(\"Specificity score: %.4f\" % (specificity))\n",
        "print(\"F1 score: %.4f\" % (f1))\n",
        "print(\"roc_auc score: %.4f\" % (roc))\n",
        "print(\"==================================================\")"
      ],
      "metadata": {
        "id": "Ta1cbCtXp9Ep"
      },
      "execution_count": null,
      "outputs": []
    },
    {
      "cell_type": "code",
      "source": [
        "plot_confusion_matrix(test_labels, y_pred, method_name)"
      ],
      "metadata": {
        "id": "NCf3bQHjp9Ep"
      },
      "execution_count": null,
      "outputs": []
    },
    {
      "cell_type": "code",
      "source": [
        "plot_roc_curve(test_labels, y_pred, method_name)"
      ],
      "metadata": {
        "id": "d2EPy63cp9Eq"
      },
      "execution_count": null,
      "outputs": []
    },
    {
      "cell_type": "markdown",
      "source": [
        "# Feature Selection With WOA"
      ],
      "metadata": {
        "id": "QqkZWovt7SAk"
      }
    },
    {
      "cell_type": "markdown",
      "source": [
        "## Define the WOA algorithm functions:"
      ],
      "metadata": {
        "id": "cnqmmOCl7SAm"
      }
    },
    {
      "cell_type": "code",
      "source": [
        "def initialize_population(num_whales, num_features):\n",
        "    return np.random.randint(0, 2, size=(num_whales, num_features))"
      ],
      "metadata": {
        "id": "-9duLo3v7SAm"
      },
      "execution_count": null,
      "outputs": []
    },
    {
      "cell_type": "code",
      "source": [
        "def fitness(whale, train_features, train_labels, test_features, test_labels, classifier):\n",
        "    selected_features = train_features[:, whale.astype(bool)]\n",
        "    clf = classifier.fit(selected_features, train_labels)\n",
        "    test_selected_features = test_features[:, whale.astype(bool)]\n",
        "    accuracy = clf.score(test_selected_features, test_labels)\n",
        "    return accuracy"
      ],
      "metadata": {
        "id": "KksKaMMy7SAm"
      },
      "execution_count": null,
      "outputs": []
    },
    {
      "cell_type": "code",
      "source": [
        "def update_whale_positions(whales_positions, a=2, num_iterations=100):\n",
        "    num_whales, num_features = whales_positions.shape\n",
        "    c = 1.0\n",
        "    iterations = 0\n",
        "    while iterations < num_iterations:\n",
        "        a_linear = 2 - iterations * (2 / num_iterations)\n",
        "        for i in range(num_whales):\n",
        "            A = 2 * a * np.random.random() - a\n",
        "            A_linear = 2 * np.random.random()\n",
        "            distance_to_leader = abs(2 * A * whales_positions[i, :] - whales_positions[0, :])\n",
        "            new_position = whales_positions[0, :] - A * distance_to_leader\n",
        "\n",
        "            if A_linear < 1:\n",
        "                whales_positions[i, :] = (new_position + A_linear * distance_to_leader) / 2\n",
        "            else:\n",
        "                random_whale_index = np.random.randint(0, num_whales)\n",
        "                whales_positions[i, :] = whales_positions[random_whale_index, :]\n",
        "\n",
        "        iterations += 1\n",
        "\n",
        "    return whales_positions"
      ],
      "metadata": {
        "id": "qEtbRX0E7SAm"
      },
      "execution_count": null,
      "outputs": []
    },
    {
      "cell_type": "code",
      "source": [
        "def whale_optimization(train_features, train_labels, test_features, test_labels, num_whales=30, num_iterations=100, classifier=None):\n",
        "    num_whales, num_features = num_whales, train_features.shape[1]\n",
        "    whales_positions = initialize_population(num_whales, num_features)\n",
        "\n",
        "    if classifier is None:\n",
        "        from sklearn.ensemble import RandomForestClassifier\n",
        "        classifier = RandomForestClassifier(n_estimators=100, random_state=42)\n",
        "\n",
        "    for iteration in range(num_iterations):\n",
        "        accuracy_values = np.zeros(num_whales)\n",
        "        for i in range(num_whales):\n",
        "            accuracy_values[i] = fitness(whales_positions[i], train_features, train_labels, test_features, test_labels, classifier)\n",
        "\n",
        "        whales_positions = update_whale_positions(whales_positions)\n",
        "\n",
        "    leader_index = np.argmax(accuracy_values)\n",
        "    selected_feature_indices = np.where(whales_positions[leader_index].astype(bool))[0]\n",
        "    selected_train_features = train_features[:, selected_feature_indices]\n",
        "    selected_test_features = test_features[:, selected_feature_indices]\n",
        "\n",
        "    clf = classifier.fit(selected_train_features, train_labels)\n",
        "    predictions = clf.predict(selected_test_features)\n",
        "\n",
        "    return selected_feature_indices, predictions\n"
      ],
      "metadata": {
        "id": "LkiVlVWg70yX"
      },
      "execution_count": null,
      "outputs": []
    },
    {
      "cell_type": "markdown",
      "source": [
        "## Train The WOA"
      ],
      "metadata": {
        "id": "QZkKFoPdAuki"
      }
    },
    {
      "cell_type": "code",
      "source": [
        "start = datetime.now()\n",
        "selected_feature_indices, predictions = whale_optimization(train_features, train_labels, test_features, test_labels)\n",
        "stop = datetime.now()"
      ],
      "metadata": {
        "id": "Fyoc0WYd7SAn"
      },
      "execution_count": null,
      "outputs": []
    },
    {
      "cell_type": "code",
      "source": [
        "# Print the Training Time\n",
        "method_name = \"WOA\"\n",
        "WOA_training_time = stop - start\n",
        "print('WOA training time is :', WOA_training_time)"
      ],
      "metadata": {
        "id": "UvHuBamdJGgQ"
      },
      "execution_count": null,
      "outputs": []
    },
    {
      "cell_type": "code",
      "source": [
        "num_total_features = train_features.shape[1]\n",
        "num_selected_features = len(selected_feature_indices)\n",
        "print(\"Total input features:\", num_total_features)\n",
        "print(\"Number of selected features:\", num_selected_features)"
      ],
      "metadata": {
        "id": "tZLYihOV7SAn"
      },
      "execution_count": null,
      "outputs": []
    },
    {
      "cell_type": "markdown",
      "source": [
        "## Plot Results"
      ],
      "metadata": {
        "id": "jlBzPgip7SAn"
      }
    },
    {
      "cell_type": "code",
      "source": [
        "# Calculate scores\n",
        "y_pred = predictions\n",
        "accuracy = accuracy_score(test_labels, y_pred)\n",
        "sensitivity = recall_score(test_labels, y_pred)\n",
        "specificity = recall_score(test_labels, y_pred, pos_label=0)\n",
        "f1 = f1_score(test_labels, y_pred)\n",
        "roc = roc_auc_score(test_labels, y_pred)"
      ],
      "metadata": {
        "id": "g9boFAj_7SAn"
      },
      "execution_count": null,
      "outputs": []
    },
    {
      "cell_type": "code",
      "source": [
        "# Print the results\n",
        "print(\"scores\")\n",
        "print(\"==================================================\")\n",
        "print(\"Accuracy score: %.4f\" % (accuracy))\n",
        "print(\"Sensitivity score: %.4f\" % (sensitivity))\n",
        "print(\"Specificity score: %.4f\" % (specificity))\n",
        "print(\"F1 score: %.4f\" % (f1))\n",
        "print(\"roc_auc score: %.4f\" % (roc))\n",
        "print(\"==================================================\")"
      ],
      "metadata": {
        "id": "19uwncYt7SAn"
      },
      "execution_count": null,
      "outputs": []
    },
    {
      "cell_type": "code",
      "source": [
        "plot_confusion_matrix(test_labels, y_pred, method_name)"
      ],
      "metadata": {
        "id": "IL2MtZmD7SAo"
      },
      "execution_count": null,
      "outputs": []
    },
    {
      "cell_type": "code",
      "source": [
        "plot_roc_curve(test_labels, y_pred, method_name)"
      ],
      "metadata": {
        "id": "aCmfrMhF7SAo"
      },
      "execution_count": null,
      "outputs": []
    },
    {
      "cell_type": "markdown",
      "source": [
        "# Feature Selection With Artificial Bee Colony (ABC)"
      ],
      "metadata": {
        "id": "39RUOcLp8LWJ"
      }
    },
    {
      "cell_type": "markdown",
      "source": [
        "## Define the Artificial Bee Colony (ABC) algorithm functions:"
      ],
      "metadata": {
        "id": "NGuv0UbO8LWK"
      }
    },
    {
      "cell_type": "code",
      "source": [
        "def initialize_population(num_bees, num_features):\n",
        "    return np.random.randint(0, 2, size=(num_bees, num_features))"
      ],
      "metadata": {
        "id": "g6heBI6F8LWK"
      },
      "execution_count": null,
      "outputs": []
    },
    {
      "cell_type": "code",
      "source": [
        "def fitness(bee, train_features, train_labels, test_features, test_labels, classifier):\n",
        "    selected_features = train_features[:, bee.astype(bool)]\n",
        "    clf = classifier.fit(selected_features, train_labels)\n",
        "    test_selected_features = test_features[:, bee.astype(bool)]\n",
        "    accuracy = clf.score(test_selected_features, test_labels)\n",
        "    return accuracy"
      ],
      "metadata": {
        "id": "caEuuqZx8LWL"
      },
      "execution_count": null,
      "outputs": []
    },
    {
      "cell_type": "code",
      "source": [
        "def scout_bees(num_bees, num_features):\n",
        "    return initialize_population(num_bees, num_features)"
      ],
      "metadata": {
        "id": "ICQOGIP_8cxn"
      },
      "execution_count": null,
      "outputs": []
    },
    {
      "cell_type": "code",
      "source": [
        "def employed_bees(population, train_features, train_labels, test_features, test_labels, classifier):\n",
        "    num_bees, num_features = population.shape\n",
        "    fitness_values = np.zeros(num_bees)\n",
        "    for i in range(num_bees):\n",
        "        fitness_values[i] = fitness(population[i], train_features, train_labels, test_features, test_labels, classifier)\n",
        "\n",
        "    best_bee_index = np.argmax(fitness_values)\n",
        "    best_bee = population[best_bee_index]\n",
        "    return best_bee, best_bee_index"
      ],
      "metadata": {
        "id": "JlKFbawn8fIz"
      },
      "execution_count": null,
      "outputs": []
    },
    {
      "cell_type": "code",
      "source": [
        "def onlooker_bees(population, employed_bee, employed_bee_index, train_features, train_labels, test_features, test_labels, classifier):\n",
        "    num_bees, num_features = population.shape\n",
        "    fitness_values = np.zeros(num_bees)\n",
        "\n",
        "    for i in range(num_bees):\n",
        "        if i != employed_bee_index:\n",
        "            fitness_values[i] = fitness(population[i], train_features, train_labels, test_features, test_labels, classifier)\n",
        "\n",
        "    if np.all(fitness_values >= 0):\n",
        "        # Normalize fitness values to probabilities\n",
        "        probabilities = fitness_values / np.sum(fitness_values)\n",
        "    else:\n",
        "        # Handle the case where there are negative fitness values\n",
        "        # Assign equal probabilities to all bees\n",
        "        probabilities = np.ones(num_bees) / num_bees\n",
        "    selected_bee_index = np.random.choice(np.arange(num_bees), p=probabilities)\n",
        "    selected_bee = population[selected_bee_index]\n",
        "\n",
        "    return selected_bee, selected_bee_index\n"
      ],
      "metadata": {
        "id": "hZ5oJuo48h36"
      },
      "execution_count": null,
      "outputs": []
    },
    {
      "cell_type": "code",
      "source": [
        "def update_employed_bees(employed_bee, onlooker_bee, train_features, train_labels, test_features, test_labels, classifier):\n",
        "    num_features = employed_bee.shape[0]\n",
        "    selected_features = np.copy(employed_bee)\n",
        "    changed_indices = np.random.choice(np.arange(num_features), size=2, replace=False)\n",
        "    selected_features[changed_indices] = onlooker_bee[changed_indices]\n",
        "\n",
        "    employed_fitness = fitness(employed_bee, train_features, train_labels, test_features, test_labels, classifier)\n",
        "    onlooker_fitness = fitness(onlooker_bee, train_features, train_labels, test_features, test_labels, classifier)\n",
        "\n",
        "    if onlooker_fitness > employed_fitness:\n",
        "        return selected_features\n",
        "    else:\n",
        "        return employed_bee"
      ],
      "metadata": {
        "id": "7wZVe0_N8kR8"
      },
      "execution_count": null,
      "outputs": []
    },
    {
      "cell_type": "code",
      "source": [
        "def scout_bee(population, employed_bee_index, train_features, train_labels, test_features, test_labels, classifier):\n",
        "    num_features = population.shape[1]\n",
        "    scout_index = np.random.randint(0, num_features)\n",
        "    population[employed_bee_index, scout_index] = 1 - population[employed_bee_index, scout_index]\n",
        "    return population"
      ],
      "metadata": {
        "id": "xql0KvBw8nql"
      },
      "execution_count": null,
      "outputs": []
    },
    {
      "cell_type": "code",
      "source": [
        "def abc_optimization(train_features, train_labels, test_features, test_labels, num_bees=30, num_iterations=100, classifier=None):\n",
        "    num_bees, num_features = num_bees, train_features.shape[1]\n",
        "    population = initialize_population(num_bees, num_features)\n",
        "\n",
        "    if classifier is None:\n",
        "        from sklearn.ensemble import RandomForestClassifier\n",
        "        classifier = RandomForestClassifier(n_estimators=100, random_state=42)\n",
        "\n",
        "    for iteration in range(num_iterations):\n",
        "        employed_bee, employed_bee_index = employed_bees(population, train_features, train_labels, test_features, test_labels, classifier)\n",
        "        onlooker_bee, _ = onlooker_bees(population, employed_bee, employed_bee_index, train_features, train_labels, test_features, test_labels, classifier)\n",
        "        updated_employed_bee = update_employed_bees(employed_bee, onlooker_bee, train_features, train_labels, test_features, test_labels, classifier)\n",
        "        population[employed_bee_index] = updated_employed_bee\n",
        "        population = scout_bee(population, employed_bee_index, train_features, train_labels, test_features, test_labels, classifier)\n",
        "\n",
        "    best_bee, _ = employed_bees(population, train_features, train_labels, test_features, test_labels, classifier)\n",
        "    selected_feature_indices = np.where(best_bee.astype(bool))[0]\n",
        "    selected_train_features = train_features[:, selected_feature_indices]\n",
        "    selected_test_features = test_features[:, selected_feature_indices]\n",
        "\n",
        "    clf = classifier.fit(selected_train_features, train_labels)\n",
        "    predictions = clf.predict(selected_test_features)\n",
        "\n",
        "    return selected_feature_indices, predictions"
      ],
      "metadata": {
        "id": "5MpNxzSg8zxg"
      },
      "execution_count": null,
      "outputs": []
    },
    {
      "cell_type": "markdown",
      "source": [
        "## Train the ABC"
      ],
      "metadata": {
        "id": "Yb3-JyeIBEi7"
      }
    },
    {
      "cell_type": "code",
      "source": [
        "start = datetime.now()\n",
        "selected_feature_indices, predictions = abc_optimization(train_features, train_labels, test_features, test_labels)\n",
        "stop = datetime.now()"
      ],
      "metadata": {
        "id": "Ebg9X1st8LWL"
      },
      "execution_count": null,
      "outputs": []
    },
    {
      "cell_type": "code",
      "source": [
        "# Print the Training Time\n",
        "method_name = \"ABC\"\n",
        "ABC_training_time = stop - start\n",
        "print('ABC training time is :', ABC_training_time)"
      ],
      "metadata": {
        "id": "KTK8LrVGJXCT"
      },
      "execution_count": null,
      "outputs": []
    },
    {
      "cell_type": "code",
      "source": [
        "num_total_features = train_features.shape[1]\n",
        "num_selected_features = len(selected_feature_indices)\n",
        "print(\"Total input features:\", num_total_features)\n",
        "print(\"Number of selected features:\", num_selected_features)"
      ],
      "metadata": {
        "id": "ulSi7hdF8LWL"
      },
      "execution_count": null,
      "outputs": []
    },
    {
      "cell_type": "markdown",
      "source": [
        "## Plot Results"
      ],
      "metadata": {
        "id": "VXS5ZWT98LWL"
      }
    },
    {
      "cell_type": "code",
      "source": [
        "# Calculate scores\n",
        "y_pred = predictions\n",
        "accuracy = accuracy_score(test_labels, y_pred)\n",
        "sensitivity = recall_score(test_labels, y_pred)\n",
        "specificity = recall_score(test_labels, y_pred, pos_label=0)\n",
        "f1 = f1_score(test_labels, y_pred)\n",
        "roc = roc_auc_score(test_labels, y_pred)"
      ],
      "metadata": {
        "id": "z3COLS_H8LWM"
      },
      "execution_count": null,
      "outputs": []
    },
    {
      "cell_type": "code",
      "source": [
        "# Print the results\n",
        "print(\"scores\")\n",
        "print(\"==================================================\")\n",
        "print(\"Accuracy score: %.4f\" % (accuracy))\n",
        "print(\"Sensitivity score: %.4f\" % (sensitivity))\n",
        "print(\"Specificity score: %.4f\" % (specificity))\n",
        "print(\"F1 score: %.4f\" % (f1))\n",
        "print(\"roc_auc score: %.4f\" % (roc))\n",
        "print(\"==================================================\")"
      ],
      "metadata": {
        "id": "QECCF1sn8LWM"
      },
      "execution_count": null,
      "outputs": []
    },
    {
      "cell_type": "code",
      "source": [
        "plot_confusion_matrix(test_labels, y_pred, method_name)"
      ],
      "metadata": {
        "id": "dBu0Q4qi8LWM"
      },
      "execution_count": null,
      "outputs": []
    },
    {
      "cell_type": "code",
      "source": [
        "plot_roc_curve(test_labels, y_pred,method_name)"
      ],
      "metadata": {
        "id": "xcYGBDUy8LWM"
      },
      "execution_count": null,
      "outputs": []
    },
    {
      "cell_type": "markdown",
      "source": [
        "# Feature Selection With Butterfly Optimization Algorithm (BOA)"
      ],
      "metadata": {
        "id": "HjYq6jva9ZkD"
      }
    },
    {
      "cell_type": "markdown",
      "source": [
        "## Define the Butterfly Optimization Algorithm (BOA) functions:"
      ],
      "metadata": {
        "id": "kh1qnuiD9ZkE"
      }
    },
    {
      "cell_type": "code",
      "source": [
        "def initialize_population(num_butterflies, num_features):\n",
        "    return np.random.randint(0, 2, size=(num_butterflies, num_features))"
      ],
      "metadata": {
        "id": "ZuKxl8mQ9ZkE"
      },
      "execution_count": null,
      "outputs": []
    },
    {
      "cell_type": "code",
      "source": [
        "def fitness(butterfly, train_features, train_labels, test_features, test_labels, classifier):\n",
        "    selected_features = train_features[:, butterfly.astype(bool)]\n",
        "    clf = classifier.fit(selected_features, train_labels)\n",
        "    test_selected_features = test_features[:, butterfly.astype(bool)]\n",
        "    accuracy = clf.score(test_selected_features, test_labels)\n",
        "    return accuracy"
      ],
      "metadata": {
        "id": "indjEO7J9ZkF"
      },
      "execution_count": null,
      "outputs": []
    },
    {
      "cell_type": "code",
      "source": [
        "def butterfly_movement(butterfly, best_butterfly, step_size=0.1):\n",
        "    delta = step_size * (butterfly - best_butterfly)\n",
        "    return butterfly + delta"
      ],
      "metadata": {
        "id": "Z1dWBNYi9p_g"
      },
      "execution_count": null,
      "outputs": []
    },
    {
      "cell_type": "code",
      "source": [
        "def update_population(population, fitness_values, best_butterfly_index, step_size=0.1):\n",
        "    num_butterflies, num_features = population.shape\n",
        "    best_butterfly = population[best_butterfly_index]\n",
        "\n",
        "    for i in range(num_butterflies):\n",
        "        if i != best_butterfly_index:\n",
        "            population[i] = butterfly_movement(population[i], best_butterfly, step_size)\n",
        "\n",
        "    return population"
      ],
      "metadata": {
        "id": "GnrbIMUK9sKJ"
      },
      "execution_count": null,
      "outputs": []
    },
    {
      "cell_type": "code",
      "source": [
        "def boa_optimization(train_features, train_labels, test_features, test_labels, num_butterflies=30, num_iterations=100, step_size=0.1, classifier=None):\n",
        "    num_butterflies, num_features = num_butterflies, train_features.shape[1]\n",
        "    population = initialize_population(num_butterflies, num_features)\n",
        "\n",
        "    if classifier is None:\n",
        "        from sklearn.ensemble import RandomForestClassifier\n",
        "        classifier = RandomForestClassifier(n_estimators=100, random_state=42)\n",
        "\n",
        "    best_accuracy = 0.0\n",
        "    best_butterfly_index = 0\n",
        "\n",
        "    for iteration in range(num_iterations):\n",
        "        accuracy_values = np.zeros(num_butterflies)\n",
        "        for i in range(num_butterflies):\n",
        "            accuracy_values[i] = fitness(population[i], train_features, train_labels, test_features, test_labels, classifier)\n",
        "            if accuracy_values[i] > best_accuracy:\n",
        "                best_accuracy = accuracy_values[i]\n",
        "                best_butterfly_index = i\n",
        "\n",
        "        population = update_population(population, accuracy_values, best_butterfly_index, step_size)\n",
        "\n",
        "    best_butterfly = population[best_butterfly_index]\n",
        "    selected_feature_indices = np.where(best_butterfly.astype(bool))[0]\n",
        "    selected_train_features = train_features[:, selected_feature_indices]\n",
        "    selected_test_features = test_features[:, selected_feature_indices]\n",
        "\n",
        "    clf = classifier.fit(selected_train_features, train_labels)\n",
        "    predictions = clf.predict(selected_test_features)\n",
        "\n",
        "    return selected_feature_indices, predictions"
      ],
      "metadata": {
        "id": "RNiDifMS9w67"
      },
      "execution_count": null,
      "outputs": []
    },
    {
      "cell_type": "markdown",
      "source": [
        "## Train the BOA"
      ],
      "metadata": {
        "id": "gQOy047eBMfi"
      }
    },
    {
      "cell_type": "code",
      "source": [
        "start = datetime.now()\n",
        "selected_feature_indices, predictions = boa_optimization(train_features, train_labels, test_features, test_labels)\n",
        "stop = datetime.now()"
      ],
      "metadata": {
        "id": "4MjtfhjR9ZkG"
      },
      "execution_count": null,
      "outputs": []
    },
    {
      "cell_type": "code",
      "source": [
        "# Print the Training Time\n",
        "method_name = \"BOA\"\n",
        "BOA_training_time = stop - start\n",
        "print('BOA training time is :', BOA_training_time)"
      ],
      "metadata": {
        "id": "R-Eue6EtJofy"
      },
      "execution_count": null,
      "outputs": []
    },
    {
      "cell_type": "code",
      "source": [
        "num_total_features = train_features.shape[1]\n",
        "num_selected_features = len(selected_feature_indices)\n",
        "print(\"Total input features:\", num_total_features)\n",
        "print(\"Number of selected features:\", num_selected_features)"
      ],
      "metadata": {
        "id": "Scc4S21A9ZkG"
      },
      "execution_count": null,
      "outputs": []
    },
    {
      "cell_type": "markdown",
      "source": [
        "## Plot Results"
      ],
      "metadata": {
        "id": "THz5I_pg9ZkG"
      }
    },
    {
      "cell_type": "code",
      "source": [
        "# Calculate scores\n",
        "y_pred = predictions\n",
        "accuracy = accuracy_score(test_labels, y_pred)\n",
        "sensitivity = recall_score(test_labels, y_pred)\n",
        "specificity = recall_score(test_labels, y_pred, pos_label=0)\n",
        "f1 = f1_score(test_labels, y_pred)\n",
        "roc = roc_auc_score(test_labels, y_pred)"
      ],
      "metadata": {
        "id": "KEHIZfgp9ZkG"
      },
      "execution_count": null,
      "outputs": []
    },
    {
      "cell_type": "code",
      "source": [
        "# Print the results\n",
        "print(\"scores\")\n",
        "print(\"==================================================\")\n",
        "print(\"Accuracy score: %.4f\" % (accuracy))\n",
        "print(\"Sensitivity score: %.4f\" % (sensitivity))\n",
        "print(\"Specificity score: %.4f\" % (specificity))\n",
        "print(\"F1 score: %.4f\" % (f1))\n",
        "print(\"roc_auc score: %.4f\" % (roc))\n",
        "print(\"==================================================\")"
      ],
      "metadata": {
        "id": "V_wV6cL69ZkH"
      },
      "execution_count": null,
      "outputs": []
    },
    {
      "cell_type": "code",
      "source": [
        "plot_confusion_matrix(test_labels, y_pred, method_name)"
      ],
      "metadata": {
        "id": "CHymp9Oa9ZkH"
      },
      "execution_count": null,
      "outputs": []
    },
    {
      "cell_type": "code",
      "source": [
        "plot_roc_curve(test_labels, y_pred, method_name)"
      ],
      "metadata": {
        "id": "PzR0Ezeo9ZkH"
      },
      "execution_count": null,
      "outputs": []
    },
    {
      "cell_type": "markdown",
      "source": [
        "# Feature Selection With RFE"
      ],
      "metadata": {
        "id": "GhG70HNVj33g"
      }
    },
    {
      "cell_type": "markdown",
      "source": [
        "## Train RFE"
      ],
      "metadata": {
        "id": "Xeewy8Lmj33g"
      }
    },
    {
      "cell_type": "code",
      "source": [
        "from sklearn.feature_selection import RFE"
      ],
      "metadata": {
        "id": "RVzT06WMj33g"
      },
      "execution_count": null,
      "outputs": []
    },
    {
      "cell_type": "code",
      "source": [
        "# Define the number of features to select\n",
        "num_features_to_select = 10  # Adjust this based on your preference\n",
        "\n",
        "# Initialize the RFE selector\n",
        "rfe = RFE(estimator=clf, n_features_to_select=num_features_to_select)\n",
        "\n",
        "# Fit the RFE selector on your data\n",
        "rfe.fit(train_features, train_labels)\n",
        "\n",
        "# Get the selected features\n",
        "selected_features = train_features[:, rfe.support_]\n"
      ],
      "metadata": {
        "id": "aMOaWg4Xj33g"
      },
      "execution_count": null,
      "outputs": []
    },
    {
      "cell_type": "code",
      "source": [
        "selected_feature_indices = np.where(rfe.support_)[0]"
      ],
      "metadata": {
        "id": "icFSqcF1k4Jh"
      },
      "execution_count": null,
      "outputs": []
    },
    {
      "cell_type": "markdown",
      "source": [
        "## Evaluate on Test Data"
      ],
      "metadata": {
        "id": "OCBwjcNDj33h"
      }
    },
    {
      "cell_type": "code",
      "source": [
        "selected_train_features = train_features[:, selected_feature_indices]\n",
        "selected_test_features = test_features[:, selected_feature_indices]"
      ],
      "metadata": {
        "id": "GJlzS_Nej33i"
      },
      "execution_count": null,
      "outputs": []
    },
    {
      "cell_type": "code",
      "source": [
        "# Check the shape of the feature arrays\n",
        "print(\"Shape of train_features:\", train_features.shape)\n",
        "print(\"Shape of train labels:\", train_labels.shape)"
      ],
      "metadata": {
        "id": "fUSsYFtcj33i"
      },
      "execution_count": null,
      "outputs": []
    },
    {
      "cell_type": "code",
      "source": [
        "# Check the shape of the feature arrays\n",
        "print(\"Shape of train_features:\", selected_train_features.shape)\n",
        "print(\"Shape of test_features:\", selected_test_features.shape)"
      ],
      "metadata": {
        "id": "cjMjCtJXj33i"
      },
      "execution_count": null,
      "outputs": []
    },
    {
      "cell_type": "code",
      "source": [
        "clf.fit(selected_train_features, train_labels)\n",
        "\n",
        "predictions = clf.predict(selected_test_features)"
      ],
      "metadata": {
        "id": "gTzIZzlnj33i"
      },
      "execution_count": null,
      "outputs": []
    },
    {
      "cell_type": "markdown",
      "source": [
        "## Plot Results"
      ],
      "metadata": {
        "id": "scbAxWUoj33i"
      }
    },
    {
      "cell_type": "code",
      "source": [
        "# Calculate scores\n",
        "y_pred = predictions\n",
        "accuracy = accuracy_score(test_labels, y_pred)\n",
        "sensitivity = recall_score(test_labels, y_pred)\n",
        "specificity = recall_score(test_labels, y_pred, pos_label=0)\n",
        "f1 = f1_score(test_labels, y_pred)\n",
        "roc = roc_auc_score(test_labels, y_pred)"
      ],
      "metadata": {
        "id": "qf2Rq6h2j33i"
      },
      "execution_count": null,
      "outputs": []
    },
    {
      "cell_type": "code",
      "source": [
        "# Print the results\n",
        "print(\"scores\")\n",
        "print(\"==================================================\")\n",
        "print(\"Accuracy score: %.4f\" % (accuracy))\n",
        "print(\"Sensitivity score: %.4f\" % (sensitivity))\n",
        "print(\"Specificity score: %.4f\" % (specificity))\n",
        "print(\"F1 score: %.4f\" % (f1))\n",
        "print(\"roc_auc score: %.4f\" % (roc))\n",
        "print(\"==================================================\")"
      ],
      "metadata": {
        "id": "FseZoU3Mj33i"
      },
      "execution_count": null,
      "outputs": []
    },
    {
      "cell_type": "code",
      "source": [
        "plot_confusion_matrix(test_labels, y_pred, \"RFE\")"
      ],
      "metadata": {
        "id": "0THoa7o6j33j"
      },
      "execution_count": null,
      "outputs": []
    },
    {
      "cell_type": "code",
      "source": [
        "plot_roc_curve(test_labels, y_pred, \"RFE\")"
      ],
      "metadata": {
        "id": "vEFSzEe_j33j"
      },
      "execution_count": null,
      "outputs": []
    }
  ]
}