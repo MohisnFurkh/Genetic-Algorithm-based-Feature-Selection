{
  "nbformat": 4,
  "nbformat_minor": 0,
  "metadata": {
    "colab": {
      "provenance": []
    },
    "kernelspec": {
      "name": "python3",
      "display_name": "Python 3"
    },
    "language_info": {
      "name": "python"
    }
  },
  "cells": [
    {
      "cell_type": "code",
      "source": [
        "from google.colab import drive\n",
        "drive.mount('/content/drive')"
      ],
      "metadata": {
        "colab": {
          "base_uri": "https://localhost:8080/"
        },
        "id": "9ay3bpBcu9LD",
        "outputId": "6e347399-3741-49ed-c4c1-b7a95b7b8cba"
      },
      "execution_count": null,
      "outputs": [
        {
          "output_type": "stream",
          "name": "stdout",
          "text": [
            "Mounted at /content/drive\n"
          ]
        }
      ]
    },
    {
      "cell_type": "markdown",
      "source": [
        "# Load Data"
      ],
      "metadata": {
        "id": "E8cTI25UMqwO"
      }
    },
    {
      "cell_type": "code",
      "source": [
        "import os\n",
        "import numpy as np\n",
        "import pandas as pd\n",
        "import cv2\n",
        "from skimage.metrics import mean_squared_error\n",
        "from sklearn.preprocessing import StandardScaler\n",
        "from skimage.metrics import structural_similarity as ssim\n",
        "\n",
        "\n",
        "# Define the paths to the original US images, tumor masks, and fused images\n",
        "us_path = '/content/drive/MyDrive/Datasets/Segmentation/Dataset-B/Images'\n",
        "mask_path = '/content/drive/MyDrive/Datasets/Segmentation/Dataset-B/masks'\n",
        "fused_path = '/content/drive/MyDrive/Datasets/Segmentation/Dataset-B/Fused'\n",
        "\n",
        "# Define the desired size of the images\n",
        "image_size = (256, 256)\n",
        "\n",
        "# Get a list of the image filenames in the fused directory\n",
        "image_filenames = os.listdir(fused_path)\n",
        "\n",
        "# Initialize lists to store the MSE and SSIM values for each image\n",
        "us_fused_mse_list = []\n",
        "us_fused_ssim_list = []\n",
        "mask_fused_mse_list = []\n",
        "mask_fused_ssim_list = []"
      ],
      "metadata": {
        "id": "UOezSAZetNZU"
      },
      "execution_count": null,
      "outputs": []
    },
    {
      "cell_type": "markdown",
      "source": [
        "# Metrics"
      ],
      "metadata": {
        "id": "arUfTJykMtWa"
      }
    },
    {
      "cell_type": "code",
      "source": [
        "def calculate_psnr(original_image, fused_image):\n",
        "    # Load the images\n",
        "    img1 = cv2.imread(original_image)\n",
        "    img2 = cv2.imread(fused_image)\n",
        "\n",
        "    # Convert the images to grayscale\n",
        "    img1_gray = cv2.cvtColor(img1, cv2.COLOR_BGR2GRAY)\n",
        "    img2_gray = cv2.cvtColor(img2, cv2.COLOR_BGR2GRAY)\n",
        "\n",
        "    # Calculate the MSE\n",
        "    mse = np.mean((img1_gray - img2_gray) ** 2)\n",
        "\n",
        "    # Calculate the maximum pixel value\n",
        "    max_pixel = 255.0\n",
        "\n",
        "    # Calculate the PSNR\n",
        "    if mse == 0:\n",
        "        return \"Same Image\"\n",
        "    else:\n",
        "        psnr = 20 * np.log10(max_pixel / np.sqrt(mse))\n",
        "        return psnr\n"
      ],
      "metadata": {
        "id": "jk4RXanLGixN"
      },
      "execution_count": null,
      "outputs": []
    },
    {
      "cell_type": "markdown",
      "source": [
        "# Wavelet based fusion"
      ],
      "metadata": {
        "id": "1BQeRkmSNCHc"
      }
    },
    {
      "cell_type": "code",
      "source": [
        "def calculate_metrics(us_path, mask_path, fused_path):\n",
        "    # Initialize arrays to store MSE and SSIM values\n",
        "    mse_values = []\n",
        "    psnr_values = []\n",
        "    ssim_values = []\n",
        "\n",
        "    # Loop over each image file in the original US images and mask directories\n",
        "    for filename in os.listdir(us_path):\n",
        "        # Read in the original US image and mask, and the corresponding fused image\n",
        "        us_image = cv2.imread(os.path.join(us_path, filename))\n",
        "        mask_image = cv2.imread(os.path.join(mask_path, filename))\n",
        "        fused_image = cv2.imread(os.path.join(fused_path, filename))\n",
        "\n",
        "        # Normalize the image data to [0, 1] range\n",
        "        us_image_norm = cv2.normalize(us_image, None, alpha=0, beta=1, norm_type=cv2.NORM_MINMAX, dtype=cv2.CV_32F)\n",
        "        mask_image_norm = cv2.normalize(mask_image, None, alpha=0, beta=1, norm_type=cv2.NORM_MINMAX, dtype=cv2.CV_32F)\n",
        "        fused_image_norm = cv2.normalize(fused_image, None, alpha=0, beta=1, norm_type=cv2.NORM_MINMAX, dtype=cv2.CV_32F)\n",
        "\n",
        "        # Calculate MSE and PSNR between the original US image and the fused image\n",
        "        mse = np.mean((us_image_norm - fused_image_norm)**2)\n",
        "        psnr = calculate_psnr(os.path.join(us_path, filename), os.path.join(fused_path, filename))\n",
        "\n",
        "        mse_values.append(mse)\n",
        "        psnr_values.append(psnr)\n",
        "\n",
        "        # Calculate SSIM between the original US image and mask, and the fused image\n",
        "        ssim_value = ssim(us_image_norm, fused_image_norm, channel_axis=2)\n",
        "        ssim_values.append(ssim_value)\n",
        "\n",
        "    # Compute the mean MSE, PSNR, and SSIM values over all images\n",
        "    mean_mse = np.mean(mse_values)\n",
        "    mean_psnr = np.mean(psnr_values)\n",
        "    mean_ssim = np.mean(ssim_values)\n",
        "\n",
        "    return mean_mse, mean_psnr, mean_ssim\n"
      ],
      "metadata": {
        "id": "Z4bPG2jBHEnS"
      },
      "execution_count": null,
      "outputs": []
    },
    {
      "cell_type": "code",
      "source": [
        "# Call the function to calculate the metrics\n",
        "mean_mse, mean_psnr, mean_ssim = calculate_metrics(us_path, mask_path, fused_path)\n",
        "\n",
        "# Print the results\n",
        "print(\"Mean MSE:\", mean_mse)\n",
        "print(\"Mean PSNR:\", mean_psnr)\n",
        "print(\"Mean SSIM:\", mean_ssim)"
      ],
      "metadata": {
        "colab": {
          "base_uri": "https://localhost:8080/"
        },
        "id": "Sb1g6JbxFHNQ",
        "outputId": "31bedd82-2083-4f6b-fce0-3830fa9f8fe4"
      },
      "execution_count": null,
      "outputs": [
        {
          "output_type": "stream",
          "name": "stdout",
          "text": [
            "Mean MSE: 0.036059055\n",
            "Mean PSNR: 27.99243999516554\n",
            "Mean SSIM: 0.7666144\n"
          ]
        }
      ]
    },
    {
      "cell_type": "markdown",
      "source": [
        "# PCA Fusion"
      ],
      "metadata": {
        "id": "8krcsyj9M-4w"
      }
    },
    {
      "cell_type": "code",
      "source": [
        "# Define a function to perform PCA-based image fusion\n",
        "def pca_fusion(us_image, mask_image):\n",
        "    # Convert the images to grayscale\n",
        "    us_gray = cv2.cvtColor(us_image, cv2.COLOR_BGR2GRAY)\n",
        "    mask_gray = cv2.cvtColor(mask_image, cv2.COLOR_BGR2GRAY)\n",
        "\n",
        "    # Compute the covariance matrix of the two images\n",
        "    cov = np.cov(np.stack([us_gray.flatten(), mask_gray.flatten()], axis=0))\n",
        "\n",
        "    # Compute the eigenvectors and eigenvalues of the covariance matrix\n",
        "    eig_vals, eig_vecs = np.linalg.eig(cov)\n",
        "\n",
        "    # Sort the eigenvectors in descending order of eigenvalues\n",
        "    sort_indices = np.argsort(eig_vals)[::-1]\n",
        "    eig_vecs_sorted = eig_vecs[:, sort_indices]\n",
        "\n",
        "    # Compute the fused image as a linear combination of the two input images\n",
        "    us_weight = eig_vecs_sorted[0, 0] / (eig_vecs_sorted[0, 0] + eig_vecs_sorted[0, 1])\n",
        "    mask_weight = eig_vecs_sorted[0, 1] / (eig_vecs_sorted[0, 0] + eig_vecs_sorted[0, 1])\n",
        "    fused_image = us_weight * us_gray + mask_weight * mask_gray\n",
        "\n",
        "    # Normalize the fused image to [0, 255] range\n",
        "    fused_image = cv2.normalize(fused_image, None, alpha=0, beta=255, norm_type=cv2.NORM_MINMAX, dtype=cv2.CV_8U)\n",
        "\n",
        "    return fused_image"
      ],
      "metadata": {
        "id": "ubmUJPHOI5DI"
      },
      "execution_count": null,
      "outputs": []
    },
    {
      "cell_type": "code",
      "source": [
        "# Define a function to calculate MSE, SSIM and PSNR\n",
        "def calculate_metrics(us_path, mask_path):\n",
        "    # Initialize arrays to store MSE, PSNR and SSIM values\n",
        "    mse_values = []\n",
        "    psnr_values = []\n",
        "    ssim_values = []\n",
        "\n",
        "    # Loop over each image file in the original US images and mask directories\n",
        "    for filename in os.listdir(us_path):\n",
        "        # Read in the original US image and mask, and perform PCA-based fusion\n",
        "        us_image = cv2.imread(os.path.join(us_path, filename))\n",
        "        mask_image = cv2.imread(os.path.join(mask_path, filename))\n",
        "        fused_image = pca_fusion(us_image, mask_image)\n",
        "\n",
        "        # Convert the original US image to grayscale\n",
        "        us_image_gray = cv2.cvtColor(us_image, cv2.COLOR_BGR2GRAY)\n",
        "\n",
        "        # Normalize the image data to [0, 1] range\n",
        "        us_image_norm = cv2.normalize(us_image_gray, None, alpha=0, beta=1, norm_type=cv2.NORM_MINMAX, dtype=cv2.CV_32F)\n",
        "        mask_image_norm = cv2.normalize(mask_image, None, alpha=0, beta=1, norm_type=cv2.NORM_MINMAX, dtype=cv2.CV_32F)\n",
        "        fused_image_norm = cv2.normalize(fused_image, None, alpha=0, beta=1, norm_type=cv2.NORM_MINMAX, dtype=cv2.CV_32F)\n",
        "\n",
        "        # Calculate MSE and PSNR between the original US image and mask, and the fused image\n",
        "        mse = np.mean((us_image_norm - fused_image_norm)**2)\n",
        "        psnr = calculate_psnr(os.path.join(us_path, filename), os.path.join(fused_path, filename))\n",
        "\n",
        "        mse_values.append(mse)\n",
        "        psnr_values.append(psnr)\n",
        "\n",
        "        # Calculate SSIM between the original US image and mask, and the fused image\n",
        "        ssim_value = ssim(us_image_norm, fused_image_norm)\n",
        "        ssim_values.append(ssim_value)\n",
        "\n",
        "    # Compute the mean MSE, PSNR, and SSIM values over all images\n",
        "    mean_mse = np.mean(mse_values)\n",
        "    mean_psnr = np.mean(psnr_values)\n",
        "    mean_ssim = np.mean(ssim_values)\n",
        "\n",
        "    return mean_mse, mean_psnr, mean_ssim\n"
      ],
      "metadata": {
        "id": "ZZwxQb8oJrl8"
      },
      "execution_count": null,
      "outputs": []
    },
    {
      "cell_type": "code",
      "source": [
        "# Call the function to calculate the metrics\n",
        "mean_mse, mean_psnr, mean_ssim = calculate_metrics(us_path, mask_path)\n",
        "\n",
        "# Print the results\n",
        "print(\"Mean MSE:\", mean_mse)\n",
        "print(\"Mean PSNR:\", mean_psnr)\n",
        "print(\"Mean SSIM:\", mean_ssim)"
      ],
      "metadata": {
        "colab": {
          "base_uri": "https://localhost:8080/"
        },
        "id": "P8rJFqYSJsiM",
        "outputId": "08ab255a-faa4-44f6-b135-bcde74680aa9"
      },
      "execution_count": null,
      "outputs": [
        {
          "output_type": "stream",
          "name": "stdout",
          "text": [
            "Mean MSE: 0.073905684\n",
            "Mean PSNR: 27.99243999516554\n",
            "Mean SSIM: 0.5445152100384141\n"
          ]
        }
      ]
    },
    {
      "cell_type": "markdown",
      "source": [
        "# DCT Fusion"
      ],
      "metadata": {
        "id": "6x_0IXc9NLnJ"
      }
    },
    {
      "cell_type": "code",
      "source": [
        "def dct_fusion(us_image, mask_image):\n",
        "    # Convert the images to grayscale\n",
        "    us_gray = cv2.cvtColor(us_image, cv2.COLOR_BGR2GRAY)\n",
        "    mask_gray = cv2.cvtColor(mask_image, cv2.COLOR_BGR2GRAY)\n",
        "\n",
        "    # Compute the Discrete Cosine Transform (DCT) of the two images\n",
        "    us_dct = cv2.dct(np.float32(us_gray)/255.0)\n",
        "    mask_dct = cv2.dct(np.float32(mask_gray)/255.0)\n",
        "\n",
        "    # Compute the magnitude of the DCT coefficients\n",
        "    us_mag = np.abs(us_dct)\n",
        "    mask_mag = np.abs(mask_dct)\n",
        "\n",
        "    # Compute the fused image by taking the maximum magnitude of each DCT coefficient\n",
        "    fused_mag = np.maximum(us_mag, mask_mag)\n",
        "\n",
        "    # Compute the Inverse Discrete Cosine Transform (IDCT) of the fused image\n",
        "    fused_image = cv2.idct(fused_mag)*255.0\n",
        "\n",
        "    # Normalize the fused image to [0, 255] range\n",
        "    fused_image = cv2.normalize(fused_image, None, alpha=0, beta=255, norm_type=cv2.NORM_MINMAX, dtype=cv2.CV_8U)\n",
        "\n",
        "    return fused_image"
      ],
      "metadata": {
        "id": "rCsCGeQHMEDO"
      },
      "execution_count": null,
      "outputs": []
    },
    {
      "cell_type": "code",
      "source": [
        "# Define a function to calculate MSE, SSIM and PSNR\n",
        "def calculate_metrics(us_path, mask_path):\n",
        "    # Initialize arrays to store MSE, PSNR and SSIM values\n",
        "    mse_values = []\n",
        "    psnr_values = []\n",
        "    ssim_values = []\n",
        "\n",
        "    # Loop over each image file in the original US images and mask directories\n",
        "    for filename in os.listdir(us_path):\n",
        "        # Read in the original US image and mask, and perform PCA-based fusion\n",
        "        us_image = cv2.imread(os.path.join(us_path, filename))\n",
        "        mask_image = cv2.imread(os.path.join(mask_path, filename))\n",
        "        fused_image = dct_fusion(us_image, mask_image)\n",
        "\n",
        "        # Convert the original US image to grayscale\n",
        "        us_image_gray = cv2.cvtColor(us_image, cv2.COLOR_BGR2GRAY)\n",
        "\n",
        "        # Normalize the image data to [0, 1] range\n",
        "        us_image_norm = cv2.normalize(us_image_gray, None, alpha=0, beta=1, norm_type=cv2.NORM_MINMAX, dtype=cv2.CV_32F)\n",
        "        mask_image_norm = cv2.normalize(mask_image, None, alpha=0, beta=1, norm_type=cv2.NORM_MINMAX, dtype=cv2.CV_32F)\n",
        "        fused_image_norm = cv2.normalize(fused_image, None, alpha=0, beta=1, norm_type=cv2.NORM_MINMAX, dtype=cv2.CV_32F)\n",
        "\n",
        "        # Calculate MSE and PSNR between the original US image and mask, and the fused image\n",
        "        mse = np.mean((us_image_norm - fused_image_norm)**2)\n",
        "        psnr = calculate_psnr(os.path.join(us_path, filename), os.path.join(fused_path, filename))\n",
        "\n",
        "        mse_values.append(mse)\n",
        "        psnr_values.append(psnr)\n",
        "\n",
        "        # Calculate SSIM between the original US image and mask, and the fused image\n",
        "        ssim_value = ssim(us_image_norm, fused_image_norm)\n",
        "        ssim_values.append(ssim_value)\n",
        "\n",
        "    # Compute the mean MSE, PSNR, and SSIM values over all images\n",
        "    mean_mse = np.mean(mse_values)\n",
        "    mean_psnr = np.mean(psnr_values)\n",
        "    mean_ssim = np.mean(ssim_values)\n",
        "\n",
        "    return mean_mse, mean_psnr, mean_ssim\n"
      ],
      "metadata": {
        "id": "yn4blqJoML5J"
      },
      "execution_count": null,
      "outputs": []
    },
    {
      "cell_type": "code",
      "source": [
        "# Call the function to calculate the metrics\n",
        "mean_mse, mean_psnr, mean_ssim = calculate_metrics(us_path, mask_path)\n",
        "\n",
        "# Print the results\n",
        "print(\"Mean MSE:\", mean_mse)\n",
        "print(\"Mean PSNR:\", mean_psnr)\n",
        "print(\"Mean SSIM:\", mean_ssim)"
      ],
      "metadata": {
        "colab": {
          "base_uri": "https://localhost:8080/"
        },
        "id": "qiFdcWNkMSBg",
        "outputId": "8bf614ef-9e0d-4f72-9b44-fcf3adb672c0"
      },
      "execution_count": null,
      "outputs": [
        {
          "output_type": "stream",
          "name": "stdout",
          "text": [
            "Mean MSE: 0.092999764\n",
            "Mean PSNR: 27.99243999516554\n",
            "Mean SSIM: 0.16395039541779605\n"
          ]
        }
      ]
    },
    {
      "cell_type": "markdown",
      "source": [
        "# Gradient Fusion"
      ],
      "metadata": {
        "id": "STJNiOJ1N7jX"
      }
    },
    {
      "cell_type": "code",
      "source": [
        "def gradient_fusion(us_image, mask_image):\n",
        "    # Convert the images to grayscale\n",
        "    us_gray = cv2.cvtColor(us_image, cv2.COLOR_BGR2GRAY)\n",
        "    mask_gray = cv2.cvtColor(mask_image, cv2.COLOR_BGR2GRAY)\n",
        "\n",
        "    # Compute the gradient magnitude of each image\n",
        "    us_grad_x = cv2.Sobel(us_gray, cv2.CV_64F, 1, 0, ksize=3)\n",
        "    us_grad_y = cv2.Sobel(us_gray, cv2.CV_64F, 0, 1, ksize=3)\n",
        "    us_grad_mag = np.sqrt(us_grad_x**2 + us_grad_y**2)\n",
        "\n",
        "    mask_grad_x = cv2.Sobel(mask_gray, cv2.CV_64F, 1, 0, ksize=3)\n",
        "    mask_grad_y = cv2.Sobel(mask_gray, cv2.CV_64F, 0, 1, ksize=3)\n",
        "    mask_grad_mag = np.sqrt(mask_grad_x**2 + mask_grad_y**2)\n",
        "\n",
        "    # Compute the fused image as a weighted sum of the gradient magnitudes\n",
        "    fused_grad_mag = 0.5*us_grad_mag + 0.5*mask_grad_mag\n",
        "\n",
        "    # Normalize the fused image to [0, 255] range\n",
        "    fused_image = cv2.normalize(fused_grad_mag, None, alpha=0, beta=255, norm_type=cv2.NORM_MINMAX, dtype=cv2.CV_8U)\n",
        "\n",
        "    return fused_image"
      ],
      "metadata": {
        "id": "nNtZxOTgN6MA"
      },
      "execution_count": null,
      "outputs": []
    },
    {
      "cell_type": "code",
      "source": [
        "# Define a function to calculate MSE, SSIM and PSNR\n",
        "def calculate_metrics(us_path, mask_path):\n",
        "    # Initialize arrays to store MSE, PSNR and SSIM values\n",
        "    mse_values = []\n",
        "    psnr_values = []\n",
        "    ssim_values = []\n",
        "\n",
        "    # Loop over each image file in the original US images and mask directories\n",
        "    for filename in os.listdir(us_path):\n",
        "        # Read in the original US image and mask, and perform PCA-based fusion\n",
        "        us_image = cv2.imread(os.path.join(us_path, filename))\n",
        "        mask_image = cv2.imread(os.path.join(mask_path, filename))\n",
        "        fused_image = gradient_fusion(us_image, mask_image)\n",
        "\n",
        "        # Convert the original US image to grayscale\n",
        "        us_image_gray = cv2.cvtColor(us_image, cv2.COLOR_BGR2GRAY)\n",
        "\n",
        "        # Normalize the image data to [0, 1] range\n",
        "        us_image_norm = cv2.normalize(us_image_gray, None, alpha=0, beta=1, norm_type=cv2.NORM_MINMAX, dtype=cv2.CV_32F)\n",
        "        mask_image_norm = cv2.normalize(mask_image, None, alpha=0, beta=1, norm_type=cv2.NORM_MINMAX, dtype=cv2.CV_32F)\n",
        "        fused_image_norm = cv2.normalize(fused_image, None, alpha=0, beta=1, norm_type=cv2.NORM_MINMAX, dtype=cv2.CV_32F)\n",
        "\n",
        "        # Calculate MSE and PSNR between the original US image and mask, and the fused image\n",
        "        mse = np.mean((us_image_norm - fused_image_norm)**2)\n",
        "        psnr = calculate_psnr(os.path.join(us_path, filename), os.path.join(fused_path, filename))\n",
        "\n",
        "        mse_values.append(mse)\n",
        "        psnr_values.append(psnr)\n",
        "\n",
        "        # Calculate SSIM between the original US image and mask, and the fused image\n",
        "        ssim_value = ssim(us_image_norm, fused_image_norm)\n",
        "        ssim_values.append(ssim_value)\n",
        "\n",
        "    # Compute the mean MSE, PSNR, and SSIM values over all images\n",
        "    mean_mse = np.mean(mse_values)\n",
        "    mean_psnr = np.mean(psnr_values)\n",
        "    mean_ssim = np.mean(ssim_values)\n",
        "\n",
        "    return mean_mse, mean_psnr, mean_ssim\n"
      ],
      "metadata": {
        "id": "jAhO0AT7OAsF"
      },
      "execution_count": null,
      "outputs": []
    },
    {
      "cell_type": "code",
      "source": [
        "# Call the function to calculate the metrics\n",
        "mean_mse, mean_psnr, mean_ssim = calculate_metrics(us_path, mask_path)\n",
        "\n",
        "# Print the results\n",
        "print(\"Mean MSE:\", mean_mse)\n",
        "print(\"Mean PSNR:\", mean_psnr)\n",
        "print(\"Mean SSIM:\", mean_ssim)"
      ],
      "metadata": {
        "colab": {
          "base_uri": "https://localhost:8080/"
        },
        "id": "zecUS304OEXO",
        "outputId": "d6851f07-847a-4880-d924-1f4c919e9140"
      },
      "execution_count": null,
      "outputs": [
        {
          "output_type": "stream",
          "name": "stdout",
          "text": [
            "Mean MSE: 0.076086484\n",
            "Mean PSNR: 27.99243999516554\n",
            "Mean SSIM: 0.24647591843617253\n"
          ]
        }
      ]
    }
  ]
}